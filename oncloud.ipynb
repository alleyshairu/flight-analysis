{
 "cells": [
  {
   "cell_type": "markdown",
   "metadata": {},
   "source": [
    "### Import Required Dependencies"
   ]
  },
  {
   "cell_type": "code",
   "execution_count": 1,
   "metadata": {
    "tags": []
   },
   "outputs": [
    {
     "name": "stdout",
     "output_type": "stream",
     "text": [
      "sagemaker.config INFO - Not applying SDK defaults from location: /etc/xdg/sagemaker/config.yaml\n",
      "sagemaker.config INFO - Not applying SDK defaults from location: /home/ec2-user/.config/sagemaker/config.yaml\n"
     ]
    }
   ],
   "source": [
    "import os\n",
    "import io\n",
    "import time\n",
    "import subprocess\n",
    "import numpy as np\n",
    "import pandas as pd\n",
    "\n",
    "import seaborn as sns\n",
    "sns.set()\n",
    "\n",
    "from pathlib2 import Path\n",
    "from zipfile import ZipFile\n",
    "import matplotlib.pyplot as plt\n",
    "from sklearn import metrics\n",
    "from sklearn import metrics\n",
    "from sklearn.metrics import confusion_matrix\n",
    "\n",
    "import warnings\n",
    "warnings.filterwarnings('ignore')\n",
    "\n",
    "import boto3\n",
    "import sagemaker\n",
    "from sagemaker.serializers import CSVSerializer\n",
    "from sagemaker.amazon.amazon_estimator import RecordSet\n",
    "\n",
    "%matplotlib inline"
   ]
  },
  {
   "cell_type": "markdown",
   "metadata": {},
   "source": [
    "### Required Instance Type"
   ]
  },
  {
   "cell_type": "code",
   "execution_count": 2,
   "metadata": {
    "tags": []
   },
   "outputs": [],
   "source": [
    "instance_type = 'ml.m4.xlarge'"
   ]
  },
  {
   "cell_type": "markdown",
   "metadata": {},
   "source": [
    "### Uploading and Preparing Data\n",
    "\n",
    "After creating a notebook in Amazon Sage Maker, I uploaded the files that I prepared in part A but as compressed files. The reason for compression is to speed up the upload process, as total size of the both the files is above 1GB, and the compressed file is around 18MB.\n",
    "\n",
    "I will unzip the files oncloud and then will use the files in my analysis."
   ]
  },
  {
   "cell_type": "code",
   "execution_count": 3,
   "metadata": {
    "tags": []
   },
   "outputs": [],
   "source": [
    "def zip2csv(zipFile_name , file_path):\n",
    "    \"\"\"\n",
    "    Extract csv from zip files\n",
    "    zipFile_name: name of the zip file\n",
    "    file_path : name of the folder to store csv\n",
    "    \"\"\"\n",
    "\n",
    "    try:\n",
    "        with ZipFile(zipFile_name, 'r') as z: \n",
    "            print(f'Extracting {zipFile_name} ') \n",
    "            z.extractall(path=file_path) \n",
    "    except:\n",
    "        print(f'zip2csv failed for {zipFile_name}')"
   ]
  },
  {
   "cell_type": "code",
   "execution_count": 4,
   "metadata": {
    "tags": []
   },
   "outputs": [
    {
     "name": "stdout",
     "output_type": "stream",
     "text": [
      "Extracting ./data.zip \n",
      "Files Extracted\n"
     ]
    }
   ],
   "source": [
    "zip2csv(\"./data.zip\", \"./\")\n",
    "print(\"Files Extracted\")"
   ]
  },
  {
   "cell_type": "markdown",
   "metadata": {},
   "source": [
    "### Train-test Split Helper Function"
   ]
  },
  {
   "cell_type": "code",
   "execution_count": 5,
   "metadata": {
    "tags": []
   },
   "outputs": [],
   "source": [
    "from sklearn.model_selection import train_test_split\n",
    "def split_data(data):\n",
    "    train, test_and_validate = train_test_split(data, test_size=0.3, random_state=42, stratify=data['target'])\n",
    "    test, validate = train_test_split(test_and_validate, test_size=0.5, random_state=42, stratify=test_and_validate['target'])\n",
    "    return train, validate, test"
   ]
  },
  {
   "cell_type": "markdown",
   "metadata": {},
   "source": [
    "### Get Bucket Assigned To NoteBook"
   ]
  },
  {
   "cell_type": "code",
   "execution_count": 6,
   "metadata": {
    "tags": []
   },
   "outputs": [
    {
     "name": "stdout",
     "output_type": "stream",
     "text": [
      "All Available Buckets: ['c135321a3429026l8207923t1w47111283793-flightbucket-vreapxxajllg', 'sagemaker-us-east-1-471112837934']\n",
      "Our Current Bucket is:  c135321a3429026l8207923t1w47111283793-flightbucket-vreapxxajllg\n"
     ]
    }
   ],
   "source": [
    "s3_client = boto3.client('s3')\n",
    "\n",
    "response = s3_client.list_buckets()\n",
    "buckets = [bucket['Name'] for bucket in response['Buckets']]\n",
    "print(\"All Available Buckets:\", buckets)\n",
    "bucket = buckets[0]\n",
    "print(\"Our Current Bucket is: \", bucket)"
   ]
  },
  {
   "cell_type": "markdown",
   "metadata": {},
   "source": [
    "### Upload Data to S3 Helper Function"
   ]
  },
  {
   "cell_type": "code",
   "execution_count": 7,
   "metadata": {
    "tags": []
   },
   "outputs": [],
   "source": [
    "s3_resource = boto3.Session().resource('s3')\n",
    "def upload_s3_csv(prefix, filename, folder, dataframe):\n",
    "    csv_buffer = io.StringIO()\n",
    "    dataframe.to_csv(csv_buffer, header=False, index=False)\n",
    "    s3_resource.Bucket(bucket).Object(os.path.join(prefix, folder, filename)).put(Body = csv_buffer.getvalue())"
   ]
  },
  {
   "cell_type": "markdown",
   "metadata": {},
   "source": [
    "### Confusion Matrix Plotting Helper Function"
   ]
  },
  {
   "cell_type": "code",
   "execution_count": 8,
   "metadata": {
    "tags": []
   },
   "outputs": [],
   "source": [
    "def plot_confusion_matrix(test_labels, target_predicted):\n",
    "    matrix = confusion_matrix(test_labels, target_predicted)\n",
    "    df_confusion = pd.DataFrame(matrix)\n",
    "    colormap = sns.color_palette(\"BrBG\", 10)\n",
    "    sns.heatmap(df_confusion, annot=True, fmt='.2f', cbar=None, cmap=colormap)\n",
    "    plt.title(\"Confusion Matrix\")\n",
    "    plt.tight_layout()\n",
    "    plt.ylabel(\"True Class\")\n",
    "    plt.xlabel(\"Predicted Class\")\n",
    "    plt.show()\n"
   ]
  },
  {
   "cell_type": "markdown",
   "metadata": {},
   "source": [
    "### ROC Plotting Helper Function"
   ]
  },
  {
   "cell_type": "code",
   "execution_count": 9,
   "metadata": {
    "tags": []
   },
   "outputs": [],
   "source": [
    "def plot_roc(test_labels, target_predicted, threshold=0.5):\n",
    "    binary_predictions = (target_predicted >= threshold).astype(int)\n",
    "    TN, FP, FN, TP = confusion_matrix(test_labels, binary_predictions).ravel()\n",
    "    Sensitivity = float(TP) / (TP + FN) * 100\n",
    "    Specificity = float(TN) / (TN + FP) * 100\n",
    "    Precision = float(TP) / (TP + FP) * 100\n",
    "    NPV = float(TN) / (TN + FN) * 100\n",
    "    FPR = float(FP) / (FP + TN) * 100\n",
    "    FNR = float(FN) / (TP + FN) * 100\n",
    "    FDR = float(FP) / (TP + FP) * 100\n",
    "    ACC = float(TP + TN) / (TP + FP + FN + TN) * 100\n",
    "    print(\"Sensitivity or TPR:\", Sensitivity, \"%\")\n",
    "    print(\"Specificity or TNR:\", Specificity, \"%\")\n",
    "    print(\"Precision:\", Precision, \"%\")\n",
    "    print(\"Negative Predictive Value:\", NPV, \"%\")\n",
    "    print(\"False Positive Rate:\", FPR, \"%\")\n",
    "    print(\"False Negative Rate:\", FNR, \"%\")\n",
    "    print(\"False Discovery Rate:\", FDR, \"%\")\n",
    "    print(\"Accuracy:\", ACC, \"%\")\n",
    "\n",
    "    auc_score = metrics.roc_auc_score(test_labels, target_predicted)\n",
    "    print(\"Validation AUC:\", auc_score)\n",
    "    \n",
    "    fpr, tpr, thresholds = metrics.roc_curve(test_labels, target_predicted)\n",
    "    roc_auc = metrics.auc(fpr, tpr)\n",
    "\n",
    "    # Plot ROC curve\n",
    "    plt.figure()\n",
    "    plt.plot(fpr, tpr, label='ROC curve (area = %0.2f)' % roc_auc)\n",
    "    plt.plot([0, 1], [0, 1], 'k--')\n",
    "    plt.xlim([0.0, 1.0])\n",
    "    plt.ylim([0.0, 1.05])\n",
    "    plt.xlabel('False Positive Rate')\n",
    "    plt.ylabel('True Positive Rate')\n",
    "    plt.title('Receiver Operating Characteristic')\n",
    "    plt.legend(loc=\"lower right\")\n",
    "\n",
    "    # Create the axis of thresholds (scores)\n",
    "    ax2 = plt.gca().twinx()\n",
    "    ax2.plot(fpr, thresholds, markeredgecolor='r', linestyle='dashed', color='r')\n",
    "    ax2.set_ylabel('Threshold', color='r')\n",
    "    ax2.set_ylim([0, 1])\n",
    "    ax2.set_xlim([fpr[0], fpr[-1]])\n",
    "\n",
    "    plt.show()"
   ]
  },
  {
   "cell_type": "markdown",
   "metadata": {},
   "source": [
    "## Starting Linear Estimator Analysis On `combined_csv_v1.csv`"
   ]
  },
  {
   "cell_type": "markdown",
   "metadata": {},
   "source": [
    "### Loading combined_csv_v1.csv Innto Pandas DataFrame"
   ]
  },
  {
   "cell_type": "code",
   "execution_count": 10,
   "metadata": {
    "tags": []
   },
   "outputs": [
    {
     "data": {
      "text/html": [
       "<div>\n",
       "<style scoped>\n",
       "    .dataframe tbody tr th:only-of-type {\n",
       "        vertical-align: middle;\n",
       "    }\n",
       "\n",
       "    .dataframe tbody tr th {\n",
       "        vertical-align: top;\n",
       "    }\n",
       "\n",
       "    .dataframe thead th {\n",
       "        text-align: right;\n",
       "    }\n",
       "</style>\n",
       "<table border=\"1\" class=\"dataframe\">\n",
       "  <thead>\n",
       "    <tr style=\"text-align: right;\">\n",
       "      <th></th>\n",
       "      <th>target</th>\n",
       "      <th>Distance</th>\n",
       "      <th>Quarter_2</th>\n",
       "      <th>Quarter_3</th>\n",
       "      <th>Quarter_4</th>\n",
       "      <th>Month_2</th>\n",
       "      <th>Month_3</th>\n",
       "      <th>Month_4</th>\n",
       "      <th>Month_5</th>\n",
       "      <th>Month_6</th>\n",
       "      <th>...</th>\n",
       "      <th>Dest_DEN</th>\n",
       "      <th>Dest_DFW</th>\n",
       "      <th>Dest_IAH</th>\n",
       "      <th>Dest_LAX</th>\n",
       "      <th>Dest_ORD</th>\n",
       "      <th>Dest_PHX</th>\n",
       "      <th>Dest_SFO</th>\n",
       "      <th>DepHourofDay_bucket_evening</th>\n",
       "      <th>DepHourofDay_bucket_morning</th>\n",
       "      <th>DepHourofDay_bucket_night</th>\n",
       "    </tr>\n",
       "  </thead>\n",
       "  <tbody>\n",
       "    <tr>\n",
       "      <th>0</th>\n",
       "      <td>0.0</td>\n",
       "      <td>689.0</td>\n",
       "      <td>0</td>\n",
       "      <td>0</td>\n",
       "      <td>0</td>\n",
       "      <td>0</td>\n",
       "      <td>0</td>\n",
       "      <td>0</td>\n",
       "      <td>0</td>\n",
       "      <td>0</td>\n",
       "      <td>...</td>\n",
       "      <td>0</td>\n",
       "      <td>0</td>\n",
       "      <td>1</td>\n",
       "      <td>0</td>\n",
       "      <td>0</td>\n",
       "      <td>0</td>\n",
       "      <td>0</td>\n",
       "      <td>0</td>\n",
       "      <td>0</td>\n",
       "      <td>1</td>\n",
       "    </tr>\n",
       "    <tr>\n",
       "      <th>1</th>\n",
       "      <td>0.0</td>\n",
       "      <td>731.0</td>\n",
       "      <td>0</td>\n",
       "      <td>0</td>\n",
       "      <td>0</td>\n",
       "      <td>0</td>\n",
       "      <td>0</td>\n",
       "      <td>0</td>\n",
       "      <td>0</td>\n",
       "      <td>0</td>\n",
       "      <td>...</td>\n",
       "      <td>0</td>\n",
       "      <td>0</td>\n",
       "      <td>0</td>\n",
       "      <td>0</td>\n",
       "      <td>0</td>\n",
       "      <td>0</td>\n",
       "      <td>0</td>\n",
       "      <td>0</td>\n",
       "      <td>1</td>\n",
       "      <td>0</td>\n",
       "    </tr>\n",
       "    <tr>\n",
       "      <th>2</th>\n",
       "      <td>0.0</td>\n",
       "      <td>1199.0</td>\n",
       "      <td>0</td>\n",
       "      <td>0</td>\n",
       "      <td>0</td>\n",
       "      <td>0</td>\n",
       "      <td>0</td>\n",
       "      <td>0</td>\n",
       "      <td>0</td>\n",
       "      <td>0</td>\n",
       "      <td>...</td>\n",
       "      <td>1</td>\n",
       "      <td>0</td>\n",
       "      <td>0</td>\n",
       "      <td>0</td>\n",
       "      <td>0</td>\n",
       "      <td>0</td>\n",
       "      <td>0</td>\n",
       "      <td>0</td>\n",
       "      <td>0</td>\n",
       "      <td>1</td>\n",
       "    </tr>\n",
       "    <tr>\n",
       "      <th>3</th>\n",
       "      <td>0.0</td>\n",
       "      <td>1587.0</td>\n",
       "      <td>0</td>\n",
       "      <td>0</td>\n",
       "      <td>0</td>\n",
       "      <td>0</td>\n",
       "      <td>0</td>\n",
       "      <td>0</td>\n",
       "      <td>0</td>\n",
       "      <td>0</td>\n",
       "      <td>...</td>\n",
       "      <td>0</td>\n",
       "      <td>0</td>\n",
       "      <td>0</td>\n",
       "      <td>0</td>\n",
       "      <td>0</td>\n",
       "      <td>1</td>\n",
       "      <td>0</td>\n",
       "      <td>1</td>\n",
       "      <td>0</td>\n",
       "      <td>0</td>\n",
       "    </tr>\n",
       "    <tr>\n",
       "      <th>4</th>\n",
       "      <td>0.0</td>\n",
       "      <td>1587.0</td>\n",
       "      <td>0</td>\n",
       "      <td>0</td>\n",
       "      <td>0</td>\n",
       "      <td>0</td>\n",
       "      <td>0</td>\n",
       "      <td>0</td>\n",
       "      <td>0</td>\n",
       "      <td>0</td>\n",
       "      <td>...</td>\n",
       "      <td>0</td>\n",
       "      <td>0</td>\n",
       "      <td>0</td>\n",
       "      <td>0</td>\n",
       "      <td>0</td>\n",
       "      <td>0</td>\n",
       "      <td>0</td>\n",
       "      <td>0</td>\n",
       "      <td>1</td>\n",
       "      <td>0</td>\n",
       "    </tr>\n",
       "  </tbody>\n",
       "</table>\n",
       "<p>5 rows × 75 columns</p>\n",
       "</div>"
      ],
      "text/plain": [
       "   target  Distance  Quarter_2  Quarter_3  Quarter_4  Month_2  Month_3  \\\n",
       "0     0.0     689.0          0          0          0        0        0   \n",
       "1     0.0     731.0          0          0          0        0        0   \n",
       "2     0.0    1199.0          0          0          0        0        0   \n",
       "3     0.0    1587.0          0          0          0        0        0   \n",
       "4     0.0    1587.0          0          0          0        0        0   \n",
       "\n",
       "   Month_4  Month_5  Month_6  ...  Dest_DEN  Dest_DFW  Dest_IAH  Dest_LAX  \\\n",
       "0        0        0        0  ...         0         0         1         0   \n",
       "1        0        0        0  ...         0         0         0         0   \n",
       "2        0        0        0  ...         1         0         0         0   \n",
       "3        0        0        0  ...         0         0         0         0   \n",
       "4        0        0        0  ...         0         0         0         0   \n",
       "\n",
       "   Dest_ORD  Dest_PHX  Dest_SFO  DepHourofDay_bucket_evening  \\\n",
       "0         0         0         0                            0   \n",
       "1         0         0         0                            0   \n",
       "2         0         0         0                            0   \n",
       "3         0         1         0                            1   \n",
       "4         0         0         0                            0   \n",
       "\n",
       "   DepHourofDay_bucket_morning  DepHourofDay_bucket_night  \n",
       "0                            0                          1  \n",
       "1                            1                          0  \n",
       "2                            0                          1  \n",
       "3                            0                          0  \n",
       "4                            1                          0  \n",
       "\n",
       "[5 rows x 75 columns]"
      ]
     },
     "execution_count": 10,
     "metadata": {},
     "output_type": "execute_result"
    }
   ],
   "source": [
    "df1 = pd.read_csv(\"./combined_csv_v1.csv\")\n",
    "df1.head()"
   ]
  },
  {
   "cell_type": "markdown",
   "metadata": {},
   "source": [
    "### Splitting combined_csv_v1.csv data into training, validation, and testing sets"
   ]
  },
  {
   "cell_type": "code",
   "execution_count": 11,
   "metadata": {
    "tags": []
   },
   "outputs": [
    {
     "name": "stdout",
     "output_type": "stream",
     "text": [
      "0.0    904581\n",
      "1.0    240332\n",
      "Name: target, dtype: int64\n",
      "0.0    193838\n",
      "1.0     51500\n",
      "Name: target, dtype: int64\n",
      "0.0    193839\n",
      "1.0     51500\n",
      "Name: target, dtype: int64\n"
     ]
    }
   ],
   "source": [
    "train_v1, validate_v1, test_v1 = split_data(df1)\n",
    "print(train_v1['target'].value_counts())\n",
    "print(test_v1['target'].value_counts())\n",
    "print(validate_v1['target'].value_counts())"
   ]
  },
  {
   "cell_type": "markdown",
   "metadata": {},
   "source": [
    "### First Classification Model Instance"
   ]
  },
  {
   "cell_type": "code",
   "execution_count": 12,
   "metadata": {
    "tags": []
   },
   "outputs": [],
   "source": [
    "classifier_estimator = sagemaker.LinearLearner(\n",
    "    role = sagemaker.get_execution_role(),\n",
    "    instance_count=1,\n",
    "    instance_type=instance_type,\n",
    "    predictor_type='binary_classifier',\n",
    "    binary_classifier_model_selection_criteria = 'cross_entropy_loss'\n",
    ")"
   ]
  },
  {
   "cell_type": "markdown",
   "metadata": {},
   "source": [
    "### Converts first classifier data into a SageMaker RecordSet format"
   ]
  },
  {
   "cell_type": "code",
   "execution_count": 13,
   "metadata": {
    "tags": []
   },
   "outputs": [],
   "source": [
    "train_records_v1 = classifier_estimator.record_set(train_v1.values[:, 1:].astype(np.float32), train_v1.values[:, 0].astype(np.float32), channel='train')\n",
    "val_records_v1 = classifier_estimator.record_set(validate_v1.values[:, 1:].astype(np.float32), validate_v1.values[:, 0].astype(np.float32), channel='validation')\n",
    "test_records_v1 = classifier_estimator.record_set(test_v1.values[:, 1:].astype(np.float32), test_v1.values[:, 0].astype(np.float32), channel='test')"
   ]
  },
  {
   "cell_type": "markdown",
   "metadata": {},
   "source": [
    "### Initialize First LinearLearner Classifier Training Job"
   ]
  },
  {
   "cell_type": "code",
   "execution_count": 14,
   "metadata": {
    "tags": []
   },
   "outputs": [
    {
     "name": "stderr",
     "output_type": "stream",
     "text": [
      "INFO:sagemaker.image_uris:Same images used for training and inference. Defaulting to image scope: inference.\n",
      "INFO:sagemaker.image_uris:Ignoring unnecessary instance type: None.\n",
      "INFO:sagemaker:Creating training-job with name: linear-learner-2024-11-03-01-19-51-640\n"
     ]
    },
    {
     "name": "stdout",
     "output_type": "stream",
     "text": [
      "\n",
      "2024-11-03 01:19:53 Starting - Starting the training job..\n",
      "2024-11-03 01:20:08 Starting - Preparing the instances for training...\n",
      "2024-11-03 01:20:31 Downloading - Downloading input data.......\n",
      "2024-11-03 01:21:12 Downloading - Downloading the training image............\n",
      "2024-11-03 01:22:18 Training - Training image download completed. Training in progress.......................................\n",
      "2024-11-03 01:25:34 Uploading - Uploading generated training model.\n",
      "2024-11-03 01:25:42 Completed - Training job completed\n"
     ]
    }
   ],
   "source": [
    "classifier_estimator.fit([train_records_v1,val_records_v1,test_records_v1], logs=False)"
   ]
  },
  {
   "cell_type": "markdown",
   "metadata": {},
   "source": [
    "### First Linearlearner CLassifier Model Evaluation"
   ]
  },
  {
   "cell_type": "code",
   "execution_count": 15,
   "metadata": {
    "tags": []
   },
   "outputs": [
    {
     "data": {
      "text/html": [
       "<div>\n",
       "<style scoped>\n",
       "    .dataframe tbody tr th:only-of-type {\n",
       "        vertical-align: middle;\n",
       "    }\n",
       "\n",
       "    .dataframe tbody tr th {\n",
       "        vertical-align: top;\n",
       "    }\n",
       "\n",
       "    .dataframe thead th {\n",
       "        text-align: right;\n",
       "    }\n",
       "</style>\n",
       "<table border=\"1\" class=\"dataframe\">\n",
       "  <thead>\n",
       "    <tr style=\"text-align: right;\">\n",
       "      <th></th>\n",
       "      <th>timestamp</th>\n",
       "      <th>metric_name</th>\n",
       "      <th>value</th>\n",
       "    </tr>\n",
       "  </thead>\n",
       "  <tbody>\n",
       "    <tr>\n",
       "      <th>0</th>\n",
       "      <td>0.0</td>\n",
       "      <td>test:objective_loss</td>\n",
       "      <td>0.495700</td>\n",
       "    </tr>\n",
       "    <tr>\n",
       "      <th>1</th>\n",
       "      <td>0.0</td>\n",
       "      <td>test:binary_f_beta</td>\n",
       "      <td>0.005253</td>\n",
       "    </tr>\n",
       "    <tr>\n",
       "      <th>2</th>\n",
       "      <td>0.0</td>\n",
       "      <td>test:precision</td>\n",
       "      <td>0.483986</td>\n",
       "    </tr>\n",
       "    <tr>\n",
       "      <th>3</th>\n",
       "      <td>0.0</td>\n",
       "      <td>test:recall</td>\n",
       "      <td>0.002641</td>\n",
       "    </tr>\n",
       "  </tbody>\n",
       "</table>\n",
       "</div>"
      ],
      "text/plain": [
       "   timestamp          metric_name     value\n",
       "0        0.0  test:objective_loss  0.495700\n",
       "1        0.0   test:binary_f_beta  0.005253\n",
       "2        0.0       test:precision  0.483986\n",
       "3        0.0          test:recall  0.002641"
      ]
     },
     "execution_count": 15,
     "metadata": {},
     "output_type": "execute_result"
    }
   ],
   "source": [
    "sagemaker.analytics.TrainingJobAnalytics(\n",
    "    classifier_estimator._current_job_name, \n",
    "    metric_names = ['test:objective_loss', 'test:binary_f_beta', 'test:precision', 'test:recall']\n",
    ").dataframe()"
   ]
  },
  {
   "cell_type": "markdown",
   "metadata": {},
   "source": [
    "### Batch LinearLearner Prediction Helper Output Helper Function"
   ]
  },
  {
   "cell_type": "code",
   "execution_count": 16,
   "metadata": {
    "tags": []
   },
   "outputs": [],
   "source": [
    "def batch_linear_predict(prefix, test_data, estimator):\n",
    "    batch_X = test_data.iloc[:,1:];\n",
    "    batch_X_file='batch-in.csv'\n",
    "    upload_s3_csv(prefix, batch_X_file, 'batch-in', batch_X)\n",
    "\n",
    "    batch_output = \"s3://{}/{}/batch-out/\".format(bucket,prefix)\n",
    "    batch_input = \"s3://{}/{}/batch-in/{}\".format(bucket,prefix,batch_X_file)\n",
    "\n",
    "    classifier_transformer = estimator.transformer(\n",
    "        instance_count=1,\n",
    "        instance_type='ml.m4.xlarge',\n",
    "        strategy='MultiRecord',\n",
    "        assemble_with='Line',\n",
    "        output_path=batch_output,\n",
    "    )\n",
    "\n",
    "    classifier_transformer.transform(\n",
    "        data=batch_input,\n",
    "        data_type='S3Prefix',\n",
    "        content_type='text/csv',\n",
    "        split_type='Line',\n",
    "    )\n",
    "\n",
    "    classifier_transformer.wait()\n",
    "    s3 = boto3.client('s3')\n",
    "    obj = s3.get_object(Bucket=bucket, Key=\"{}/batch-out/{}\".format(prefix,'batch-in.csv.out'))\n",
    "    target_predicted_df = pd.read_json(io.BytesIO(obj['Body'].read()),orient=\"records\",lines=True)\n",
    "    return test_data.iloc[:,0], target_predicted_df.iloc[:,0]"
   ]
  },
  {
   "cell_type": "markdown",
   "metadata": {},
   "source": [
    "### First LinearLearner Prediction Output"
   ]
  },
  {
   "cell_type": "code",
   "execution_count": 17,
   "metadata": {
    "tags": []
   },
   "outputs": [
    {
     "name": "stderr",
     "output_type": "stream",
     "text": [
      "INFO:sagemaker.image_uris:Same images used for training and inference. Defaulting to image scope: inference.\n",
      "INFO:sagemaker.image_uris:Ignoring unnecessary instance type: None.\n",
      "INFO:sagemaker:Creating model with name: linear-learner-2024-11-03-01-25-48-923\n",
      "INFO:sagemaker:Creating transform job with name: linear-learner-2024-11-03-01-25-49-510\n"
     ]
    },
    {
     "name": "stdout",
     "output_type": "stream",
     "text": [
      "..........................................\n",
      "\u001b[34mDocker entrypoint called with argument(s): serve\u001b[0m\n",
      "\u001b[34mRunning default environment configuration script\u001b[0m\n",
      "\u001b[34m[11/03/2024 01:32:50 INFO 140181034751808] Memory profiler is not enabled by the environment variable ENABLE_PROFILER.\u001b[0m\n",
      "\u001b[35mDocker entrypoint called with argument(s): serve\u001b[0m\n",
      "\u001b[35mRunning default environment configuration script\u001b[0m\n",
      "\u001b[35m[11/03/2024 01:32:50 INFO 140181034751808] Memory profiler is not enabled by the environment variable ENABLE_PROFILER.\u001b[0m\n",
      "\u001b[34m/opt/amazon/lib/python3.8/site-packages/mxnet/model.py:97: SyntaxWarning: \"is\" with a literal. Did you mean \"==\"?\n",
      "  if num_device is 1 and 'dist' not in kvstore:\u001b[0m\n",
      "\u001b[35m/opt/amazon/lib/python3.8/site-packages/mxnet/model.py:97: SyntaxWarning: \"is\" with a literal. Did you mean \"==\"?\n",
      "  if num_device is 1 and 'dist' not in kvstore:\u001b[0m\n",
      "\u001b[34m/opt/amazon/lib/python3.8/site-packages/scipy/optimize/_shgo.py:495: SyntaxWarning: \"is\" with a literal. Did you mean \"==\"?\n",
      "  if cons['type'] is 'ineq':\u001b[0m\n",
      "\u001b[34m/opt/amazon/lib/python3.8/site-packages/scipy/optimize/_shgo.py:743: SyntaxWarning: \"is not\" with a literal. Did you mean \"!=\"?\n",
      "  if len(self.X_min) is not 0:\u001b[0m\n",
      "\u001b[35m/opt/amazon/lib/python3.8/site-packages/scipy/optimize/_shgo.py:495: SyntaxWarning: \"is\" with a literal. Did you mean \"==\"?\n",
      "  if cons['type'] is 'ineq':\u001b[0m\n",
      "\u001b[35m/opt/amazon/lib/python3.8/site-packages/scipy/optimize/_shgo.py:743: SyntaxWarning: \"is not\" with a literal. Did you mean \"!=\"?\n",
      "  if len(self.X_min) is not 0:\u001b[0m\n",
      "\u001b[34m[11/03/2024 01:32:53 WARNING 140181034751808] Loggers have already been setup.\u001b[0m\n",
      "\u001b[34m[11/03/2024 01:32:53 INFO 140181034751808] loaded entry point class algorithm.serve.server_config:config_api\u001b[0m\n",
      "\u001b[34m[11/03/2024 01:32:53 INFO 140181034751808] loading entry points\u001b[0m\n",
      "\u001b[34m[11/03/2024 01:32:53 INFO 140181034751808] loaded request iterator application/json\u001b[0m\n",
      "\u001b[34m[11/03/2024 01:32:53 INFO 140181034751808] loaded request iterator application/jsonlines\u001b[0m\n",
      "\u001b[34m[11/03/2024 01:32:53 INFO 140181034751808] loaded request iterator application/x-recordio-protobuf\u001b[0m\n",
      "\u001b[34m[11/03/2024 01:32:53 INFO 140181034751808] loaded request iterator text/csv\u001b[0m\n",
      "\u001b[34m[11/03/2024 01:32:53 INFO 140181034751808] loaded response encoder application/json\u001b[0m\n",
      "\u001b[34m[11/03/2024 01:32:53 INFO 140181034751808] loaded response encoder application/jsonlines\u001b[0m\n",
      "\u001b[34m[11/03/2024 01:32:53 INFO 140181034751808] loaded response encoder application/x-recordio-protobuf\u001b[0m\n",
      "\u001b[34m[11/03/2024 01:32:53 INFO 140181034751808] loaded response encoder text/csv\u001b[0m\n",
      "\u001b[35m[11/03/2024 01:32:53 WARNING 140181034751808] Loggers have already been setup.\u001b[0m\n",
      "\u001b[35m[11/03/2024 01:32:53 INFO 140181034751808] loaded entry point class algorithm.serve.server_config:config_api\u001b[0m\n",
      "\u001b[35m[11/03/2024 01:32:53 INFO 140181034751808] loading entry points\u001b[0m\n",
      "\u001b[35m[11/03/2024 01:32:53 INFO 140181034751808] loaded request iterator application/json\u001b[0m\n",
      "\u001b[35m[11/03/2024 01:32:53 INFO 140181034751808] loaded request iterator application/jsonlines\u001b[0m\n",
      "\u001b[35m[11/03/2024 01:32:53 INFO 140181034751808] loaded request iterator application/x-recordio-protobuf\u001b[0m\n",
      "\u001b[35m[11/03/2024 01:32:53 INFO 140181034751808] loaded request iterator text/csv\u001b[0m\n",
      "\u001b[35m[11/03/2024 01:32:53 INFO 140181034751808] loaded response encoder application/json\u001b[0m\n",
      "\u001b[35m[11/03/2024 01:32:53 INFO 140181034751808] loaded response encoder application/jsonlines\u001b[0m\n",
      "\u001b[35m[11/03/2024 01:32:53 INFO 140181034751808] loaded response encoder application/x-recordio-protobuf\u001b[0m\n",
      "\u001b[35m[11/03/2024 01:32:53 INFO 140181034751808] loaded response encoder text/csv\u001b[0m\n",
      "\u001b[34m[11/03/2024 01:32:54 INFO 140181034751808] loaded entry point class algorithm:model\u001b[0m\n",
      "\u001b[34m[11/03/2024 01:32:54 INFO 140181034751808] Number of server workers: 4\u001b[0m\n",
      "\u001b[34m[11/03/2024 01:32:54 INFO 140181034751808] loading model...\u001b[0m\n",
      "\u001b[34m[11/03/2024 01:32:54 INFO 140181034751808] ...model loaded.\u001b[0m\n",
      "\u001b[34m[2024-11-03 01:32:54 +0000] [1] [INFO] Starting gunicorn 20.1.0\u001b[0m\n",
      "\u001b[34m[2024-11-03 01:32:54 +0000] [1] [INFO] Listening at: http://0.0.0.0:8080 (1)\u001b[0m\n",
      "\u001b[34m[2024-11-03 01:32:54 +0000] [1] [INFO] Using worker: sync\u001b[0m\n",
      "\u001b[34m[2024-11-03 01:32:54 +0000] [43] [INFO] Booting worker with pid: 43\u001b[0m\n",
      "\u001b[34m[2024-11-03 01:32:54 +0000] [52] [INFO] Booting worker with pid: 52\u001b[0m\n",
      "\u001b[34m[2024-11-03 01:32:54 +0000] [61] [INFO] Booting worker with pid: 61\u001b[0m\n",
      "\u001b[34m[2024-11-03 01:32:54 +0000] [70] [INFO] Booting worker with pid: 70\u001b[0m\n",
      "\u001b[35m[11/03/2024 01:32:54 INFO 140181034751808] loaded entry point class algorithm:model\u001b[0m\n",
      "\u001b[35m[11/03/2024 01:32:54 INFO 140181034751808] Number of server workers: 4\u001b[0m\n",
      "\u001b[35m[11/03/2024 01:32:54 INFO 140181034751808] loading model...\u001b[0m\n",
      "\u001b[35m[11/03/2024 01:32:54 INFO 140181034751808] ...model loaded.\u001b[0m\n",
      "\u001b[35m[2024-11-03 01:32:54 +0000] [1] [INFO] Starting gunicorn 20.1.0\u001b[0m\n",
      "\u001b[35m[2024-11-03 01:32:54 +0000] [1] [INFO] Listening at: http://0.0.0.0:8080 (1)\u001b[0m\n",
      "\u001b[35m[2024-11-03 01:32:54 +0000] [1] [INFO] Using worker: sync\u001b[0m\n",
      "\u001b[35m[2024-11-03 01:32:54 +0000] [43] [INFO] Booting worker with pid: 43\u001b[0m\n",
      "\u001b[35m[2024-11-03 01:32:54 +0000] [52] [INFO] Booting worker with pid: 52\u001b[0m\n",
      "\u001b[35m[2024-11-03 01:32:54 +0000] [61] [INFO] Booting worker with pid: 61\u001b[0m\n",
      "\u001b[35m[2024-11-03 01:32:54 +0000] [70] [INFO] Booting worker with pid: 70\u001b[0m\n",
      "\u001b[34m#metrics {\"StartTime\": 1730597574.053901, \"EndTime\": 1730597574.865243, \"Dimensions\": {\"Algorithm\": \"LinearLearnerModel\", \"Host\": \"UNKNOWN\", \"Operation\": \"scoring\"}, \"Metrics\": {\"execution_parameters.count\": {\"sum\": 1.0, \"count\": 1, \"min\": 1, \"max\": 1}}}\u001b[0m\n",
      "\u001b[35m#metrics {\"StartTime\": 1730597574.053901, \"EndTime\": 1730597574.865243, \"Dimensions\": {\"Algorithm\": \"LinearLearnerModel\", \"Host\": \"UNKNOWN\", \"Operation\": \"scoring\"}, \"Metrics\": {\"execution_parameters.count\": {\"sum\": 1.0, \"count\": 1, \"min\": 1, \"max\": 1}}}\u001b[0m\n",
      "\u001b[32m2024-11-03T01:32:54.871:[sagemaker logs]: MaxConcurrentTransforms=4, MaxPayloadInMB=6, BatchStrategy=MULTI_RECORD\u001b[0m\n",
      "\u001b[34m#metrics {\"StartTime\": 1730597574.053901, \"EndTime\": 1730597577.6776738, \"Dimensions\": {\"Algorithm\": \"LinearLearnerModel\", \"Host\": \"UNKNOWN\", \"Operation\": \"scoring\"}, \"Metrics\": {\"json.encoder.time\": {\"sum\": 151.29542350769043, \"count\": 1, \"min\": 151.29542350769043, \"max\": 151.29542350769043}, \"invocations.count\": {\"sum\": 1.0, \"count\": 1, \"min\": 1, \"max\": 1}}}\u001b[0m\n",
      "\u001b[34m#metrics {\"StartTime\": 1730597574.053901, \"EndTime\": 1730597577.7007508, \"Dimensions\": {\"Algorithm\": \"LinearLearnerModel\", \"Host\": \"UNKNOWN\", \"Operation\": \"scoring\"}, \"Metrics\": {\"json.encoder.time\": {\"sum\": 154.18577194213867, \"count\": 1, \"min\": 154.18577194213867, \"max\": 154.18577194213867}, \"invocations.count\": {\"sum\": 1.0, \"count\": 1, \"min\": 1, \"max\": 1}}}\u001b[0m\n",
      "\u001b[34m#metrics {\"StartTime\": 1730597574.8654113, \"EndTime\": 1730597577.7364056, \"Dimensions\": {\"Algorithm\": \"LinearLearnerModel\", \"Host\": \"UNKNOWN\", \"Operation\": \"scoring\"}, \"Metrics\": {\"json.encoder.time\": {\"sum\": 154.6947956085205, \"count\": 1, \"min\": 154.6947956085205, \"max\": 154.6947956085205}, \"invocations.count\": {\"sum\": 1.0, \"count\": 1, \"min\": 1, \"max\": 1}}}\u001b[0m\n",
      "\u001b[35m#metrics {\"StartTime\": 1730597574.053901, \"EndTime\": 1730597577.6776738, \"Dimensions\": {\"Algorithm\": \"LinearLearnerModel\", \"Host\": \"UNKNOWN\", \"Operation\": \"scoring\"}, \"Metrics\": {\"json.encoder.time\": {\"sum\": 151.29542350769043, \"count\": 1, \"min\": 151.29542350769043, \"max\": 151.29542350769043}, \"invocations.count\": {\"sum\": 1.0, \"count\": 1, \"min\": 1, \"max\": 1}}}\u001b[0m\n",
      "\u001b[35m#metrics {\"StartTime\": 1730597574.053901, \"EndTime\": 1730597577.7007508, \"Dimensions\": {\"Algorithm\": \"LinearLearnerModel\", \"Host\": \"UNKNOWN\", \"Operation\": \"scoring\"}, \"Metrics\": {\"json.encoder.time\": {\"sum\": 154.18577194213867, \"count\": 1, \"min\": 154.18577194213867, \"max\": 154.18577194213867}, \"invocations.count\": {\"sum\": 1.0, \"count\": 1, \"min\": 1, \"max\": 1}}}\u001b[0m\n",
      "\u001b[35m#metrics {\"StartTime\": 1730597574.8654113, \"EndTime\": 1730597577.7364056, \"Dimensions\": {\"Algorithm\": \"LinearLearnerModel\", \"Host\": \"UNKNOWN\", \"Operation\": \"scoring\"}, \"Metrics\": {\"json.encoder.time\": {\"sum\": 154.6947956085205, \"count\": 1, \"min\": 154.6947956085205, \"max\": 154.6947956085205}, \"invocations.count\": {\"sum\": 1.0, \"count\": 1, \"min\": 1, \"max\": 1}}}\u001b[0m\n",
      "\u001b[34m#metrics {\"StartTime\": 1730597574.053901, \"EndTime\": 1730597577.7394557, \"Dimensions\": {\"Algorithm\": \"LinearLearnerModel\", \"Host\": \"UNKNOWN\", \"Operation\": \"scoring\"}, \"Metrics\": {\"json.encoder.time\": {\"sum\": 154.03127670288086, \"count\": 1, \"min\": 154.03127670288086, \"max\": 154.03127670288086}, \"invocations.count\": {\"sum\": 1.0, \"count\": 1, \"min\": 1, \"max\": 1}}}\u001b[0m\n",
      "\u001b[35m#metrics {\"StartTime\": 1730597574.053901, \"EndTime\": 1730597577.7394557, \"Dimensions\": {\"Algorithm\": \"LinearLearnerModel\", \"Host\": \"UNKNOWN\", \"Operation\": \"scoring\"}, \"Metrics\": {\"json.encoder.time\": {\"sum\": 154.03127670288086, \"count\": 1, \"min\": 154.03127670288086, \"max\": 154.03127670288086}, \"invocations.count\": {\"sum\": 1.0, \"count\": 1, \"min\": 1, \"max\": 1}}}\u001b[0m\n",
      "\u001b[34m#metrics {\"StartTime\": 1730597577.678315, \"EndTime\": 1730597578.6629488, \"Dimensions\": {\"Algorithm\": \"LinearLearnerModel\", \"Host\": \"UNKNOWN\", \"Operation\": \"scoring\"}, \"Metrics\": {\"json.encoder.time\": {\"sum\": 76.57432556152344, \"count\": 1, \"min\": 76.57432556152344, \"max\": 76.57432556152344}, \"invocations.count\": {\"sum\": 1.0, \"count\": 1, \"min\": 1, \"max\": 1}}}\u001b[0m\n",
      "\u001b[34m#metrics {\"StartTime\": 1730597577.7365217, \"EndTime\": 1730597578.695293, \"Dimensions\": {\"Algorithm\": \"LinearLearnerModel\", \"Host\": \"UNKNOWN\", \"Operation\": \"scoring\"}, \"Metrics\": {\"json.encoder.time\": {\"sum\": 82.06629753112793, \"count\": 1, \"min\": 82.06629753112793, \"max\": 82.06629753112793}, \"invocations.count\": {\"sum\": 1.0, \"count\": 1, \"min\": 1, \"max\": 1}}}\u001b[0m\n",
      "\u001b[35m#metrics {\"StartTime\": 1730597577.678315, \"EndTime\": 1730597578.6629488, \"Dimensions\": {\"Algorithm\": \"LinearLearnerModel\", \"Host\": \"UNKNOWN\", \"Operation\": \"scoring\"}, \"Metrics\": {\"json.encoder.time\": {\"sum\": 76.57432556152344, \"count\": 1, \"min\": 76.57432556152344, \"max\": 76.57432556152344}, \"invocations.count\": {\"sum\": 1.0, \"count\": 1, \"min\": 1, \"max\": 1}}}\u001b[0m\n",
      "\u001b[35m#metrics {\"StartTime\": 1730597577.7365217, \"EndTime\": 1730597578.695293, \"Dimensions\": {\"Algorithm\": \"LinearLearnerModel\", \"Host\": \"UNKNOWN\", \"Operation\": \"scoring\"}, \"Metrics\": {\"json.encoder.time\": {\"sum\": 82.06629753112793, \"count\": 1, \"min\": 82.06629753112793, \"max\": 82.06629753112793}, \"invocations.count\": {\"sum\": 1.0, \"count\": 1, \"min\": 1, \"max\": 1}}}\u001b[0m\n",
      "\u001b[34mDocker entrypoint called with argument(s): serve\u001b[0m\n",
      "\u001b[34mRunning default environment configuration script\u001b[0m\n",
      "\u001b[34m[11/03/2024 01:32:50 INFO 140181034751808] Memory profiler is not enabled by the environment variable ENABLE_PROFILER.\u001b[0m\n",
      "\u001b[35mDocker entrypoint called with argument(s): serve\u001b[0m\n",
      "\u001b[35mRunning default environment configuration script\u001b[0m\n",
      "\u001b[35m[11/03/2024 01:32:50 INFO 140181034751808] Memory profiler is not enabled by the environment variable ENABLE_PROFILER.\u001b[0m\n",
      "\u001b[34m/opt/amazon/lib/python3.8/site-packages/mxnet/model.py:97: SyntaxWarning: \"is\" with a literal. Did you mean \"==\"?\n",
      "  if num_device is 1 and 'dist' not in kvstore:\u001b[0m\n",
      "\u001b[35m/opt/amazon/lib/python3.8/site-packages/mxnet/model.py:97: SyntaxWarning: \"is\" with a literal. Did you mean \"==\"?\n",
      "  if num_device is 1 and 'dist' not in kvstore:\u001b[0m\n",
      "\u001b[34m/opt/amazon/lib/python3.8/site-packages/scipy/optimize/_shgo.py:495: SyntaxWarning: \"is\" with a literal. Did you mean \"==\"?\n",
      "  if cons['type'] is 'ineq':\u001b[0m\n",
      "\u001b[34m/opt/amazon/lib/python3.8/site-packages/scipy/optimize/_shgo.py:743: SyntaxWarning: \"is not\" with a literal. Did you mean \"!=\"?\n",
      "  if len(self.X_min) is not 0:\u001b[0m\n",
      "\u001b[35m/opt/amazon/lib/python3.8/site-packages/scipy/optimize/_shgo.py:495: SyntaxWarning: \"is\" with a literal. Did you mean \"==\"?\n",
      "  if cons['type'] is 'ineq':\u001b[0m\n",
      "\u001b[35m/opt/amazon/lib/python3.8/site-packages/scipy/optimize/_shgo.py:743: SyntaxWarning: \"is not\" with a literal. Did you mean \"!=\"?\n",
      "  if len(self.X_min) is not 0:\u001b[0m\n",
      "\u001b[34m[11/03/2024 01:32:53 WARNING 140181034751808] Loggers have already been setup.\u001b[0m\n",
      "\u001b[34m[11/03/2024 01:32:53 INFO 140181034751808] loaded entry point class algorithm.serve.server_config:config_api\u001b[0m\n",
      "\u001b[34m[11/03/2024 01:32:53 INFO 140181034751808] loading entry points\u001b[0m\n",
      "\u001b[34m[11/03/2024 01:32:53 INFO 140181034751808] loaded request iterator application/json\u001b[0m\n",
      "\u001b[34m[11/03/2024 01:32:53 INFO 140181034751808] loaded request iterator application/jsonlines\u001b[0m\n",
      "\u001b[34m[11/03/2024 01:32:53 INFO 140181034751808] loaded request iterator application/x-recordio-protobuf\u001b[0m\n",
      "\u001b[34m[11/03/2024 01:32:53 INFO 140181034751808] loaded request iterator text/csv\u001b[0m\n",
      "\u001b[34m[11/03/2024 01:32:53 INFO 140181034751808] loaded response encoder application/json\u001b[0m\n",
      "\u001b[34m[11/03/2024 01:32:53 INFO 140181034751808] loaded response encoder application/jsonlines\u001b[0m\n",
      "\u001b[34m[11/03/2024 01:32:53 INFO 140181034751808] loaded response encoder application/x-recordio-protobuf\u001b[0m\n",
      "\u001b[34m[11/03/2024 01:32:53 INFO 140181034751808] loaded response encoder text/csv\u001b[0m\n",
      "\u001b[35m[11/03/2024 01:32:53 WARNING 140181034751808] Loggers have already been setup.\u001b[0m\n",
      "\u001b[35m[11/03/2024 01:32:53 INFO 140181034751808] loaded entry point class algorithm.serve.server_config:config_api\u001b[0m\n",
      "\u001b[35m[11/03/2024 01:32:53 INFO 140181034751808] loading entry points\u001b[0m\n",
      "\u001b[35m[11/03/2024 01:32:53 INFO 140181034751808] loaded request iterator application/json\u001b[0m\n",
      "\u001b[35m[11/03/2024 01:32:53 INFO 140181034751808] loaded request iterator application/jsonlines\u001b[0m\n",
      "\u001b[35m[11/03/2024 01:32:53 INFO 140181034751808] loaded request iterator application/x-recordio-protobuf\u001b[0m\n",
      "\u001b[35m[11/03/2024 01:32:53 INFO 140181034751808] loaded request iterator text/csv\u001b[0m\n",
      "\u001b[35m[11/03/2024 01:32:53 INFO 140181034751808] loaded response encoder application/json\u001b[0m\n",
      "\u001b[35m[11/03/2024 01:32:53 INFO 140181034751808] loaded response encoder application/jsonlines\u001b[0m\n",
      "\u001b[35m[11/03/2024 01:32:53 INFO 140181034751808] loaded response encoder application/x-recordio-protobuf\u001b[0m\n",
      "\u001b[35m[11/03/2024 01:32:53 INFO 140181034751808] loaded response encoder text/csv\u001b[0m\n",
      "\u001b[34m[11/03/2024 01:32:54 INFO 140181034751808] loaded entry point class algorithm:model\u001b[0m\n",
      "\u001b[34m[11/03/2024 01:32:54 INFO 140181034751808] Number of server workers: 4\u001b[0m\n",
      "\u001b[34m[11/03/2024 01:32:54 INFO 140181034751808] loading model...\u001b[0m\n",
      "\u001b[34m[11/03/2024 01:32:54 INFO 140181034751808] ...model loaded.\u001b[0m\n",
      "\u001b[34m[2024-11-03 01:32:54 +0000] [1] [INFO] Starting gunicorn 20.1.0\u001b[0m\n",
      "\u001b[34m[2024-11-03 01:32:54 +0000] [1] [INFO] Listening at: http://0.0.0.0:8080 (1)\u001b[0m\n",
      "\u001b[34m[2024-11-03 01:32:54 +0000] [1] [INFO] Using worker: sync\u001b[0m\n",
      "\u001b[34m[2024-11-03 01:32:54 +0000] [43] [INFO] Booting worker with pid: 43\u001b[0m\n",
      "\u001b[34m[2024-11-03 01:32:54 +0000] [52] [INFO] Booting worker with pid: 52\u001b[0m\n",
      "\u001b[34m[2024-11-03 01:32:54 +0000] [61] [INFO] Booting worker with pid: 61\u001b[0m\n",
      "\u001b[34m[2024-11-03 01:32:54 +0000] [70] [INFO] Booting worker with pid: 70\u001b[0m\n",
      "\u001b[35m[11/03/2024 01:32:54 INFO 140181034751808] loaded entry point class algorithm:model\u001b[0m\n",
      "\u001b[35m[11/03/2024 01:32:54 INFO 140181034751808] Number of server workers: 4\u001b[0m\n",
      "\u001b[35m[11/03/2024 01:32:54 INFO 140181034751808] loading model...\u001b[0m\n",
      "\u001b[35m[11/03/2024 01:32:54 INFO 140181034751808] ...model loaded.\u001b[0m\n",
      "\u001b[35m[2024-11-03 01:32:54 +0000] [1] [INFO] Starting gunicorn 20.1.0\u001b[0m\n",
      "\u001b[35m[2024-11-03 01:32:54 +0000] [1] [INFO] Listening at: http://0.0.0.0:8080 (1)\u001b[0m\n",
      "\u001b[35m[2024-11-03 01:32:54 +0000] [1] [INFO] Using worker: sync\u001b[0m\n",
      "\u001b[35m[2024-11-03 01:32:54 +0000] [43] [INFO] Booting worker with pid: 43\u001b[0m\n",
      "\u001b[35m[2024-11-03 01:32:54 +0000] [52] [INFO] Booting worker with pid: 52\u001b[0m\n",
      "\u001b[35m[2024-11-03 01:32:54 +0000] [61] [INFO] Booting worker with pid: 61\u001b[0m\n",
      "\u001b[35m[2024-11-03 01:32:54 +0000] [70] [INFO] Booting worker with pid: 70\u001b[0m\n",
      "\u001b[34m#metrics {\"StartTime\": 1730597574.053901, \"EndTime\": 1730597574.865243, \"Dimensions\": {\"Algorithm\": \"LinearLearnerModel\", \"Host\": \"UNKNOWN\", \"Operation\": \"scoring\"}, \"Metrics\": {\"execution_parameters.count\": {\"sum\": 1.0, \"count\": 1, \"min\": 1, \"max\": 1}}}\u001b[0m\n",
      "\u001b[35m#metrics {\"StartTime\": 1730597574.053901, \"EndTime\": 1730597574.865243, \"Dimensions\": {\"Algorithm\": \"LinearLearnerModel\", \"Host\": \"UNKNOWN\", \"Operation\": \"scoring\"}, \"Metrics\": {\"execution_parameters.count\": {\"sum\": 1.0, \"count\": 1, \"min\": 1, \"max\": 1}}}\u001b[0m\n",
      "\u001b[32m2024-11-03T01:32:54.871:[sagemaker logs]: MaxConcurrentTransforms=4, MaxPayloadInMB=6, BatchStrategy=MULTI_RECORD\u001b[0m\n",
      "\u001b[34m#metrics {\"StartTime\": 1730597574.053901, \"EndTime\": 1730597577.6776738, \"Dimensions\": {\"Algorithm\": \"LinearLearnerModel\", \"Host\": \"UNKNOWN\", \"Operation\": \"scoring\"}, \"Metrics\": {\"json.encoder.time\": {\"sum\": 151.29542350769043, \"count\": 1, \"min\": 151.29542350769043, \"max\": 151.29542350769043}, \"invocations.count\": {\"sum\": 1.0, \"count\": 1, \"min\": 1, \"max\": 1}}}\u001b[0m\n",
      "\u001b[34m#metrics {\"StartTime\": 1730597574.053901, \"EndTime\": 1730597577.7007508, \"Dimensions\": {\"Algorithm\": \"LinearLearnerModel\", \"Host\": \"UNKNOWN\", \"Operation\": \"scoring\"}, \"Metrics\": {\"json.encoder.time\": {\"sum\": 154.18577194213867, \"count\": 1, \"min\": 154.18577194213867, \"max\": 154.18577194213867}, \"invocations.count\": {\"sum\": 1.0, \"count\": 1, \"min\": 1, \"max\": 1}}}\u001b[0m\n",
      "\u001b[34m#metrics {\"StartTime\": 1730597574.8654113, \"EndTime\": 1730597577.7364056, \"Dimensions\": {\"Algorithm\": \"LinearLearnerModel\", \"Host\": \"UNKNOWN\", \"Operation\": \"scoring\"}, \"Metrics\": {\"json.encoder.time\": {\"sum\": 154.6947956085205, \"count\": 1, \"min\": 154.6947956085205, \"max\": 154.6947956085205}, \"invocations.count\": {\"sum\": 1.0, \"count\": 1, \"min\": 1, \"max\": 1}}}\u001b[0m\n",
      "\u001b[35m#metrics {\"StartTime\": 1730597574.053901, \"EndTime\": 1730597577.6776738, \"Dimensions\": {\"Algorithm\": \"LinearLearnerModel\", \"Host\": \"UNKNOWN\", \"Operation\": \"scoring\"}, \"Metrics\": {\"json.encoder.time\": {\"sum\": 151.29542350769043, \"count\": 1, \"min\": 151.29542350769043, \"max\": 151.29542350769043}, \"invocations.count\": {\"sum\": 1.0, \"count\": 1, \"min\": 1, \"max\": 1}}}\u001b[0m\n",
      "\u001b[35m#metrics {\"StartTime\": 1730597574.053901, \"EndTime\": 1730597577.7007508, \"Dimensions\": {\"Algorithm\": \"LinearLearnerModel\", \"Host\": \"UNKNOWN\", \"Operation\": \"scoring\"}, \"Metrics\": {\"json.encoder.time\": {\"sum\": 154.18577194213867, \"count\": 1, \"min\": 154.18577194213867, \"max\": 154.18577194213867}, \"invocations.count\": {\"sum\": 1.0, \"count\": 1, \"min\": 1, \"max\": 1}}}\u001b[0m\n",
      "\u001b[35m#metrics {\"StartTime\": 1730597574.8654113, \"EndTime\": 1730597577.7364056, \"Dimensions\": {\"Algorithm\": \"LinearLearnerModel\", \"Host\": \"UNKNOWN\", \"Operation\": \"scoring\"}, \"Metrics\": {\"json.encoder.time\": {\"sum\": 154.6947956085205, \"count\": 1, \"min\": 154.6947956085205, \"max\": 154.6947956085205}, \"invocations.count\": {\"sum\": 1.0, \"count\": 1, \"min\": 1, \"max\": 1}}}\u001b[0m\n",
      "\u001b[34m#metrics {\"StartTime\": 1730597574.053901, \"EndTime\": 1730597577.7394557, \"Dimensions\": {\"Algorithm\": \"LinearLearnerModel\", \"Host\": \"UNKNOWN\", \"Operation\": \"scoring\"}, \"Metrics\": {\"json.encoder.time\": {\"sum\": 154.03127670288086, \"count\": 1, \"min\": 154.03127670288086, \"max\": 154.03127670288086}, \"invocations.count\": {\"sum\": 1.0, \"count\": 1, \"min\": 1, \"max\": 1}}}\u001b[0m\n",
      "\u001b[35m#metrics {\"StartTime\": 1730597574.053901, \"EndTime\": 1730597577.7394557, \"Dimensions\": {\"Algorithm\": \"LinearLearnerModel\", \"Host\": \"UNKNOWN\", \"Operation\": \"scoring\"}, \"Metrics\": {\"json.encoder.time\": {\"sum\": 154.03127670288086, \"count\": 1, \"min\": 154.03127670288086, \"max\": 154.03127670288086}, \"invocations.count\": {\"sum\": 1.0, \"count\": 1, \"min\": 1, \"max\": 1}}}\u001b[0m\n",
      "\u001b[34m#metrics {\"StartTime\": 1730597577.678315, \"EndTime\": 1730597578.6629488, \"Dimensions\": {\"Algorithm\": \"LinearLearnerModel\", \"Host\": \"UNKNOWN\", \"Operation\": \"scoring\"}, \"Metrics\": {\"json.encoder.time\": {\"sum\": 76.57432556152344, \"count\": 1, \"min\": 76.57432556152344, \"max\": 76.57432556152344}, \"invocations.count\": {\"sum\": 1.0, \"count\": 1, \"min\": 1, \"max\": 1}}}\u001b[0m\n",
      "\u001b[34m#metrics {\"StartTime\": 1730597577.7365217, \"EndTime\": 1730597578.695293, \"Dimensions\": {\"Algorithm\": \"LinearLearnerModel\", \"Host\": \"UNKNOWN\", \"Operation\": \"scoring\"}, \"Metrics\": {\"json.encoder.time\": {\"sum\": 82.06629753112793, \"count\": 1, \"min\": 82.06629753112793, \"max\": 82.06629753112793}, \"invocations.count\": {\"sum\": 1.0, \"count\": 1, \"min\": 1, \"max\": 1}}}\u001b[0m\n",
      "\u001b[35m#metrics {\"StartTime\": 1730597577.678315, \"EndTime\": 1730597578.6629488, \"Dimensions\": {\"Algorithm\": \"LinearLearnerModel\", \"Host\": \"UNKNOWN\", \"Operation\": \"scoring\"}, \"Metrics\": {\"json.encoder.time\": {\"sum\": 76.57432556152344, \"count\": 1, \"min\": 76.57432556152344, \"max\": 76.57432556152344}, \"invocations.count\": {\"sum\": 1.0, \"count\": 1, \"min\": 1, \"max\": 1}}}\u001b[0m\n",
      "\u001b[35m#metrics {\"StartTime\": 1730597577.7365217, \"EndTime\": 1730597578.695293, \"Dimensions\": {\"Algorithm\": \"LinearLearnerModel\", \"Host\": \"UNKNOWN\", \"Operation\": \"scoring\"}, \"Metrics\": {\"json.encoder.time\": {\"sum\": 82.06629753112793, \"count\": 1, \"min\": 82.06629753112793, \"max\": 82.06629753112793}, \"invocations.count\": {\"sum\": 1.0, \"count\": 1, \"min\": 1, \"max\": 1}}}\u001b[0m\n"
     ]
    }
   ],
   "source": [
    "prefix = \"linear_learner_v1\"\n",
    "test_labels_v1, target_predicted_v1 = batch_linear_predict(prefix, test_v1, classifier_estimator)"
   ]
  },
  {
   "cell_type": "markdown",
   "metadata": {},
   "source": [
    "### Generating Confusion Matrix Of First LinearLearner Model"
   ]
  },
  {
   "cell_type": "code",
   "execution_count": 18,
   "metadata": {
    "tags": []
   },
   "outputs": [
    {
     "data": {
      "image/png": "[encoded data removed]",
      "text/plain": [
       "<Figure size 640x480 with 1 Axes>"
      ]
     },
     "metadata": {},
     "output_type": "display_data"
    }
   ],
   "source": [
    "plot_confusion_matrix(test_labels_v1, target_predicted_v1)"
   ]
  },
  {
   "cell_type": "markdown",
   "metadata": {},
   "source": [
    "### Generating ROC Of First LinearLearner Model"
   ]
  },
  {
   "cell_type": "code",
   "execution_count": 19,
   "metadata": {
    "tags": []
   },
   "outputs": [
    {
     "name": "stdout",
     "output_type": "stream",
     "text": [
      "Sensitivity or TPR: 0.26407766990291265 %\n",
      "Specificity or TNR: 99.92519526615008 %\n",
      "Precision: 48.39857651245551 %\n",
      "Negative Predictive Value: 79.03997845399233 %\n",
      "False Positive Rate: 0.07480473384991591 %\n",
      "False Negative Rate: 99.73592233009708 %\n",
      "False Discovery Rate: 51.60142348754449 %\n",
      "Accuracy: 79.00488305928963 %\n",
      "Validation AUC: 0.5009463646802649\n"
     ]
    },
    {
     "data": {
      "image/png": "[encoded data removed]",
      "text/plain": [
       "<Figure size 640x480 with 2 Axes>"
      ]
     },
     "metadata": {},
     "output_type": "display_data"
    }
   ],
   "source": [
    "plot_roc(test_labels_v1, target_predicted_v1)"
   ]
  },
  {
   "cell_type": "markdown",
   "metadata": {},
   "source": [
    "To plot the confusion matrix, call the `plot_confusion_matrix` function on the `test_labels` and the `target_predicted` data from your batch job:"
   ]
  },
  {
   "cell_type": "markdown",
   "metadata": {},
   "source": [
    "## Starting Linear Estimator Analysis On `combined_csv_v2.csv`"
   ]
  },
  {
   "cell_type": "markdown",
   "metadata": {},
   "source": [
    "### Loading combined_csv_v2.csv Innto Pandas DataFrame"
   ]
  },
  {
   "cell_type": "code",
   "execution_count": 20,
   "metadata": {
    "tags": []
   },
   "outputs": [
    {
     "data": {
      "text/html": [
       "<div>\n",
       "<style scoped>\n",
       "    .dataframe tbody tr th:only-of-type {\n",
       "        vertical-align: middle;\n",
       "    }\n",
       "\n",
       "    .dataframe tbody tr th {\n",
       "        vertical-align: top;\n",
       "    }\n",
       "\n",
       "    .dataframe thead th {\n",
       "        text-align: right;\n",
       "    }\n",
       "</style>\n",
       "<table border=\"1\" class=\"dataframe\">\n",
       "  <thead>\n",
       "    <tr style=\"text-align: right;\">\n",
       "      <th></th>\n",
       "      <th>target</th>\n",
       "      <th>Distance</th>\n",
       "      <th>DepHourofDay</th>\n",
       "      <th>AWND_O</th>\n",
       "      <th>PRCP_O</th>\n",
       "      <th>TAVG_O</th>\n",
       "      <th>AWND_D</th>\n",
       "      <th>PRCP_D</th>\n",
       "      <th>TAVG_D</th>\n",
       "      <th>SNOW_O</th>\n",
       "      <th>...</th>\n",
       "      <th>Origin_SFO</th>\n",
       "      <th>Dest_CLT</th>\n",
       "      <th>Dest_DEN</th>\n",
       "      <th>Dest_DFW</th>\n",
       "      <th>Dest_IAH</th>\n",
       "      <th>Dest_LAX</th>\n",
       "      <th>Dest_ORD</th>\n",
       "      <th>Dest_PHX</th>\n",
       "      <th>Dest_SFO</th>\n",
       "      <th>is_holiday_1</th>\n",
       "    </tr>\n",
       "  </thead>\n",
       "  <tbody>\n",
       "    <tr>\n",
       "      <th>0</th>\n",
       "      <td>0.0</td>\n",
       "      <td>689.0</td>\n",
       "      <td>21</td>\n",
       "      <td>33</td>\n",
       "      <td>0</td>\n",
       "      <td>54.0</td>\n",
       "      <td>30</td>\n",
       "      <td>0</td>\n",
       "      <td>130.0</td>\n",
       "      <td>0.0</td>\n",
       "      <td>...</td>\n",
       "      <td>0</td>\n",
       "      <td>0</td>\n",
       "      <td>0</td>\n",
       "      <td>0</td>\n",
       "      <td>1</td>\n",
       "      <td>0</td>\n",
       "      <td>0</td>\n",
       "      <td>0</td>\n",
       "      <td>0</td>\n",
       "      <td>0</td>\n",
       "    </tr>\n",
       "    <tr>\n",
       "      <th>1</th>\n",
       "      <td>0.0</td>\n",
       "      <td>731.0</td>\n",
       "      <td>9</td>\n",
       "      <td>39</td>\n",
       "      <td>0</td>\n",
       "      <td>136.0</td>\n",
       "      <td>33</td>\n",
       "      <td>0</td>\n",
       "      <td>54.0</td>\n",
       "      <td>0.0</td>\n",
       "      <td>...</td>\n",
       "      <td>0</td>\n",
       "      <td>0</td>\n",
       "      <td>0</td>\n",
       "      <td>0</td>\n",
       "      <td>0</td>\n",
       "      <td>0</td>\n",
       "      <td>0</td>\n",
       "      <td>0</td>\n",
       "      <td>0</td>\n",
       "      <td>0</td>\n",
       "    </tr>\n",
       "    <tr>\n",
       "      <th>2</th>\n",
       "      <td>0.0</td>\n",
       "      <td>1199.0</td>\n",
       "      <td>18</td>\n",
       "      <td>33</td>\n",
       "      <td>0</td>\n",
       "      <td>54.0</td>\n",
       "      <td>77</td>\n",
       "      <td>0</td>\n",
       "      <td>68.0</td>\n",
       "      <td>0.0</td>\n",
       "      <td>...</td>\n",
       "      <td>0</td>\n",
       "      <td>0</td>\n",
       "      <td>1</td>\n",
       "      <td>0</td>\n",
       "      <td>0</td>\n",
       "      <td>0</td>\n",
       "      <td>0</td>\n",
       "      <td>0</td>\n",
       "      <td>0</td>\n",
       "      <td>0</td>\n",
       "    </tr>\n",
       "    <tr>\n",
       "      <th>3</th>\n",
       "      <td>0.0</td>\n",
       "      <td>1587.0</td>\n",
       "      <td>16</td>\n",
       "      <td>33</td>\n",
       "      <td>0</td>\n",
       "      <td>54.0</td>\n",
       "      <td>20</td>\n",
       "      <td>0</td>\n",
       "      <td>165.0</td>\n",
       "      <td>0.0</td>\n",
       "      <td>...</td>\n",
       "      <td>0</td>\n",
       "      <td>0</td>\n",
       "      <td>0</td>\n",
       "      <td>0</td>\n",
       "      <td>0</td>\n",
       "      <td>0</td>\n",
       "      <td>0</td>\n",
       "      <td>1</td>\n",
       "      <td>0</td>\n",
       "      <td>0</td>\n",
       "    </tr>\n",
       "    <tr>\n",
       "      <th>4</th>\n",
       "      <td>0.0</td>\n",
       "      <td>1587.0</td>\n",
       "      <td>7</td>\n",
       "      <td>20</td>\n",
       "      <td>0</td>\n",
       "      <td>165.0</td>\n",
       "      <td>33</td>\n",
       "      <td>0</td>\n",
       "      <td>54.0</td>\n",
       "      <td>0.0</td>\n",
       "      <td>...</td>\n",
       "      <td>0</td>\n",
       "      <td>0</td>\n",
       "      <td>0</td>\n",
       "      <td>0</td>\n",
       "      <td>0</td>\n",
       "      <td>0</td>\n",
       "      <td>0</td>\n",
       "      <td>0</td>\n",
       "      <td>0</td>\n",
       "      <td>0</td>\n",
       "    </tr>\n",
       "  </tbody>\n",
       "</table>\n",
       "<p>5 rows × 86 columns</p>\n",
       "</div>"
      ],
      "text/plain": [
       "   target  Distance  DepHourofDay  AWND_O  PRCP_O  TAVG_O  AWND_D  PRCP_D  \\\n",
       "0     0.0     689.0            21      33       0    54.0      30       0   \n",
       "1     0.0     731.0             9      39       0   136.0      33       0   \n",
       "2     0.0    1199.0            18      33       0    54.0      77       0   \n",
       "3     0.0    1587.0            16      33       0    54.0      20       0   \n",
       "4     0.0    1587.0             7      20       0   165.0      33       0   \n",
       "\n",
       "   TAVG_D  SNOW_O  ...  Origin_SFO  Dest_CLT  Dest_DEN  Dest_DFW  Dest_IAH  \\\n",
       "0   130.0     0.0  ...           0         0         0         0         1   \n",
       "1    54.0     0.0  ...           0         0         0         0         0   \n",
       "2    68.0     0.0  ...           0         0         1         0         0   \n",
       "3   165.0     0.0  ...           0         0         0         0         0   \n",
       "4    54.0     0.0  ...           0         0         0         0         0   \n",
       "\n",
       "   Dest_LAX  Dest_ORD  Dest_PHX  Dest_SFO  is_holiday_1  \n",
       "0         0         0         0         0             0  \n",
       "1         0         0         0         0             0  \n",
       "2         0         0         0         0             0  \n",
       "3         0         0         1         0             0  \n",
       "4         0         0         0         0             0  \n",
       "\n",
       "[5 rows x 86 columns]"
      ]
     },
     "execution_count": 20,
     "metadata": {},
     "output_type": "execute_result"
    }
   ],
   "source": [
    "df2 = pd.read_csv(\"combined_csv_v2.csv\")\n",
    "df2.head()"
   ]
  },
  {
   "cell_type": "markdown",
   "metadata": {},
   "source": [
    "### Splitting combined_csv_v2.csv data into training, validation, and testing sets"
   ]
  },
  {
   "cell_type": "code",
   "execution_count": 21,
   "metadata": {
    "tags": []
   },
   "outputs": [
    {
     "name": "stdout",
     "output_type": "stream",
     "text": [
      "0.0    904581\n",
      "1.0    240332\n",
      "Name: target, dtype: int64\n",
      "0.0    193839\n",
      "1.0     51500\n",
      "Name: target, dtype: int64\n",
      "0.0    193838\n",
      "1.0     51500\n",
      "Name: target, dtype: int64\n"
     ]
    }
   ],
   "source": [
    "train_v2, test_v2, validate_v2 = split_data(df2)\n",
    "print(train_v2['target'].value_counts())\n",
    "print(test_v2['target'].value_counts())\n",
    "print(validate_v2['target'].value_counts())"
   ]
  },
  {
   "cell_type": "markdown",
   "metadata": {},
   "source": [
    "### Second Classification Model Instance"
   ]
  },
  {
   "cell_type": "code",
   "execution_count": 22,
   "metadata": {
    "tags": []
   },
   "outputs": [],
   "source": [
    "classifier_estimator2 = sagemaker.LinearLearner(\n",
    "    role=sagemaker.get_execution_role(),\n",
    "    instance_count=1,\n",
    "    instance_type='ml.m4.xlarge',\n",
    "    predictor_type='binary_classifier',\n",
    "    binary_classifier_model_selection_criteria = 'cross_entropy_loss'\n",
    ")"
   ]
  },
  {
   "cell_type": "markdown",
   "metadata": {},
   "source": [
    "### Converts Second classifier data into a SageMaker RecordSet format"
   ]
  },
  {
   "cell_type": "code",
   "execution_count": 23,
   "metadata": {
    "tags": []
   },
   "outputs": [],
   "source": [
    "train_records_v2 = classifier_estimator2.record_set(train_v2.values[:, 1:].astype(np.float32), train_v2.values[:, 0].astype(np.float32), channel='train')\n",
    "val_records_v2 = classifier_estimator2.record_set(validate_v2.values[:, 1:].astype(np.float32), validate_v2.values[:, 0].astype(np.float32), channel='validation')\n",
    "test_records_v2 = classifier_estimator2.record_set(test_v2.values[:, 1:].astype(np.float32), test_v2.values[:, 0].astype(np.float32), channel='test')"
   ]
  },
  {
   "cell_type": "markdown",
   "metadata": {},
   "source": [
    "### Initialize Second LinearLearner Classifier Training Job"
   ]
  },
  {
   "cell_type": "code",
   "execution_count": 24,
   "metadata": {
    "tags": []
   },
   "outputs": [
    {
     "name": "stderr",
     "output_type": "stream",
     "text": [
      "INFO:sagemaker.image_uris:Same images used for training and inference. Defaulting to image scope: inference.\n",
      "INFO:sagemaker.image_uris:Ignoring unnecessary instance type: None.\n",
      "INFO:sagemaker.image_uris:Same images used for training and inference. Defaulting to image scope: inference.\n",
      "INFO:sagemaker.image_uris:Ignoring unnecessary instance type: None.\n",
      "INFO:sagemaker:Creating training-job with name: linear-learner-2024-11-03-01-34-37-810\n"
     ]
    },
    {
     "name": "stdout",
     "output_type": "stream",
     "text": [
      "\n",
      "2024-11-03 01:34:38 Starting - Starting the training job.\n",
      "2024-11-03 01:34:52 Starting - Preparing the instances for training......\n",
      "2024-11-03 01:35:25 Downloading - Downloading input data.......\n",
      "2024-11-03 01:36:05 Downloading - Downloading the training image............\n",
      "2024-11-03 01:37:11 Training - Training image download completed. Training in progress.....................................\n",
      "2024-11-03 01:40:17 Uploading - Uploading generated training model.\n",
      "2024-11-03 01:40:30 Completed - Training job completed\n"
     ]
    }
   ],
   "source": [
    "classifier_estimator2.fit([train_records_v2, val_records_v2, test_records_v2], logs=False)"
   ]
  },
  {
   "cell_type": "markdown",
   "metadata": {},
   "source": [
    "### Second LinearLearner Prediction Output"
   ]
  },
  {
   "cell_type": "code",
   "execution_count": 25,
   "metadata": {
    "tags": []
   },
   "outputs": [],
   "source": [
    "def batch_linear_predict(prefix, test_data, estimator):\n",
    "    batch_X = test_data.iloc[:,1:];\n",
    "    batch_X_file='batch-in.csv'\n",
    "    upload_s3_csv(prefix, batch_X_file, 'batch-in', batch_X)\n",
    "\n",
    "    batch_output = \"s3://{}/{}/batch-out/\".format(bucket,prefix)\n",
    "    batch_input = \"s3://{}/{}/batch-in/{}\".format(bucket,prefix,batch_X_file)\n",
    "\n",
    "    classifier_transformer = estimator.transformer(\n",
    "        instance_count=1,\n",
    "        instance_type='ml.m4.xlarge',\n",
    "        strategy='MultiRecord',\n",
    "        assemble_with='Line',\n",
    "        output_path=batch_output,\n",
    "    )\n",
    "\n",
    "    classifier_transformer.transform(\n",
    "        data=batch_input,\n",
    "        data_type='S3Prefix',\n",
    "        content_type='text/csv',\n",
    "        split_type='Line',\n",
    "    )\n",
    "\n",
    "    classifier_transformer.wait()\n",
    "    s3 = boto3.client('s3')\n",
    "    obj = s3.get_object(Bucket=bucket, Key=\"{}/batch-out/{}\".format(prefix,'batch-in.csv.out'))\n",
    "    target_predicted_df = pd.read_json(io.BytesIO(obj['Body'].read()),orient=\"records\",lines=True)\n",
    "    return test_data.iloc[:,0], target_predicted_df.iloc[:,0]"
   ]
  },
  {
   "cell_type": "code",
   "execution_count": 26,
   "metadata": {
    "tags": []
   },
   "outputs": [
    {
     "name": "stderr",
     "output_type": "stream",
     "text": [
      "INFO:sagemaker.image_uris:Same images used for training and inference. Defaulting to image scope: inference.\n",
      "INFO:sagemaker.image_uris:Ignoring unnecessary instance type: None.\n",
      "INFO:sagemaker:Creating model with name: linear-learner-2024-11-03-01-40-35-343\n",
      "INFO:sagemaker:Creating transform job with name: linear-learner-2024-11-03-01-40-35-948\n"
     ]
    },
    {
     "name": "stdout",
     "output_type": "stream",
     "text": [
      "..............................................\u001b[34mDocker entrypoint called with argument(s): serve\u001b[0m\n",
      "\u001b[34mRunning default environment configuration script\u001b[0m\n",
      "\u001b[34m[11/03/2024 01:48:21 INFO 139812327216960] Memory profiler is not enabled by the environment variable ENABLE_PROFILER.\u001b[0m\n",
      "\u001b[34m/opt/amazon/lib/python3.8/site-packages/mxnet/model.py:97: SyntaxWarning: \"is\" with a literal. Did you mean \"==\"?\n",
      "  if num_device is 1 and 'dist' not in kvstore:\u001b[0m\n",
      "\u001b[34m/opt/amazon/lib/python3.8/site-packages/scipy/optimize/_shgo.py:495: SyntaxWarning: \"is\" with a literal. Did you mean \"==\"?\n",
      "  if cons['type'] is 'ineq':\u001b[0m\n",
      "\u001b[34m/opt/amazon/lib/python3.8/site-packages/scipy/optimize/_shgo.py:743: SyntaxWarning: \"is not\" with a literal. Did you mean \"!=\"?\n",
      "  if len(self.X_min) is not 0:\u001b[0m\n",
      "\u001b[34m[11/03/2024 01:48:25 WARNING 139812327216960] Loggers have already been setup.\u001b[0m\n",
      "\u001b[34m[11/03/2024 01:48:25 INFO 139812327216960] loaded entry point class algorithm.serve.server_config:config_api\u001b[0m\n",
      "\u001b[34m[11/03/2024 01:48:25 INFO 139812327216960] loading entry points\u001b[0m\n",
      "\u001b[34m[11/03/2024 01:48:25 INFO 139812327216960] loaded request iterator application/json\u001b[0m\n",
      "\u001b[34m[11/03/2024 01:48:25 INFO 139812327216960] loaded request iterator application/jsonlines\u001b[0m\n",
      "\u001b[34m[11/03/2024 01:48:25 INFO 139812327216960] loaded request iterator application/x-recordio-protobuf\u001b[0m\n",
      "\u001b[34m[11/03/2024 01:48:25 INFO 139812327216960] loaded request iterator text/csv\u001b[0m\n",
      "\u001b[34m[11/03/2024 01:48:25 INFO 139812327216960] loaded response encoder application/json\u001b[0m\n",
      "\u001b[34m[11/03/2024 01:48:25 INFO 139812327216960] loaded response encoder application/jsonlines\u001b[0m\n",
      "\u001b[34m[11/03/2024 01:48:25 INFO 139812327216960] loaded response encoder application/x-recordio-protobuf\u001b[0m\n",
      "\u001b[34m[11/03/2024 01:48:25 INFO 139812327216960] loaded response encoder text/csv\u001b[0m\n",
      "\u001b[34m[11/03/2024 01:48:25 INFO 139812327216960] loaded entry point class algorithm:model\u001b[0m\n",
      "\u001b[34m[11/03/2024 01:48:25 INFO 139812327216960] Number of server workers: 4\u001b[0m\n",
      "\u001b[34m[11/03/2024 01:48:25 INFO 139812327216960] loading model...\u001b[0m\n",
      "\u001b[34m[11/03/2024 01:48:25 INFO 139812327216960] ...model loaded.\u001b[0m\n",
      "\u001b[35m[11/03/2024 01:48:25 WARNING 139812327216960] Loggers have already been setup.\u001b[0m\n",
      "\u001b[35m[11/03/2024 01:48:25 INFO 139812327216960] loaded entry point class algorithm.serve.server_config:config_api\u001b[0m\n",
      "\u001b[35m[11/03/2024 01:48:25 INFO 139812327216960] loading entry points\u001b[0m\n",
      "\u001b[35m[11/03/2024 01:48:25 INFO 139812327216960] loaded request iterator application/json\u001b[0m\n",
      "\u001b[35m[11/03/2024 01:48:25 INFO 139812327216960] loaded request iterator application/jsonlines\u001b[0m\n",
      "\u001b[35m[11/03/2024 01:48:25 INFO 139812327216960] loaded request iterator application/x-recordio-protobuf\u001b[0m\n",
      "\u001b[35m[11/03/2024 01:48:25 INFO 139812327216960] loaded request iterator text/csv\u001b[0m\n",
      "\u001b[35m[11/03/2024 01:48:25 INFO 139812327216960] loaded response encoder application/json\u001b[0m\n",
      "\u001b[35m[11/03/2024 01:48:25 INFO 139812327216960] loaded response encoder application/jsonlines\u001b[0m\n",
      "\u001b[35m[11/03/2024 01:48:25 INFO 139812327216960] loaded response encoder application/x-recordio-protobuf\u001b[0m\n",
      "\u001b[35m[11/03/2024 01:48:25 INFO 139812327216960] loaded response encoder text/csv\u001b[0m\n",
      "\u001b[35m[11/03/2024 01:48:25 INFO 139812327216960] loaded entry point class algorithm:model\u001b[0m\n",
      "\u001b[35m[11/03/2024 01:48:25 INFO 139812327216960] Number of server workers: 4\u001b[0m\n",
      "\u001b[35m[11/03/2024 01:48:25 INFO 139812327216960] loading model...\u001b[0m\n",
      "\u001b[35m[11/03/2024 01:48:25 INFO 139812327216960] ...model loaded.\u001b[0m\n",
      "\u001b[34m[2024-11-03 01:48:25 +0000] [1] [INFO] Starting gunicorn 20.1.0\u001b[0m\n",
      "\u001b[34m[2024-11-03 01:48:25 +0000] [1] [INFO] Listening at: http://0.0.0.0:8080 (1)\u001b[0m\n",
      "\u001b[34m[2024-11-03 01:48:25 +0000] [1] [INFO] Using worker: sync\u001b[0m\n",
      "\u001b[34m[2024-11-03 01:48:25 +0000] [43] [INFO] Booting worker with pid: 43\u001b[0m\n",
      "\u001b[34m[2024-11-03 01:48:25 +0000] [52] [INFO] Booting worker with pid: 52\u001b[0m\n",
      "\u001b[34m[2024-11-03 01:48:25 +0000] [61] [INFO] Booting worker with pid: 61\u001b[0m\n",
      "\u001b[34m[2024-11-03 01:48:26 +0000] [70] [INFO] Booting worker with pid: 70\u001b[0m\n",
      "\u001b[35m[2024-11-03 01:48:25 +0000] [1] [INFO] Starting gunicorn 20.1.0\u001b[0m\n",
      "\u001b[35m[2024-11-03 01:48:25 +0000] [1] [INFO] Listening at: http://0.0.0.0:8080 (1)\u001b[0m\n",
      "\u001b[35m[2024-11-03 01:48:25 +0000] [1] [INFO] Using worker: sync\u001b[0m\n",
      "\u001b[35m[2024-11-03 01:48:25 +0000] [43] [INFO] Booting worker with pid: 43\u001b[0m\n",
      "\u001b[35m[2024-11-03 01:48:25 +0000] [52] [INFO] Booting worker with pid: 52\u001b[0m\n",
      "\u001b[35m[2024-11-03 01:48:25 +0000] [61] [INFO] Booting worker with pid: 61\u001b[0m\n",
      "\u001b[35m[2024-11-03 01:48:26 +0000] [70] [INFO] Booting worker with pid: 70\u001b[0m\n",
      "\u001b[34m#metrics {\"StartTime\": 1730598505.8011913, \"EndTime\": 1730598506.6080923, \"Dimensions\": {\"Algorithm\": \"LinearLearnerModel\", \"Host\": \"UNKNOWN\", \"Operation\": \"scoring\"}, \"Metrics\": {\"execution_parameters.count\": {\"sum\": 1.0, \"count\": 1, \"min\": 1, \"max\": 1}}}\u001b[0m\n",
      "\u001b[35m#metrics {\"StartTime\": 1730598505.8011913, \"EndTime\": 1730598506.6080923, \"Dimensions\": {\"Algorithm\": \"LinearLearnerModel\", \"Host\": \"UNKNOWN\", \"Operation\": \"scoring\"}, \"Metrics\": {\"execution_parameters.count\": {\"sum\": 1.0, \"count\": 1, \"min\": 1, \"max\": 1}}}\u001b[0m\n",
      "\u001b[34m#metrics {\"StartTime\": 1730598505.8011913, \"EndTime\": 1730598509.1586635, \"Dimensions\": {\"Algorithm\": \"LinearLearnerModel\", \"Host\": \"UNKNOWN\", \"Operation\": \"scoring\"}, \"Metrics\": {\"json.encoder.time\": {\"sum\": 124.89748001098633, \"count\": 1, \"min\": 124.89748001098633, \"max\": 124.89748001098633}, \"invocations.count\": {\"sum\": 1.0, \"count\": 1, \"min\": 1, \"max\": 1}}}\u001b[0m\n",
      "\u001b[34m#metrics {\"StartTime\": 1730598505.8011913, \"EndTime\": 1730598509.1693754, \"Dimensions\": {\"Algorithm\": \"LinearLearnerModel\", \"Host\": \"UNKNOWN\", \"Operation\": \"scoring\"}, \"Metrics\": {\"json.encoder.time\": {\"sum\": 129.6219825744629, \"count\": 1, \"min\": 129.6219825744629, \"max\": 129.6219825744629}, \"invocations.count\": {\"sum\": 1.0, \"count\": 1, \"min\": 1, \"max\": 1}}}\u001b[0m\n",
      "\u001b[34m#metrics {\"StartTime\": 1730598506.6082082, \"EndTime\": 1730598509.1718738, \"Dimensions\": {\"Algorithm\": \"LinearLearnerModel\", \"Host\": \"UNKNOWN\", \"Operation\": \"scoring\"}, \"Metrics\": {\"json.encoder.time\": {\"sum\": 118.62874031066895, \"count\": 1, \"min\": 118.62874031066895, \"max\": 118.62874031066895}, \"invocations.count\": {\"sum\": 1.0, \"count\": 1, \"min\": 1, \"max\": 1}}}\u001b[0m\n",
      "\u001b[35m#metrics {\"StartTime\": 1730598505.8011913, \"EndTime\": 1730598509.1586635, \"Dimensions\": {\"Algorithm\": \"LinearLearnerModel\", \"Host\": \"UNKNOWN\", \"Operation\": \"scoring\"}, \"Metrics\": {\"json.encoder.time\": {\"sum\": 124.89748001098633, \"count\": 1, \"min\": 124.89748001098633, \"max\": 124.89748001098633}, \"invocations.count\": {\"sum\": 1.0, \"count\": 1, \"min\": 1, \"max\": 1}}}\u001b[0m\n",
      "\u001b[35m#metrics {\"StartTime\": 1730598505.8011913, \"EndTime\": 1730598509.1693754, \"Dimensions\": {\"Algorithm\": \"LinearLearnerModel\", \"Host\": \"UNKNOWN\", \"Operation\": \"scoring\"}, \"Metrics\": {\"json.encoder.time\": {\"sum\": 129.6219825744629, \"count\": 1, \"min\": 129.6219825744629, \"max\": 129.6219825744629}, \"invocations.count\": {\"sum\": 1.0, \"count\": 1, \"min\": 1, \"max\": 1}}}\u001b[0m\n",
      "\u001b[35m#metrics {\"StartTime\": 1730598506.6082082, \"EndTime\": 1730598509.1718738, \"Dimensions\": {\"Algorithm\": \"LinearLearnerModel\", \"Host\": \"UNKNOWN\", \"Operation\": \"scoring\"}, \"Metrics\": {\"json.encoder.time\": {\"sum\": 118.62874031066895, \"count\": 1, \"min\": 118.62874031066895, \"max\": 118.62874031066895}, \"invocations.count\": {\"sum\": 1.0, \"count\": 1, \"min\": 1, \"max\": 1}}}\u001b[0m\n",
      "\u001b[34m#metrics {\"StartTime\": 1730598505.8011913, \"EndTime\": 1730598509.2721574, \"Dimensions\": {\"Algorithm\": \"LinearLearnerModel\", \"Host\": \"UNKNOWN\", \"Operation\": \"scoring\"}, \"Metrics\": {\"json.encoder.time\": {\"sum\": 125.98896026611328, \"count\": 1, \"min\": 125.98896026611328, \"max\": 125.98896026611328}, \"invocations.count\": {\"sum\": 1.0, \"count\": 1, \"min\": 1, \"max\": 1}}}\u001b[0m\n",
      "\u001b[34m#metrics {\"StartTime\": 1730598509.2722917, \"EndTime\": 1730598509.98368, \"Dimensions\": {\"Algorithm\": \"LinearLearnerModel\", \"Host\": \"UNKNOWN\", \"Operation\": \"scoring\"}, \"Metrics\": {\"json.encoder.time\": {\"sum\": 45.831918716430664, \"count\": 1, \"min\": 45.831918716430664, \"max\": 45.831918716430664}, \"invocations.count\": {\"sum\": 1.0, \"count\": 1, \"min\": 1, \"max\": 1}}}\u001b[0m\n",
      "\u001b[35m#metrics {\"StartTime\": 1730598505.8011913, \"EndTime\": 1730598509.2721574, \"Dimensions\": {\"Algorithm\": \"LinearLearnerModel\", \"Host\": \"UNKNOWN\", \"Operation\": \"scoring\"}, \"Metrics\": {\"json.encoder.time\": {\"sum\": 125.98896026611328, \"count\": 1, \"min\": 125.98896026611328, \"max\": 125.98896026611328}, \"invocations.count\": {\"sum\": 1.0, \"count\": 1, \"min\": 1, \"max\": 1}}}\u001b[0m\n",
      "\u001b[35m#metrics {\"StartTime\": 1730598509.2722917, \"EndTime\": 1730598509.98368, \"Dimensions\": {\"Algorithm\": \"LinearLearnerModel\", \"Host\": \"UNKNOWN\", \"Operation\": \"scoring\"}, \"Metrics\": {\"json.encoder.time\": {\"sum\": 45.831918716430664, \"count\": 1, \"min\": 45.831918716430664, \"max\": 45.831918716430664}, \"invocations.count\": {\"sum\": 1.0, \"count\": 1, \"min\": 1, \"max\": 1}}}\u001b[0m\n",
      "\u001b[32m2024-11-03T01:48:26.612:[sagemaker logs]: MaxConcurrentTransforms=4, MaxPayloadInMB=6, BatchStrategy=MULTI_RECORD\u001b[0m\n",
      "\u001b[34m#metrics {\"StartTime\": 1730598509.1719677, \"EndTime\": 1730598510.4414685, \"Dimensions\": {\"Algorithm\": \"LinearLearnerModel\", \"Host\": \"UNKNOWN\", \"Operation\": \"scoring\"}, \"Metrics\": {\"json.encoder.time\": {\"sum\": 76.95937156677246, \"count\": 1, \"min\": 76.95937156677246, \"max\": 76.95937156677246}, \"invocations.count\": {\"sum\": 1.0, \"count\": 1, \"min\": 1, \"max\": 1}}}\u001b[0m\n",
      "\u001b[34m#metrics {\"StartTime\": 1730598509.158897, \"EndTime\": 1730598510.4870293, \"Dimensions\": {\"Algorithm\": \"LinearLearnerModel\", \"Host\": \"UNKNOWN\", \"Operation\": \"scoring\"}, \"Metrics\": {\"json.encoder.time\": {\"sum\": 86.64202690124512, \"count\": 1, \"min\": 86.64202690124512, \"max\": 86.64202690124512}, \"invocations.count\": {\"sum\": 1.0, \"count\": 1, \"min\": 1, \"max\": 1}}}\u001b[0m\n",
      "\u001b[34m#metrics {\"StartTime\": 1730598509.1695056, \"EndTime\": 1730598510.6215634, \"Dimensions\": {\"Algorithm\": \"LinearLearnerModel\", \"Host\": \"UNKNOWN\", \"Operation\": \"scoring\"}, \"Metrics\": {\"json.encoder.time\": {\"sum\": 100.23188591003418, \"count\": 1, \"min\": 100.23188591003418, \"max\": 100.23188591003418}, \"invocations.count\": {\"sum\": 1.0, \"count\": 1, \"min\": 1, \"max\": 1}}}\u001b[0m\n",
      "\u001b[35m#metrics {\"StartTime\": 1730598509.1719677, \"EndTime\": 1730598510.4414685, \"Dimensions\": {\"Algorithm\": \"LinearLearnerModel\", \"Host\": \"UNKNOWN\", \"Operation\": \"scoring\"}, \"Metrics\": {\"json.encoder.time\": {\"sum\": 76.95937156677246, \"count\": 1, \"min\": 76.95937156677246, \"max\": 76.95937156677246}, \"invocations.count\": {\"sum\": 1.0, \"count\": 1, \"min\": 1, \"max\": 1}}}\u001b[0m\n",
      "\u001b[35m#metrics {\"StartTime\": 1730598509.158897, \"EndTime\": 1730598510.4870293, \"Dimensions\": {\"Algorithm\": \"LinearLearnerModel\", \"Host\": \"UNKNOWN\", \"Operation\": \"scoring\"}, \"Metrics\": {\"json.encoder.time\": {\"sum\": 86.64202690124512, \"count\": 1, \"min\": 86.64202690124512, \"max\": 86.64202690124512}, \"invocations.count\": {\"sum\": 1.0, \"count\": 1, \"min\": 1, \"max\": 1}}}\u001b[0m\n",
      "\u001b[35m#metrics {\"StartTime\": 1730598509.1695056, \"EndTime\": 1730598510.6215634, \"Dimensions\": {\"Algorithm\": \"LinearLearnerModel\", \"Host\": \"UNKNOWN\", \"Operation\": \"scoring\"}, \"Metrics\": {\"json.encoder.time\": {\"sum\": 100.23188591003418, \"count\": 1, \"min\": 100.23188591003418, \"max\": 100.23188591003418}, \"invocations.count\": {\"sum\": 1.0, \"count\": 1, \"min\": 1, \"max\": 1}}}\u001b[0m\n",
      "\n",
      "\u001b[34mDocker entrypoint called with argument(s): serve\u001b[0m\n",
      "\u001b[34mRunning default environment configuration script\u001b[0m\n",
      "\u001b[35mDocker entrypoint called with argument(s): serve\u001b[0m\n",
      "\u001b[35mRunning default environment configuration script\u001b[0m\n",
      "\u001b[34m[11/03/2024 01:48:21 INFO 139812327216960] Memory profiler is not enabled by the environment variable ENABLE_PROFILER.\u001b[0m\n",
      "\u001b[35m[11/03/2024 01:48:21 INFO 139812327216960] Memory profiler is not enabled by the environment variable ENABLE_PROFILER.\u001b[0m\n",
      "\u001b[34m/opt/amazon/lib/python3.8/site-packages/mxnet/model.py:97: SyntaxWarning: \"is\" with a literal. Did you mean \"==\"?\n",
      "  if num_device is 1 and 'dist' not in kvstore:\u001b[0m\n",
      "\u001b[35m/opt/amazon/lib/python3.8/site-packages/mxnet/model.py:97: SyntaxWarning: \"is\" with a literal. Did you mean \"==\"?\n",
      "  if num_device is 1 and 'dist' not in kvstore:\u001b[0m\n",
      "\u001b[34m/opt/amazon/lib/python3.8/site-packages/scipy/optimize/_shgo.py:495: SyntaxWarning: \"is\" with a literal. Did you mean \"==\"?\n",
      "  if cons['type'] is 'ineq':\u001b[0m\n",
      "\u001b[35m/opt/amazon/lib/python3.8/site-packages/scipy/optimize/_shgo.py:495: SyntaxWarning: \"is\" with a literal. Did you mean \"==\"?\n",
      "  if cons['type'] is 'ineq':\u001b[0m\n",
      "\u001b[34m/opt/amazon/lib/python3.8/site-packages/scipy/optimize/_shgo.py:743: SyntaxWarning: \"is not\" with a literal. Did you mean \"!=\"?\n",
      "  if len(self.X_min) is not 0:\u001b[0m\n",
      "\u001b[35m/opt/amazon/lib/python3.8/site-packages/scipy/optimize/_shgo.py:743: SyntaxWarning: \"is not\" with a literal. Did you mean \"!=\"?\n",
      "  if len(self.X_min) is not 0:\u001b[0m\n",
      "\u001b[34m[11/03/2024 01:48:25 WARNING 139812327216960] Loggers have already been setup.\u001b[0m\n",
      "\u001b[34m[11/03/2024 01:48:25 INFO 139812327216960] loaded entry point class algorithm.serve.server_config:config_api\u001b[0m\n",
      "\u001b[34m[11/03/2024 01:48:25 INFO 139812327216960] loading entry points\u001b[0m\n",
      "\u001b[34m[11/03/2024 01:48:25 INFO 139812327216960] loaded request iterator application/json\u001b[0m\n",
      "\u001b[34m[11/03/2024 01:48:25 INFO 139812327216960] loaded request iterator application/jsonlines\u001b[0m\n",
      "\u001b[34m[11/03/2024 01:48:25 INFO 139812327216960] loaded request iterator application/x-recordio-protobuf\u001b[0m\n",
      "\u001b[34m[11/03/2024 01:48:25 INFO 139812327216960] loaded request iterator text/csv\u001b[0m\n",
      "\u001b[34m[11/03/2024 01:48:25 INFO 139812327216960] loaded response encoder application/json\u001b[0m\n",
      "\u001b[34m[11/03/2024 01:48:25 INFO 139812327216960] loaded response encoder application/jsonlines\u001b[0m\n",
      "\u001b[34m[11/03/2024 01:48:25 INFO 139812327216960] loaded response encoder application/x-recordio-protobuf\u001b[0m\n",
      "\u001b[34m[11/03/2024 01:48:25 INFO 139812327216960] loaded response encoder text/csv\u001b[0m\n",
      "\u001b[34m[11/03/2024 01:48:25 INFO 139812327216960] loaded entry point class algorithm:model\u001b[0m\n",
      "\u001b[34m[11/03/2024 01:48:25 INFO 139812327216960] Number of server workers: 4\u001b[0m\n",
      "\u001b[34m[11/03/2024 01:48:25 INFO 139812327216960] loading model...\u001b[0m\n",
      "\u001b[34m[11/03/2024 01:48:25 INFO 139812327216960] ...model loaded.\u001b[0m\n",
      "\u001b[35m[11/03/2024 01:48:25 WARNING 139812327216960] Loggers have already been setup.\u001b[0m\n",
      "\u001b[35m[11/03/2024 01:48:25 INFO 139812327216960] loaded entry point class algorithm.serve.server_config:config_api\u001b[0m\n",
      "\u001b[35m[11/03/2024 01:48:25 INFO 139812327216960] loading entry points\u001b[0m\n",
      "\u001b[35m[11/03/2024 01:48:25 INFO 139812327216960] loaded request iterator application/json\u001b[0m\n",
      "\u001b[35m[11/03/2024 01:48:25 INFO 139812327216960] loaded request iterator application/jsonlines\u001b[0m\n",
      "\u001b[35m[11/03/2024 01:48:25 INFO 139812327216960] loaded request iterator application/x-recordio-protobuf\u001b[0m\n",
      "\u001b[35m[11/03/2024 01:48:25 INFO 139812327216960] loaded request iterator text/csv\u001b[0m\n",
      "\u001b[35m[11/03/2024 01:48:25 INFO 139812327216960] loaded response encoder application/json\u001b[0m\n",
      "\u001b[35m[11/03/2024 01:48:25 INFO 139812327216960] loaded response encoder application/jsonlines\u001b[0m\n",
      "\u001b[35m[11/03/2024 01:48:25 INFO 139812327216960] loaded response encoder application/x-recordio-protobuf\u001b[0m\n",
      "\u001b[35m[11/03/2024 01:48:25 INFO 139812327216960] loaded response encoder text/csv\u001b[0m\n",
      "\u001b[35m[11/03/2024 01:48:25 INFO 139812327216960] loaded entry point class algorithm:model\u001b[0m\n",
      "\u001b[35m[11/03/2024 01:48:25 INFO 139812327216960] Number of server workers: 4\u001b[0m\n",
      "\u001b[35m[11/03/2024 01:48:25 INFO 139812327216960] loading model...\u001b[0m\n",
      "\u001b[35m[11/03/2024 01:48:25 INFO 139812327216960] ...model loaded.\u001b[0m\n",
      "\u001b[34m[2024-11-03 01:48:25 +0000] [1] [INFO] Starting gunicorn 20.1.0\u001b[0m\n",
      "\u001b[34m[2024-11-03 01:48:25 +0000] [1] [INFO] Listening at: http://0.0.0.0:8080 (1)\u001b[0m\n",
      "\u001b[34m[2024-11-03 01:48:25 +0000] [1] [INFO] Using worker: sync\u001b[0m\n",
      "\u001b[34m[2024-11-03 01:48:25 +0000] [43] [INFO] Booting worker with pid: 43\u001b[0m\n",
      "\u001b[34m[2024-11-03 01:48:25 +0000] [52] [INFO] Booting worker with pid: 52\u001b[0m\n",
      "\u001b[34m[2024-11-03 01:48:25 +0000] [61] [INFO] Booting worker with pid: 61\u001b[0m\n",
      "\u001b[34m[2024-11-03 01:48:26 +0000] [70] [INFO] Booting worker with pid: 70\u001b[0m\n",
      "\u001b[35m[2024-11-03 01:48:25 +0000] [1] [INFO] Starting gunicorn 20.1.0\u001b[0m\n",
      "\u001b[35m[2024-11-03 01:48:25 +0000] [1] [INFO] Listening at: http://0.0.0.0:8080 (1)\u001b[0m\n",
      "\u001b[35m[2024-11-03 01:48:25 +0000] [1] [INFO] Using worker: sync\u001b[0m\n",
      "\u001b[35m[2024-11-03 01:48:25 +0000] [43] [INFO] Booting worker with pid: 43\u001b[0m\n",
      "\u001b[35m[2024-11-03 01:48:25 +0000] [52] [INFO] Booting worker with pid: 52\u001b[0m\n",
      "\u001b[35m[2024-11-03 01:48:25 +0000] [61] [INFO] Booting worker with pid: 61\u001b[0m\n",
      "\u001b[35m[2024-11-03 01:48:26 +0000] [70] [INFO] Booting worker with pid: 70\u001b[0m\n",
      "\u001b[34m#metrics {\"StartTime\": 1730598505.8011913, \"EndTime\": 1730598506.6080923, \"Dimensions\": {\"Algorithm\": \"LinearLearnerModel\", \"Host\": \"UNKNOWN\", \"Operation\": \"scoring\"}, \"Metrics\": {\"execution_parameters.count\": {\"sum\": 1.0, \"count\": 1, \"min\": 1, \"max\": 1}}}\u001b[0m\n",
      "\u001b[35m#metrics {\"StartTime\": 1730598505.8011913, \"EndTime\": 1730598506.6080923, \"Dimensions\": {\"Algorithm\": \"LinearLearnerModel\", \"Host\": \"UNKNOWN\", \"Operation\": \"scoring\"}, \"Metrics\": {\"execution_parameters.count\": {\"sum\": 1.0, \"count\": 1, \"min\": 1, \"max\": 1}}}\u001b[0m\n",
      "\u001b[34m#metrics {\"StartTime\": 1730598505.8011913, \"EndTime\": 1730598509.1586635, \"Dimensions\": {\"Algorithm\": \"LinearLearnerModel\", \"Host\": \"UNKNOWN\", \"Operation\": \"scoring\"}, \"Metrics\": {\"json.encoder.time\": {\"sum\": 124.89748001098633, \"count\": 1, \"min\": 124.89748001098633, \"max\": 124.89748001098633}, \"invocations.count\": {\"sum\": 1.0, \"count\": 1, \"min\": 1, \"max\": 1}}}\u001b[0m\n",
      "\u001b[34m#metrics {\"StartTime\": 1730598505.8011913, \"EndTime\": 1730598509.1693754, \"Dimensions\": {\"Algorithm\": \"LinearLearnerModel\", \"Host\": \"UNKNOWN\", \"Operation\": \"scoring\"}, \"Metrics\": {\"json.encoder.time\": {\"sum\": 129.6219825744629, \"count\": 1, \"min\": 129.6219825744629, \"max\": 129.6219825744629}, \"invocations.count\": {\"sum\": 1.0, \"count\": 1, \"min\": 1, \"max\": 1}}}\u001b[0m\n",
      "\u001b[34m#metrics {\"StartTime\": 1730598506.6082082, \"EndTime\": 1730598509.1718738, \"Dimensions\": {\"Algorithm\": \"LinearLearnerModel\", \"Host\": \"UNKNOWN\", \"Operation\": \"scoring\"}, \"Metrics\": {\"json.encoder.time\": {\"sum\": 118.62874031066895, \"count\": 1, \"min\": 118.62874031066895, \"max\": 118.62874031066895}, \"invocations.count\": {\"sum\": 1.0, \"count\": 1, \"min\": 1, \"max\": 1}}}\u001b[0m\n",
      "\u001b[35m#metrics {\"StartTime\": 1730598505.8011913, \"EndTime\": 1730598509.1586635, \"Dimensions\": {\"Algorithm\": \"LinearLearnerModel\", \"Host\": \"UNKNOWN\", \"Operation\": \"scoring\"}, \"Metrics\": {\"json.encoder.time\": {\"sum\": 124.89748001098633, \"count\": 1, \"min\": 124.89748001098633, \"max\": 124.89748001098633}, \"invocations.count\": {\"sum\": 1.0, \"count\": 1, \"min\": 1, \"max\": 1}}}\u001b[0m\n",
      "\u001b[35m#metrics {\"StartTime\": 1730598505.8011913, \"EndTime\": 1730598509.1693754, \"Dimensions\": {\"Algorithm\": \"LinearLearnerModel\", \"Host\": \"UNKNOWN\", \"Operation\": \"scoring\"}, \"Metrics\": {\"json.encoder.time\": {\"sum\": 129.6219825744629, \"count\": 1, \"min\": 129.6219825744629, \"max\": 129.6219825744629}, \"invocations.count\": {\"sum\": 1.0, \"count\": 1, \"min\": 1, \"max\": 1}}}\u001b[0m\n",
      "\u001b[35m#metrics {\"StartTime\": 1730598506.6082082, \"EndTime\": 1730598509.1718738, \"Dimensions\": {\"Algorithm\": \"LinearLearnerModel\", \"Host\": \"UNKNOWN\", \"Operation\": \"scoring\"}, \"Metrics\": {\"json.encoder.time\": {\"sum\": 118.62874031066895, \"count\": 1, \"min\": 118.62874031066895, \"max\": 118.62874031066895}, \"invocations.count\": {\"sum\": 1.0, \"count\": 1, \"min\": 1, \"max\": 1}}}\u001b[0m\n",
      "\u001b[34m#metrics {\"StartTime\": 1730598505.8011913, \"EndTime\": 1730598509.2721574, \"Dimensions\": {\"Algorithm\": \"LinearLearnerModel\", \"Host\": \"UNKNOWN\", \"Operation\": \"scoring\"}, \"Metrics\": {\"json.encoder.time\": {\"sum\": 125.98896026611328, \"count\": 1, \"min\": 125.98896026611328, \"max\": 125.98896026611328}, \"invocations.count\": {\"sum\": 1.0, \"count\": 1, \"min\": 1, \"max\": 1}}}\u001b[0m\n",
      "\u001b[34m#metrics {\"StartTime\": 1730598509.2722917, \"EndTime\": 1730598509.98368, \"Dimensions\": {\"Algorithm\": \"LinearLearnerModel\", \"Host\": \"UNKNOWN\", \"Operation\": \"scoring\"}, \"Metrics\": {\"json.encoder.time\": {\"sum\": 45.831918716430664, \"count\": 1, \"min\": 45.831918716430664, \"max\": 45.831918716430664}, \"invocations.count\": {\"sum\": 1.0, \"count\": 1, \"min\": 1, \"max\": 1}}}\u001b[0m\n",
      "\u001b[35m#metrics {\"StartTime\": 1730598505.8011913, \"EndTime\": 1730598509.2721574, \"Dimensions\": {\"Algorithm\": \"LinearLearnerModel\", \"Host\": \"UNKNOWN\", \"Operation\": \"scoring\"}, \"Metrics\": {\"json.encoder.time\": {\"sum\": 125.98896026611328, \"count\": 1, \"min\": 125.98896026611328, \"max\": 125.98896026611328}, \"invocations.count\": {\"sum\": 1.0, \"count\": 1, \"min\": 1, \"max\": 1}}}\u001b[0m\n",
      "\u001b[35m#metrics {\"StartTime\": 1730598509.2722917, \"EndTime\": 1730598509.98368, \"Dimensions\": {\"Algorithm\": \"LinearLearnerModel\", \"Host\": \"UNKNOWN\", \"Operation\": \"scoring\"}, \"Metrics\": {\"json.encoder.time\": {\"sum\": 45.831918716430664, \"count\": 1, \"min\": 45.831918716430664, \"max\": 45.831918716430664}, \"invocations.count\": {\"sum\": 1.0, \"count\": 1, \"min\": 1, \"max\": 1}}}\u001b[0m\n",
      "\u001b[32m2024-11-03T01:48:26.612:[sagemaker logs]: MaxConcurrentTransforms=4, MaxPayloadInMB=6, BatchStrategy=MULTI_RECORD\u001b[0m\n",
      "\u001b[34m#metrics {\"StartTime\": 1730598509.1719677, \"EndTime\": 1730598510.4414685, \"Dimensions\": {\"Algorithm\": \"LinearLearnerModel\", \"Host\": \"UNKNOWN\", \"Operation\": \"scoring\"}, \"Metrics\": {\"json.encoder.time\": {\"sum\": 76.95937156677246, \"count\": 1, \"min\": 76.95937156677246, \"max\": 76.95937156677246}, \"invocations.count\": {\"sum\": 1.0, \"count\": 1, \"min\": 1, \"max\": 1}}}\u001b[0m\n",
      "\u001b[34m#metrics {\"StartTime\": 1730598509.158897, \"EndTime\": 1730598510.4870293, \"Dimensions\": {\"Algorithm\": \"LinearLearnerModel\", \"Host\": \"UNKNOWN\", \"Operation\": \"scoring\"}, \"Metrics\": {\"json.encoder.time\": {\"sum\": 86.64202690124512, \"count\": 1, \"min\": 86.64202690124512, \"max\": 86.64202690124512}, \"invocations.count\": {\"sum\": 1.0, \"count\": 1, \"min\": 1, \"max\": 1}}}\u001b[0m\n",
      "\u001b[34m#metrics {\"StartTime\": 1730598509.1695056, \"EndTime\": 1730598510.6215634, \"Dimensions\": {\"Algorithm\": \"LinearLearnerModel\", \"Host\": \"UNKNOWN\", \"Operation\": \"scoring\"}, \"Metrics\": {\"json.encoder.time\": {\"sum\": 100.23188591003418, \"count\": 1, \"min\": 100.23188591003418, \"max\": 100.23188591003418}, \"invocations.count\": {\"sum\": 1.0, \"count\": 1, \"min\": 1, \"max\": 1}}}\u001b[0m\n",
      "\u001b[35m#metrics {\"StartTime\": 1730598509.1719677, \"EndTime\": 1730598510.4414685, \"Dimensions\": {\"Algorithm\": \"LinearLearnerModel\", \"Host\": \"UNKNOWN\", \"Operation\": \"scoring\"}, \"Metrics\": {\"json.encoder.time\": {\"sum\": 76.95937156677246, \"count\": 1, \"min\": 76.95937156677246, \"max\": 76.95937156677246}, \"invocations.count\": {\"sum\": 1.0, \"count\": 1, \"min\": 1, \"max\": 1}}}\u001b[0m\n",
      "\u001b[35m#metrics {\"StartTime\": 1730598509.158897, \"EndTime\": 1730598510.4870293, \"Dimensions\": {\"Algorithm\": \"LinearLearnerModel\", \"Host\": \"UNKNOWN\", \"Operation\": \"scoring\"}, \"Metrics\": {\"json.encoder.time\": {\"sum\": 86.64202690124512, \"count\": 1, \"min\": 86.64202690124512, \"max\": 86.64202690124512}, \"invocations.count\": {\"sum\": 1.0, \"count\": 1, \"min\": 1, \"max\": 1}}}\u001b[0m\n",
      "\u001b[35m#metrics {\"StartTime\": 1730598509.1695056, \"EndTime\": 1730598510.6215634, \"Dimensions\": {\"Algorithm\": \"LinearLearnerModel\", \"Host\": \"UNKNOWN\", \"Operation\": \"scoring\"}, \"Metrics\": {\"json.encoder.time\": {\"sum\": 100.23188591003418, \"count\": 1, \"min\": 100.23188591003418, \"max\": 100.23188591003418}, \"invocations.count\": {\"sum\": 1.0, \"count\": 1, \"min\": 1, \"max\": 1}}}\u001b[0m\n"
     ]
    }
   ],
   "source": [
    "prefix = \"linear_learner_v2\"\n",
    "test_labels_v2, target_predicted_v2 = batch_linear_predict(prefix, test_v2, classifier_estimator2)"
   ]
  },
  {
   "cell_type": "code",
   "execution_count": 27,
   "metadata": {},
   "outputs": [],
   "source": [
    "### Generating Confusion Matrix Of Second LinearLearner Model"
   ]
  },
  {
   "cell_type": "code",
   "execution_count": 28,
   "metadata": {
    "tags": []
   },
   "outputs": [
    {
     "data": {
      "image/png": "[encoded data removed]",
      "text/plain": [
       "<Figure size 640x480 with 1 Axes>"
      ]
     },
     "metadata": {},
     "output_type": "display_data"
    }
   ],
   "source": [
    "plot_confusion_matrix(test_labels_v2, target_predicted_v2)"
   ]
  },
  {
   "cell_type": "code",
   "execution_count": 29,
   "metadata": {},
   "outputs": [],
   "source": [
    "### Generating ROC Of Second LinearLearner Model"
   ]
  },
  {
   "cell_type": "code",
   "execution_count": 30,
   "metadata": {
    "tags": []
   },
   "outputs": [
    {
     "name": "stdout",
     "output_type": "stream",
     "text": [
      "Sensitivity or TPR: 5.656310679611651 %\n",
      "Specificity or TNR: 98.79642383627649 %\n",
      "Precision: 55.5280213495997 %\n",
      "Negative Predictive Value: 79.7632584040351 %\n",
      "False Positive Rate: 1.2035761637235025 %\n",
      "False Negative Rate: 94.34368932038835 %\n",
      "False Discovery Rate: 44.47197865040031 %\n",
      "Accuracy: 79.2450446117413 %\n",
      "Validation AUC: 0.5222636725794407\n"
     ]
    },
    {
     "data": {
      "image/png": "[encoded data removed]",
      "text/plain": [
       "<Figure size 640x480 with 2 Axes>"
      ]
     },
     "metadata": {},
     "output_type": "display_data"
    }
   ],
   "source": [
    "plot_roc(test_labels_v2, target_predicted_v2)"
   ]
  },
  {
   "cell_type": "markdown",
   "metadata": {},
   "source": [
    "### XGBoost model"
   ]
  },
  {
   "cell_type": "code",
   "execution_count": 31,
   "metadata": {
    "tags": []
   },
   "outputs": [],
   "source": [
    "prefix='flight-xgb'\n",
    "train_file='flight_train.csv'\n",
    "test_file='flight_test.csv'\n",
    "validate_file='flight_validate.csv'\n",
    "\n",
    "upload_s3_csv(prefix, train_file, 'train', train_v1)\n",
    "upload_s3_csv(prefix, test_file, 'test', test_v1)\n",
    "upload_s3_csv(prefix, validate_file, 'validate', validate_v1)"
   ]
  },
  {
   "cell_type": "code",
   "execution_count": 32,
   "metadata": {
    "tags": []
   },
   "outputs": [],
   "source": [
    "train_channel = sagemaker.inputs.TrainingInput(\n",
    "    \"s3://{}/{}/train/\".format(bucket,prefix,train_file),\n",
    "    content_type='text/csv')\n",
    "\n",
    "validate_channel = sagemaker.inputs.TrainingInput(\n",
    "    \"s3://{}/{}/validate/\".format(bucket,prefix,validate_file),\n",
    "    content_type='text/csv')\n",
    "\n",
    "data_channels = {'train': train_channel, 'validation': validate_channel}"
   ]
  },
  {
   "cell_type": "code",
   "execution_count": 33,
   "metadata": {
    "tags": []
   },
   "outputs": [
    {
     "name": "stderr",
     "output_type": "stream",
     "text": [
      "INFO:sagemaker.image_uris:Defaulting to only available Python version: py3\n",
      "INFO:sagemaker.image_uris:Defaulting to only supported image scope: cpu.\n"
     ]
    }
   ],
   "source": [
    "from sagemaker.image_uris import retrieve\n",
    "container = retrieve('xgboost',boto3.Session().region_name,'1.0-1')"
   ]
  },
  {
   "cell_type": "code",
   "execution_count": 34,
   "metadata": {
    "tags": []
   },
   "outputs": [
    {
     "name": "stderr",
     "output_type": "stream",
     "text": [
      "INFO:sagemaker:Creating training-job with name: sagemaker-xgboost-2024-11-03-01-49-32-781\n"
     ]
    },
    {
     "name": "stdout",
     "output_type": "stream",
     "text": [
      "2024-11-03 01:49:34 Starting - Starting the training job...\n",
      "2024-11-03 01:49:49 Starting - Preparing the instances for training...\n",
      "2024-11-03 01:50:19 Downloading - Downloading input data...\n",
      "2024-11-03 01:50:54 Downloading - Downloading the training image......\n",
      "2024-11-03 01:51:45 Training - Training image download completed. Training in progress.\u001b[34m[2024-11-03 01:51:54.183 ip-10-0-245-241.ec2.internal:7 INFO utils.py:27] RULE_JOB_STOP_SIGNAL_FILENAME: None\u001b[0m\n",
      "\u001b[34mINFO:sagemaker-containers:Imported framework sagemaker_xgboost_container.training\u001b[0m\n",
      "\u001b[34mINFO:sagemaker-containers:Failed to parse hyperparameter eval_metric value auc to Json.\u001b[0m\n",
      "\u001b[34mReturning the value itself\u001b[0m\n",
      "\u001b[34mINFO:sagemaker-containers:Failed to parse hyperparameter objective value binary:logistic to Json.\u001b[0m\n",
      "\u001b[34mReturning the value itself\u001b[0m\n",
      "\u001b[34mINFO:sagemaker-containers:No GPUs detected (normal if no gpus installed)\u001b[0m\n",
      "\u001b[34mINFO:sagemaker_xgboost_container.training:Running XGBoost Sagemaker in algorithm mode\u001b[0m\n",
      "\u001b[34mINFO:root:Determined delimiter of CSV input is ','\u001b[0m\n",
      "\u001b[34mINFO:root:Determined delimiter of CSV input is ','\u001b[0m\n",
      "\u001b[34mINFO:root:Determined delimiter of CSV input is ','\u001b[0m\n",
      "\u001b[34mINFO:root:Determined delimiter of CSV input is ','\u001b[0m\n",
      "\u001b[34mINFO:root:Single node training.\u001b[0m\n",
      "\u001b[34m[01:51:57] 1144913x74 matrix with 84723562 entries loaded from /opt/ml/input/data/train?format=csv&label_column=0&delimiter=,\u001b[0m\n",
      "\u001b[34m[01:51:58] 245339x74 matrix with 18155086 entries loaded from /opt/ml/input/data/validation?format=csv&label_column=0&delimiter=,\u001b[0m\n",
      "\u001b[34m[2024-11-03 01:51:58.529 ip-10-0-245-241.ec2.internal:7 INFO json_config.py:91] Creating hook from json_config at /opt/ml/input/config/debughookconfig.json.\u001b[0m\n",
      "\u001b[34m[2024-11-03 01:51:58.529 ip-10-0-245-241.ec2.internal:7 INFO hook.py:201] tensorboard_dir has not been set for the hook. SMDebug will not be exporting tensorboard summaries.\u001b[0m\n",
      "\u001b[34m[2024-11-03 01:51:58.529 ip-10-0-245-241.ec2.internal:7 INFO profiler_config_parser.py:102] User has disabled profiler.\u001b[0m\n",
      "\u001b[34m[2024-11-03 01:51:58.531 ip-10-0-245-241.ec2.internal:7 INFO hook.py:255] Saving to /opt/ml/output/tensors\u001b[0m\n",
      "\u001b[34m[2024-11-03 01:51:58.531 ip-10-0-245-241.ec2.internal:7 INFO state_store.py:77] The checkpoint config file /opt/ml/input/config/checkpointconfig.json does not exist.\u001b[0m\n",
      "\u001b[34mINFO:root:Debug hook created from config\u001b[0m\n",
      "\u001b[34mINFO:root:Train matrix has 1144913 rows\u001b[0m\n",
      "\u001b[34mINFO:root:Validation matrix has 245339 rows\u001b[0m\n",
      "\u001b[34m[0]#011train-auc:0.60954#011validation-auc:0.61085\u001b[0m\n",
      "\u001b[34m[2024-11-03 01:52:02.925 ip-10-0-245-241.ec2.internal:7 INFO hook.py:423] Monitoring the collections: metrics\u001b[0m\n",
      "\u001b[34m[2024-11-03 01:52:02.928 ip-10-0-245-241.ec2.internal:7 INFO hook.py:486] Hook is writing from the hook with pid: 7\u001b[0m\n",
      "\u001b[34m[1]#011train-auc:0.61667#011validation-auc:0.61817\u001b[0m\n",
      "\u001b[34m[2]#011train-auc:0.61828#011validation-auc:0.61950\u001b[0m\n",
      "\u001b[34m[3]#011train-auc:0.62112#011validation-auc:0.62258\u001b[0m\n",
      "\u001b[34m[4]#011train-auc:0.62426#011validation-auc:0.62556\u001b[0m\n",
      "\u001b[34m[5]#011train-auc:0.62747#011validation-auc:0.62860\u001b[0m\n",
      "\u001b[34m[6]#011train-auc:0.62990#011validation-auc:0.63122\u001b[0m\n",
      "\u001b[34m[7]#011train-auc:0.63072#011validation-auc:0.63207\u001b[0m\n",
      "\u001b[34m[8]#011train-auc:0.63214#011validation-auc:0.63340\u001b[0m\n",
      "\u001b[34m[9]#011train-auc:0.63467#011validation-auc:0.63595\u001b[0m\n",
      "\u001b[34m[10]#011train-auc:0.63592#011validation-auc:0.63716\u001b[0m\n",
      "\u001b[34m[11]#011train-auc:0.63724#011validation-auc:0.63859\u001b[0m\n",
      "\u001b[34m[12]#011train-auc:0.63938#011validation-auc:0.64067\u001b[0m\n",
      "\u001b[34m[13]#011train-auc:0.64053#011validation-auc:0.64173\u001b[0m\n",
      "\u001b[34m[14]#011train-auc:0.64157#011validation-auc:0.64264\u001b[0m\n",
      "\u001b[34m[15]#011train-auc:0.64234#011validation-auc:0.64353\u001b[0m\n",
      "\u001b[34m[16]#011train-auc:0.64286#011validation-auc:0.64408\u001b[0m\n",
      "\u001b[34m[17]#011train-auc:0.64396#011validation-auc:0.64506\u001b[0m\n",
      "\u001b[34m[18]#011train-auc:0.64574#011validation-auc:0.64658\u001b[0m\n",
      "\u001b[34m[19]#011train-auc:0.64665#011validation-auc:0.64742\u001b[0m\n",
      "\u001b[34m[20]#011train-auc:0.64731#011validation-auc:0.64809\u001b[0m\n",
      "\u001b[34m[21]#011train-auc:0.64811#011validation-auc:0.64881\u001b[0m\n",
      "\u001b[34m[22]#011train-auc:0.64914#011validation-auc:0.64982\u001b[0m\n",
      "\u001b[34m[23]#011train-auc:0.64990#011validation-auc:0.65057\u001b[0m\n",
      "\u001b[34m[24]#011train-auc:0.65051#011validation-auc:0.65113\u001b[0m\n",
      "\u001b[34m[25]#011train-auc:0.65114#011validation-auc:0.65170\u001b[0m\n",
      "\u001b[34m[26]#011train-auc:0.65170#011validation-auc:0.65222\u001b[0m\n",
      "\u001b[34m[27]#011train-auc:0.65227#011validation-auc:0.65273\u001b[0m\n",
      "\u001b[34m[28]#011train-auc:0.65350#011validation-auc:0.65388\u001b[0m\n",
      "\u001b[34m[29]#011train-auc:0.65396#011validation-auc:0.65428\u001b[0m\n",
      "\u001b[34m[30]#011train-auc:0.65476#011validation-auc:0.65498\u001b[0m\n",
      "\u001b[34m[31]#011train-auc:0.65536#011validation-auc:0.65547\u001b[0m\n",
      "\u001b[34m[32]#011train-auc:0.65574#011validation-auc:0.65576\u001b[0m\n",
      "\u001b[34m[33]#011train-auc:0.65618#011validation-auc:0.65614\u001b[0m\n",
      "\u001b[34m[34]#011train-auc:0.65689#011validation-auc:0.65680\u001b[0m\n",
      "\u001b[34m[35]#011train-auc:0.65719#011validation-auc:0.65696\u001b[0m\n",
      "\u001b[34m[36]#011train-auc:0.65819#011validation-auc:0.65788\u001b[0m\n",
      "\u001b[34m[37]#011train-auc:0.65846#011validation-auc:0.65807\u001b[0m\n",
      "\u001b[34m[38]#011train-auc:0.65891#011validation-auc:0.65847\u001b[0m\n",
      "\u001b[34m[39]#011train-auc:0.65942#011validation-auc:0.65896\u001b[0m\n",
      "\u001b[34m[40]#011train-auc:0.65983#011validation-auc:0.65937\u001b[0m\n",
      "\u001b[34m[41]#011train-auc:0.66023#011validation-auc:0.65976\u001b[0m\n",
      "\u001b[34m[42]#011train-auc:0.66052#011validation-auc:0.66004\u001b[0m\n",
      "\u001b[34m[43]#011train-auc:0.66076#011validation-auc:0.66023\u001b[0m\n",
      "\u001b[34m[44]#011train-auc:0.66121#011validation-auc:0.66061\u001b[0m\n",
      "\u001b[34m[45]#011train-auc:0.66158#011validation-auc:0.66090\u001b[0m\n",
      "\u001b[34m[46]#011train-auc:0.66185#011validation-auc:0.66109\u001b[0m\n",
      "\u001b[34m[47]#011train-auc:0.66215#011validation-auc:0.66135\u001b[0m\n",
      "\u001b[34m[48]#011train-auc:0.66242#011validation-auc:0.66152\u001b[0m\n",
      "\u001b[34m[49]#011train-auc:0.66297#011validation-auc:0.66202\u001b[0m\n",
      "\u001b[34m[50]#011train-auc:0.66322#011validation-auc:0.66219\u001b[0m\n",
      "\u001b[34m[51]#011train-auc:0.66344#011validation-auc:0.66236\u001b[0m\n",
      "\u001b[34m[52]#011train-auc:0.66362#011validation-auc:0.66254\u001b[0m\n",
      "\u001b[34m[53]#011train-auc:0.66385#011validation-auc:0.66267\u001b[0m\n",
      "\u001b[34m[54]#011train-auc:0.66426#011validation-auc:0.66307\u001b[0m\n",
      "\u001b[34m[55]#011train-auc:0.66463#011validation-auc:0.66346\u001b[0m\n",
      "\u001b[34m[56]#011train-auc:0.66494#011validation-auc:0.66371\u001b[0m\n",
      "\u001b[34m[57]#011train-auc:0.66510#011validation-auc:0.66379\u001b[0m\n",
      "\u001b[34m[58]#011train-auc:0.66533#011validation-auc:0.66397\u001b[0m\n",
      "\u001b[34m[59]#011train-auc:0.66545#011validation-auc:0.66411\u001b[0m\n",
      "\u001b[34m[60]#011train-auc:0.66573#011validation-auc:0.66434\u001b[0m\n",
      "\u001b[34m[61]#011train-auc:0.66650#011validation-auc:0.66515\u001b[0m\n",
      "\u001b[34m[62]#011train-auc:0.66674#011validation-auc:0.66538\u001b[0m\n",
      "\u001b[34m[63]#011train-auc:0.66709#011validation-auc:0.66563\u001b[0m\n",
      "\u001b[34m[64]#011train-auc:0.66726#011validation-auc:0.66572\u001b[0m\n",
      "\u001b[34m[65]#011train-auc:0.66754#011validation-auc:0.66598\u001b[0m\n",
      "\u001b[34m[66]#011train-auc:0.66799#011validation-auc:0.66641\u001b[0m\n",
      "\u001b[34m[67]#011train-auc:0.66828#011validation-auc:0.66664\u001b[0m\n",
      "\u001b[34m[68]#011train-auc:0.66866#011validation-auc:0.66691\u001b[0m\n",
      "\u001b[34m[69]#011train-auc:0.66885#011validation-auc:0.66706\u001b[0m\n",
      "\u001b[34m[70]#011train-auc:0.66921#011validation-auc:0.66737\u001b[0m\n",
      "\u001b[34m[71]#011train-auc:0.66974#011validation-auc:0.66792\u001b[0m\n",
      "\u001b[34m[72]#011train-auc:0.67000#011validation-auc:0.66816\u001b[0m\n",
      "\u001b[34m[73]#011train-auc:0.67019#011validation-auc:0.66832\u001b[0m\n",
      "\u001b[34m[74]#011train-auc:0.67039#011validation-auc:0.66846\u001b[0m\n",
      "\u001b[34m[75]#011train-auc:0.67062#011validation-auc:0.66863\u001b[0m\n",
      "\u001b[34m[76]#011train-auc:0.67112#011validation-auc:0.66913\u001b[0m\n",
      "\u001b[34m[77]#011train-auc:0.67129#011validation-auc:0.66931\u001b[0m\n",
      "\u001b[34m[78]#011train-auc:0.67176#011validation-auc:0.66972\u001b[0m\n",
      "\u001b[34m[79]#011train-auc:0.67188#011validation-auc:0.66983\u001b[0m\n",
      "\u001b[34m[80]#011train-auc:0.67224#011validation-auc:0.67013\u001b[0m\n",
      "\u001b[34m[81]#011train-auc:0.67255#011validation-auc:0.67040\u001b[0m\n",
      "\u001b[34m[82]#011train-auc:0.67300#011validation-auc:0.67076\u001b[0m\n",
      "\u001b[34m[83]#011train-auc:0.67332#011validation-auc:0.67108\u001b[0m\n",
      "\u001b[34m[84]#011train-auc:0.67376#011validation-auc:0.67150\u001b[0m\n",
      "\u001b[34m[85]#011train-auc:0.67388#011validation-auc:0.67159\u001b[0m\n",
      "\u001b[34m[86]#011train-auc:0.67406#011validation-auc:0.67178\u001b[0m\n",
      "\u001b[34m[87]#011train-auc:0.67431#011validation-auc:0.67199\u001b[0m\n",
      "\u001b[34m[88]#011train-auc:0.67457#011validation-auc:0.67224\u001b[0m\n",
      "\u001b[34m[89]#011train-auc:0.67477#011validation-auc:0.67238\u001b[0m\n",
      "\u001b[34m[90]#011train-auc:0.67503#011validation-auc:0.67259\u001b[0m\n",
      "\u001b[34m[91]#011train-auc:0.67534#011validation-auc:0.67287\u001b[0m\n",
      "\u001b[34m[92]#011train-auc:0.67546#011validation-auc:0.67296\u001b[0m\n",
      "\u001b[34m[93]#011train-auc:0.67580#011validation-auc:0.67324\u001b[0m\n",
      "\u001b[34m[94]#011train-auc:0.67619#011validation-auc:0.67362\u001b[0m\n",
      "\u001b[34m[95]#011train-auc:0.67634#011validation-auc:0.67370\u001b[0m\n",
      "\u001b[34m[96]#011train-auc:0.67660#011validation-auc:0.67388\u001b[0m\n",
      "\u001b[34m[97]#011train-auc:0.67670#011validation-auc:0.67394\u001b[0m\n",
      "\u001b[34m[98]#011train-auc:0.67681#011validation-auc:0.67400\u001b[0m\n",
      "\u001b[34m[99]#011train-auc:0.67703#011validation-auc:0.67414\u001b[0m\n",
      "\n",
      "2024-11-03 01:55:09 Uploading - Uploading generated training model\n",
      "2024-11-03 01:55:09 Completed - Training job completed\n",
      "Training seconds: 290\n",
      "Billable seconds: 290\n"
     ]
    }
   ],
   "source": [
    "sess = sagemaker.Session()\n",
    "s3_output_location=\"s3://{}/{}/output/\".format(bucket,prefix)\n",
    "\n",
    "xgb = sagemaker.estimator.Estimator(container,\n",
    "                                    role = sagemaker.get_execution_role(), \n",
    "                                    instance_count=1, \n",
    "                                    instance_type=instance_type,\n",
    "                                    output_path=s3_output_location,\n",
    "                                    sagemaker_session=sess)\n",
    "xgb.set_hyperparameters(max_depth=5,\n",
    "                        eta=0.2,\n",
    "                        gamma=4,\n",
    "                        min_child_weight=6,\n",
    "                        subsample=0.8,\n",
    "                        silent=0,\n",
    "                        objective='binary:logistic',\n",
    "                        eval_metric = \"auc\", \n",
    "                        num_round=100)\n",
    "\n",
    "xgb.fit(inputs=data_channels)"
   ]
  },
  {
   "cell_type": "code",
   "execution_count": 35,
   "metadata": {
    "tags": []
   },
   "outputs": [
    {
     "name": "stderr",
     "output_type": "stream",
     "text": [
      "INFO:sagemaker:Creating model with name: sagemaker-xgboost-2024-11-03-01-55-25-464\n",
      "INFO:sagemaker:Creating transform job with name: sagemaker-xgboost-2024-11-03-01-55-26-156\n"
     ]
    },
    {
     "name": "stdout",
     "output_type": "stream",
     "text": [
      "....................................\u001b[34m[2024-11-03:02:01:25:INFO] No GPUs detected (normal if no gpus installed)\u001b[0m\n",
      "\u001b[34m[2024-11-03:02:01:25:INFO] No GPUs detected (normal if no gpus installed)\u001b[0m\n",
      "\u001b[34m[2024-11-03:02:01:25:INFO] nginx config: \u001b[0m\n",
      "\u001b[34mworker_processes auto;\u001b[0m\n",
      "\u001b[34mdaemon off;\u001b[0m\n",
      "\u001b[34mpid /tmp/nginx.pid;\u001b[0m\n",
      "\u001b[34merror_log  /dev/stderr;\u001b[0m\n",
      "\u001b[34mworker_rlimit_nofile 4096;\u001b[0m\n",
      "\u001b[34mevents {\n",
      "  worker_connections 2048;\u001b[0m\n",
      "\u001b[34m}\u001b[0m\n",
      "\u001b[34mhttp {\n",
      "  include /etc/nginx/mime.types;\n",
      "  default_type application/octet-stream;\n",
      "  access_log /dev/stdout combined;\n",
      "  upstream gunicorn {\n",
      "    server unix:/tmp/gunicorn.sock;\n",
      "  }\n",
      "  server {\n",
      "    listen 8080 deferred;\n",
      "    client_max_body_size 0;\n",
      "    keepalive_timeout 3;\n",
      "    location ~ ^/(ping|invocations|execution-parameters) {\n",
      "      proxy_set_header X-Forwarded-For $proxy_add_x_forwarded_for;\n",
      "      proxy_set_header Host $http_host;\n",
      "      proxy_redirect off;\n",
      "      proxy_read_timeout 60s;\n",
      "      proxy_pass http://gunicorn;\n",
      "    }\n",
      "    location / {\n",
      "      return 404 \"{}\";\n",
      "    }\n",
      "  }\u001b[0m\n",
      "\u001b[34m}\u001b[0m\n",
      "\u001b[34m[2024-11-03 02:01:25 +0000] [19] [INFO] Starting gunicorn 19.10.0\u001b[0m\n",
      "\u001b[34m[2024-11-03 02:01:25 +0000] [19] [INFO] Listening at: unix:/tmp/gunicorn.sock (19)\u001b[0m\n",
      "\u001b[34m[2024-11-03 02:01:25 +0000] [19] [INFO] Using worker: gevent\u001b[0m\n",
      "\u001b[34m[2024-11-03 02:01:25 +0000] [26] [INFO] Booting worker with pid: 26\u001b[0m\n",
      "\u001b[34m[2024-11-03 02:01:26 +0000] [27] [INFO] Booting worker with pid: 27\u001b[0m\n",
      "\u001b[34m[2024-11-03 02:01:26 +0000] [28] [INFO] Booting worker with pid: 28\u001b[0m\n",
      "\u001b[34m[2024-11-03 02:01:26 +0000] [29] [INFO] Booting worker with pid: 29\u001b[0m\n",
      "\u001b[34m[2024-11-03:02:01:31:INFO] No GPUs detected (normal if no gpus installed)\u001b[0m\n",
      "\u001b[34m169.254.255.130 - - [03/Nov/2024:02:01:31 +0000] \"GET /ping HTTP/1.1\" 200 0 \"-\" \"Go-http-client/1.1\"\u001b[0m\n",
      "\u001b[34m169.254.255.130 - - [03/Nov/2024:02:01:31 +0000] \"GET /execution-parameters HTTP/1.1\" 200 84 \"-\" \"Go-http-client/1.1\"\u001b[0m\n",
      "\u001b[34m[2024-11-03:02:01:32:INFO] No GPUs detected (normal if no gpus installed)\u001b[0m\n",
      "\u001b[34m[2024-11-03:02:01:32:INFO] Determined delimiter of CSV input is ','\u001b[0m\n",
      "\u001b[34m[2024-11-03:02:01:32:INFO] No GPUs detected (normal if no gpus installed)\u001b[0m\n",
      "\u001b[34m[2024-11-03:02:01:32:INFO] Determined delimiter of CSV input is ','\u001b[0m\n",
      "\u001b[34m[2024-11-03:02:01:32:INFO] Determined delimiter of CSV input is ','\u001b[0m\n",
      "\u001b[34m[2024-11-03:02:01:32:INFO] No GPUs detected (normal if no gpus installed)\u001b[0m\n",
      "\u001b[34m[2024-11-03:02:01:32:INFO] Determined delimiter of CSV input is ','\u001b[0m\n",
      "\u001b[32m2024-11-03T02:01:31.268:[sagemaker logs]: MaxConcurrentTransforms=4, MaxPayloadInMB=6, BatchStrategy=MULTI_RECORD\u001b[0m\n",
      "\u001b[34m169.254.255.130 - - [03/Nov/2024:02:01:36 +0000] \"POST /invocations HTTP/1.1\" 200 810276 \"-\" \"Go-http-client/1.1\"\u001b[0m\n",
      "\u001b[34m169.254.255.130 - - [03/Nov/2024:02:01:36 +0000] \"POST /invocations HTTP/1.1\" 200 810276 \"-\" \"Go-http-client/1.1\"\u001b[0m\n",
      "\u001b[34m169.254.255.130 - - [03/Nov/2024:02:01:36 +0000] \"POST /invocations HTTP/1.1\" 200 810593 \"-\" \"Go-http-client/1.1\"\u001b[0m\n",
      "\u001b[34m169.254.255.130 - - [03/Nov/2024:02:01:36 +0000] \"POST /invocations HTTP/1.1\" 200 810362 \"-\" \"Go-http-client/1.1\"\u001b[0m\n",
      "\u001b[35m169.254.255.130 - - [03/Nov/2024:02:01:36 +0000] \"POST /invocations HTTP/1.1\" 200 810276 \"-\" \"Go-http-client/1.1\"\u001b[0m\n",
      "\u001b[35m169.254.255.130 - - [03/Nov/2024:02:01:36 +0000] \"POST /invocations HTTP/1.1\" 200 810276 \"-\" \"Go-http-client/1.1\"\u001b[0m\n",
      "\u001b[35m169.254.255.130 - - [03/Nov/2024:02:01:36 +0000] \"POST /invocations HTTP/1.1\" 200 810593 \"-\" \"Go-http-client/1.1\"\u001b[0m\n",
      "\u001b[35m169.254.255.130 - - [03/Nov/2024:02:01:36 +0000] \"POST /invocations HTTP/1.1\" 200 810362 \"-\" \"Go-http-client/1.1\"\u001b[0m\n",
      "\u001b[34m[2024-11-03:02:01:36:INFO] Determined delimiter of CSV input is ','\u001b[0m\n",
      "\u001b[34m[2024-11-03:02:01:36:INFO] Determined delimiter of CSV input is ','\u001b[0m\n",
      "\u001b[35m[2024-11-03:02:01:36:INFO] Determined delimiter of CSV input is ','\u001b[0m\n",
      "\u001b[35m[2024-11-03:02:01:36:INFO] Determined delimiter of CSV input is ','\u001b[0m\n",
      "\u001b[34m169.254.255.130 - - [03/Nov/2024:02:01:38 +0000] \"POST /invocations HTTP/1.1\" 200 763364 \"-\" \"Go-http-client/1.1\"\u001b[0m\n",
      "\u001b[34m169.254.255.130 - - [03/Nov/2024:02:01:38 +0000] \"POST /invocations HTTP/1.1\" 200 810284 \"-\" \"Go-http-client/1.1\"\u001b[0m\n",
      "\u001b[35m169.254.255.130 - - [03/Nov/2024:02:01:38 +0000] \"POST /invocations HTTP/1.1\" 200 763364 \"-\" \"Go-http-client/1.1\"\u001b[0m\n",
      "\u001b[35m169.254.255.130 - - [03/Nov/2024:02:01:38 +0000] \"POST /invocations HTTP/1.1\" 200 810284 \"-\" \"Go-http-client/1.1\"\u001b[0m\n",
      "\n",
      "\u001b[34m[2024-11-03:02:01:25:INFO] No GPUs detected (normal if no gpus installed)\u001b[0m\n",
      "\u001b[34m[2024-11-03:02:01:25:INFO] No GPUs detected (normal if no gpus installed)\u001b[0m\n",
      "\u001b[34m[2024-11-03:02:01:25:INFO] nginx config: \u001b[0m\n",
      "\u001b[34mworker_processes auto;\u001b[0m\n",
      "\u001b[34mdaemon off;\u001b[0m\n",
      "\u001b[34mpid /tmp/nginx.pid;\u001b[0m\n",
      "\u001b[34merror_log  /dev/stderr;\u001b[0m\n",
      "\u001b[34mworker_rlimit_nofile 4096;\u001b[0m\n",
      "\u001b[34mevents {\n",
      "  worker_connections 2048;\u001b[0m\n",
      "\u001b[34m}\u001b[0m\n",
      "\u001b[34mhttp {\n",
      "  include /etc/nginx/mime.types;\n",
      "  default_type application/octet-stream;\n",
      "  access_log /dev/stdout combined;\n",
      "  upstream gunicorn {\n",
      "    server unix:/tmp/gunicorn.sock;\n",
      "  }\n",
      "  server {\n",
      "    listen 8080 deferred;\n",
      "    client_max_body_size 0;\n",
      "    keepalive_timeout 3;\n",
      "    location ~ ^/(ping|invocations|execution-parameters) {\n",
      "      proxy_set_header X-Forwarded-For $proxy_add_x_forwarded_for;\n",
      "      proxy_set_header Host $http_host;\n",
      "      proxy_redirect off;\n",
      "      proxy_read_timeout 60s;\n",
      "      proxy_pass http://gunicorn;\n",
      "    }\n",
      "    location / {\n",
      "      return 404 \"{}\";\n",
      "    }\n",
      "  }\u001b[0m\n",
      "\u001b[34m}\u001b[0m\n",
      "\u001b[34m[2024-11-03 02:01:25 +0000] [19] [INFO] Starting gunicorn 19.10.0\u001b[0m\n",
      "\u001b[34m[2024-11-03 02:01:25 +0000] [19] [INFO] Listening at: unix:/tmp/gunicorn.sock (19)\u001b[0m\n",
      "\u001b[35m[2024-11-03:02:01:25:INFO] No GPUs detected (normal if no gpus installed)\u001b[0m\n",
      "\u001b[35m[2024-11-03:02:01:25:INFO] No GPUs detected (normal if no gpus installed)\u001b[0m\n",
      "\u001b[35m[2024-11-03:02:01:25:INFO] nginx config: \u001b[0m\n",
      "\u001b[35mworker_processes auto;\u001b[0m\n",
      "\u001b[35mdaemon off;\u001b[0m\n",
      "\u001b[35mpid /tmp/nginx.pid;\u001b[0m\n",
      "\u001b[35merror_log  /dev/stderr;\u001b[0m\n",
      "\u001b[35mworker_rlimit_nofile 4096;\u001b[0m\n",
      "\u001b[35mevents {\n",
      "  worker_connections 2048;\u001b[0m\n",
      "\u001b[35m}\u001b[0m\n",
      "\u001b[35mhttp {\n",
      "  include /etc/nginx/mime.types;\n",
      "  default_type application/octet-stream;\n",
      "  access_log /dev/stdout combined;\n",
      "  upstream gunicorn {\n",
      "    server unix:/tmp/gunicorn.sock;\n",
      "  }\n",
      "  server {\n",
      "    listen 8080 deferred;\n",
      "    client_max_body_size 0;\n",
      "    keepalive_timeout 3;\n",
      "    location ~ ^/(ping|invocations|execution-parameters) {\n",
      "      proxy_set_header X-Forwarded-For $proxy_add_x_forwarded_for;\n",
      "      proxy_set_header Host $http_host;\n",
      "      proxy_redirect off;\n",
      "      proxy_read_timeout 60s;\n",
      "      proxy_pass http://gunicorn;\n",
      "    }\n",
      "    location / {\n",
      "      return 404 \"{}\";\n",
      "    }\n",
      "  }\u001b[0m\n",
      "\u001b[35m}\u001b[0m\n",
      "\u001b[35m[2024-11-03 02:01:25 +0000] [19] [INFO] Starting gunicorn 19.10.0\u001b[0m\n",
      "\u001b[35m[2024-11-03 02:01:25 +0000] [19] [INFO] Listening at: unix:/tmp/gunicorn.sock (19)\u001b[0m\n",
      "\u001b[34m[2024-11-03 02:01:25 +0000] [19] [INFO] Using worker: gevent\u001b[0m\n",
      "\u001b[34m[2024-11-03 02:01:25 +0000] [26] [INFO] Booting worker with pid: 26\u001b[0m\n",
      "\u001b[34m[2024-11-03 02:01:26 +0000] [27] [INFO] Booting worker with pid: 27\u001b[0m\n",
      "\u001b[34m[2024-11-03 02:01:26 +0000] [28] [INFO] Booting worker with pid: 28\u001b[0m\n",
      "\u001b[34m[2024-11-03 02:01:26 +0000] [29] [INFO] Booting worker with pid: 29\u001b[0m\n",
      "\u001b[35m[2024-11-03 02:01:25 +0000] [19] [INFO] Using worker: gevent\u001b[0m\n",
      "\u001b[35m[2024-11-03 02:01:25 +0000] [26] [INFO] Booting worker with pid: 26\u001b[0m\n",
      "\u001b[35m[2024-11-03 02:01:26 +0000] [27] [INFO] Booting worker with pid: 27\u001b[0m\n",
      "\u001b[35m[2024-11-03 02:01:26 +0000] [28] [INFO] Booting worker with pid: 28\u001b[0m\n",
      "\u001b[35m[2024-11-03 02:01:26 +0000] [29] [INFO] Booting worker with pid: 29\u001b[0m\n",
      "\u001b[34m[2024-11-03:02:01:31:INFO] No GPUs detected (normal if no gpus installed)\u001b[0m\n",
      "\u001b[35m[2024-11-03:02:01:31:INFO] No GPUs detected (normal if no gpus installed)\u001b[0m\n",
      "\u001b[34m169.254.255.130 - - [03/Nov/2024:02:01:31 +0000] \"GET /ping HTTP/1.1\" 200 0 \"-\" \"Go-http-client/1.1\"\u001b[0m\n",
      "\u001b[34m169.254.255.130 - - [03/Nov/2024:02:01:31 +0000] \"GET /execution-parameters HTTP/1.1\" 200 84 \"-\" \"Go-http-client/1.1\"\u001b[0m\n",
      "\u001b[35m169.254.255.130 - - [03/Nov/2024:02:01:31 +0000] \"GET /ping HTTP/1.1\" 200 0 \"-\" \"Go-http-client/1.1\"\u001b[0m\n",
      "\u001b[35m169.254.255.130 - - [03/Nov/2024:02:01:31 +0000] \"GET /execution-parameters HTTP/1.1\" 200 84 \"-\" \"Go-http-client/1.1\"\u001b[0m\n",
      "\u001b[34m[2024-11-03:02:01:32:INFO] No GPUs detected (normal if no gpus installed)\u001b[0m\n",
      "\u001b[34m[2024-11-03:02:01:32:INFO] Determined delimiter of CSV input is ','\u001b[0m\n",
      "\u001b[34m[2024-11-03:02:01:32:INFO] No GPUs detected (normal if no gpus installed)\u001b[0m\n",
      "\u001b[34m[2024-11-03:02:01:32:INFO] Determined delimiter of CSV input is ','\u001b[0m\n",
      "\u001b[34m[2024-11-03:02:01:32:INFO] Determined delimiter of CSV input is ','\u001b[0m\n",
      "\u001b[34m[2024-11-03:02:01:32:INFO] No GPUs detected (normal if no gpus installed)\u001b[0m\n",
      "\u001b[34m[2024-11-03:02:01:32:INFO] Determined delimiter of CSV input is ','\u001b[0m\n",
      "\u001b[35m[2024-11-03:02:01:32:INFO] No GPUs detected (normal if no gpus installed)\u001b[0m\n",
      "\u001b[35m[2024-11-03:02:01:32:INFO] Determined delimiter of CSV input is ','\u001b[0m\n",
      "\u001b[35m[2024-11-03:02:01:32:INFO] No GPUs detected (normal if no gpus installed)\u001b[0m\n",
      "\u001b[35m[2024-11-03:02:01:32:INFO] Determined delimiter of CSV input is ','\u001b[0m\n",
      "\u001b[35m[2024-11-03:02:01:32:INFO] Determined delimiter of CSV input is ','\u001b[0m\n",
      "\u001b[35m[2024-11-03:02:01:32:INFO] No GPUs detected (normal if no gpus installed)\u001b[0m\n",
      "\u001b[35m[2024-11-03:02:01:32:INFO] Determined delimiter of CSV input is ','\u001b[0m\n",
      "\u001b[32m2024-11-03T02:01:31.268:[sagemaker logs]: MaxConcurrentTransforms=4, MaxPayloadInMB=6, BatchStrategy=MULTI_RECORD\u001b[0m\n",
      "\u001b[34m169.254.255.130 - - [03/Nov/2024:02:01:36 +0000] \"POST /invocations HTTP/1.1\" 200 810276 \"-\" \"Go-http-client/1.1\"\u001b[0m\n",
      "\u001b[34m169.254.255.130 - - [03/Nov/2024:02:01:36 +0000] \"POST /invocations HTTP/1.1\" 200 810276 \"-\" \"Go-http-client/1.1\"\u001b[0m\n",
      "\u001b[34m169.254.255.130 - - [03/Nov/2024:02:01:36 +0000] \"POST /invocations HTTP/1.1\" 200 810593 \"-\" \"Go-http-client/1.1\"\u001b[0m\n",
      "\u001b[34m169.254.255.130 - - [03/Nov/2024:02:01:36 +0000] \"POST /invocations HTTP/1.1\" 200 810362 \"-\" \"Go-http-client/1.1\"\u001b[0m\n",
      "\u001b[35m169.254.255.130 - - [03/Nov/2024:02:01:36 +0000] \"POST /invocations HTTP/1.1\" 200 810276 \"-\" \"Go-http-client/1.1\"\u001b[0m\n",
      "\u001b[35m169.254.255.130 - - [03/Nov/2024:02:01:36 +0000] \"POST /invocations HTTP/1.1\" 200 810276 \"-\" \"Go-http-client/1.1\"\u001b[0m\n",
      "\u001b[35m169.254.255.130 - - [03/Nov/2024:02:01:36 +0000] \"POST /invocations HTTP/1.1\" 200 810593 \"-\" \"Go-http-client/1.1\"\u001b[0m\n",
      "\u001b[35m169.254.255.130 - - [03/Nov/2024:02:01:36 +0000] \"POST /invocations HTTP/1.1\" 200 810362 \"-\" \"Go-http-client/1.1\"\u001b[0m\n",
      "\u001b[34m[2024-11-03:02:01:36:INFO] Determined delimiter of CSV input is ','\u001b[0m\n",
      "\u001b[34m[2024-11-03:02:01:36:INFO] Determined delimiter of CSV input is ','\u001b[0m\n",
      "\u001b[35m[2024-11-03:02:01:36:INFO] Determined delimiter of CSV input is ','\u001b[0m\n",
      "\u001b[35m[2024-11-03:02:01:36:INFO] Determined delimiter of CSV input is ','\u001b[0m\n",
      "\u001b[34m169.254.255.130 - - [03/Nov/2024:02:01:38 +0000] \"POST /invocations HTTP/1.1\" 200 763364 \"-\" \"Go-http-client/1.1\"\u001b[0m\n",
      "\u001b[34m169.254.255.130 - - [03/Nov/2024:02:01:38 +0000] \"POST /invocations HTTP/1.1\" 200 810284 \"-\" \"Go-http-client/1.1\"\u001b[0m\n",
      "\u001b[35m169.254.255.130 - - [03/Nov/2024:02:01:38 +0000] \"POST /invocations HTTP/1.1\" 200 763364 \"-\" \"Go-http-client/1.1\"\u001b[0m\n",
      "\u001b[35m169.254.255.130 - - [03/Nov/2024:02:01:38 +0000] \"POST /invocations HTTP/1.1\" 200 810284 \"-\" \"Go-http-client/1.1\"\u001b[0m\n"
     ]
    }
   ],
   "source": [
    "batch_X = test_v1.iloc[:,1:];\n",
    "batch_X_file='batch-in.csv'\n",
    "upload_s3_csv(prefix, batch_X_file, 'batch-in', batch_X)\n",
    "batch_output = \"s3://{}/{}/batch-out/\".format(bucket,prefix)\n",
    "batch_input = \"s3://{}/{}/batch-in/{}\".format(bucket,prefix,batch_X_file)\n",
    "\n",
    "xgb_transformer = xgb.transformer(\n",
    "    instance_count=1,\n",
    "    instance_type=instance_type,\n",
    "    strategy='MultiRecord',\n",
    "    assemble_with='Line',\n",
    "    output_path=batch_output\n",
    ")\n",
    "\n",
    "xgb_transformer.transform(\n",
    "    data=batch_input,\n",
    "    data_type='S3Prefix',\n",
    "    content_type='text/csv',\n",
    "    split_type='Line'\n",
    ")\n",
    "\n",
    "xgb_transformer.wait()"
   ]
  },
  {
   "cell_type": "code",
   "execution_count": 36,
   "metadata": {
    "tags": []
   },
   "outputs": [],
   "source": [
    "s3 = boto3.client('s3')\n",
    "obj = s3.get_object(Bucket=bucket, Key=\"{}/batch-out/{}\".format(prefix,'batch-in.csv.out'))\n",
    "target_predicted = pd.read_csv(io.BytesIO(obj['Body'].read()),sep=',',names=['target'])\n",
    "test_labels = test_v1.iloc[:,0]"
   ]
  },
  {
   "cell_type": "code",
   "execution_count": 37,
   "metadata": {
    "tags": []
   },
   "outputs": [
    {
     "name": "stdout",
     "output_type": "stream",
     "text": [
      "     target\n",
      "0  0.165263\n",
      "1  0.197633\n",
      "2  0.130694\n",
      "3  0.095515\n",
      "4  0.149932\n",
      "   target\n",
      "0       0\n",
      "1       0\n",
      "2       0\n",
      "3       0\n",
      "4       0\n"
     ]
    }
   ],
   "source": [
    "print(target_predicted.head())\n",
    "\n",
    "def binary_convert(x):\n",
    "    threshold = 0.55\n",
    "    if x > threshold:\n",
    "        return 1\n",
    "    else:\n",
    "        return 0\n",
    "\n",
    "target_predicted['target'] = target_predicted['target'].apply(binary_convert)\n",
    "test_labels = test_v1.iloc[:,0]\n",
    "print(target_predicted.head())"
   ]
  },
  {
   "cell_type": "code",
   "execution_count": 38,
   "metadata": {
    "tags": []
   },
   "outputs": [
    {
     "data": {
      "image/png": "[encoded data removed]",
      "text/plain": [
       "<Figure size 640x480 with 1 Axes>"
      ]
     },
     "metadata": {},
     "output_type": "display_data"
    }
   ],
   "source": [
    "plot_confusion_matrix(test_labels, target_predicted)"
   ]
  },
  {
   "cell_type": "code",
   "execution_count": 39,
   "metadata": {
    "tags": []
   },
   "outputs": [
    {
     "name": "stdout",
     "output_type": "stream",
     "text": [
      "Sensitivity or TPR: 5.656310679611651 %\n",
      "Specificity or TNR: 98.79642383627649 %\n",
      "Precision: 55.5280213495997 %\n",
      "Negative Predictive Value: 79.7632584040351 %\n",
      "False Positive Rate: 1.2035761637235025 %\n",
      "False Negative Rate: 94.34368932038835 %\n",
      "False Discovery Rate: 44.47197865040031 %\n",
      "Accuracy: 79.2450446117413 %\n",
      "Validation AUC: 0.5222636725794407\n"
     ]
    },
    {
     "data": {
      "image/png": "[encoded data removed]",
      "text/plain": [
       "<Figure size 640x480 with 2 Axes>"
      ]
     },
     "metadata": {},
     "output_type": "display_data"
    }
   ],
   "source": [
    "plot_roc(test_labels_v2, target_predicted_v2)"
   ]
  },
  {
   "cell_type": "markdown",
   "metadata": {},
   "source": [
    "# XGBoost model 2"
   ]
  },
  {
   "cell_type": "code",
   "execution_count": 46,
   "metadata": {
    "tags": []
   },
   "outputs": [],
   "source": [
    "prefix='flight-xgb-2'\n",
    "train_file='flight_train_2.csv'\n",
    "test_file='flight_test_2.csv'\n",
    "validate_file='flight_validate_2.csv'\n",
    "\n",
    "upload_s3_csv(prefix, train_file, 'train', train_v2)\n",
    "upload_s3_csv(prefix, test_file, 'test', test_v2)\n",
    "upload_s3_csv(prefix, validate_file, 'validate', validate_v2)"
   ]
  },
  {
   "cell_type": "code",
   "execution_count": 47,
   "metadata": {
    "tags": []
   },
   "outputs": [],
   "source": [
    "train_channel = sagemaker.inputs.TrainingInput(\n",
    "    \"s3://{}/{}/train/\".format(bucket,prefix,train_file),\n",
    "    content_type='text/csv')\n",
    "\n",
    "validate_channel = sagemaker.inputs.TrainingInput(\n",
    "    \"s3://{}/{}/validate/\".format(bucket,prefix,validate_file),\n",
    "    content_type='text/csv')\n",
    "\n",
    "data_channels = {'train': train_channel, 'validation': validate_channel}"
   ]
  },
  {
   "cell_type": "code",
   "execution_count": 48,
   "metadata": {
    "tags": []
   },
   "outputs": [
    {
     "name": "stderr",
     "output_type": "stream",
     "text": [
      "INFO:sagemaker.image_uris:Defaulting to only available Python version: py3\n",
      "INFO:sagemaker.image_uris:Defaulting to only supported image scope: cpu.\n"
     ]
    }
   ],
   "source": [
    "from sagemaker.image_uris import retrieve\n",
    "container = retrieve('xgboost',boto3.Session().region_name,'1.0-1')"
   ]
  },
  {
   "cell_type": "code",
   "execution_count": 49,
   "metadata": {
    "tags": []
   },
   "outputs": [
    {
     "name": "stderr",
     "output_type": "stream",
     "text": [
      "INFO:sagemaker:Creating training-job with name: sagemaker-xgboost-2024-11-03-02-31-40-413\n"
     ]
    },
    {
     "name": "stdout",
     "output_type": "stream",
     "text": [
      "2024-11-03 02:31:41 Starting - Starting the training job...\n",
      "2024-11-03 02:31:56 Starting - Preparing the instances for training...\n",
      "2024-11-03 02:32:26 Downloading - Downloading input data...\n",
      "2024-11-03 02:33:07 Downloading - Downloading the training image......\n",
      "2024-11-03 02:33:53 Training - Training image download completed. Training in progress.\u001b[34m[2024-11-03 02:34:02.948 ip-10-0-164-6.ec2.internal:7 INFO utils.py:27] RULE_JOB_STOP_SIGNAL_FILENAME: None\u001b[0m\n",
      "\u001b[34mINFO:sagemaker-containers:Imported framework sagemaker_xgboost_container.training\u001b[0m\n",
      "\u001b[34mINFO:sagemaker-containers:Failed to parse hyperparameter eval_metric value auc to Json.\u001b[0m\n",
      "\u001b[34mReturning the value itself\u001b[0m\n",
      "\u001b[34mINFO:sagemaker-containers:Failed to parse hyperparameter objective value binary:logistic to Json.\u001b[0m\n",
      "\u001b[34mReturning the value itself\u001b[0m\n",
      "\u001b[34mINFO:sagemaker-containers:No GPUs detected (normal if no gpus installed)\u001b[0m\n",
      "\u001b[34mINFO:sagemaker_xgboost_container.training:Running XGBoost Sagemaker in algorithm mode\u001b[0m\n",
      "\u001b[34mINFO:root:Determined delimiter of CSV input is ','\u001b[0m\n",
      "\u001b[34mINFO:root:Determined delimiter of CSV input is ','\u001b[0m\n",
      "\u001b[34mINFO:root:Determined delimiter of CSV input is ','\u001b[0m\n",
      "\u001b[34mINFO:root:Determined delimiter of CSV input is ','\u001b[0m\n",
      "\u001b[34mINFO:root:Determined delimiter of CSV input is ','\u001b[0m\n",
      "\u001b[34mINFO:root:Determined delimiter of CSV input is ','\u001b[0m\n",
      "\u001b[34mINFO:root:Single node training.\u001b[0m\n",
      "\u001b[34m[02:34:10] 2289826x85 matrix with 182041167 entries loaded from /opt/ml/input/data/train?format=csv&label_column=0&delimiter=,\u001b[0m\n",
      "\u001b[34m[02:34:12] 490677x85 matrix with 39008816 entries loaded from /opt/ml/input/data/validation?format=csv&label_column=0&delimiter=,\u001b[0m\n",
      "\u001b[34m[2024-11-03 02:34:12.219 ip-10-0-164-6.ec2.internal:7 INFO json_config.py:91] Creating hook from json_config at /opt/ml/input/config/debughookconfig.json.\u001b[0m\n",
      "\u001b[34m[2024-11-03 02:34:12.220 ip-10-0-164-6.ec2.internal:7 INFO hook.py:201] tensorboard_dir has not been set for the hook. SMDebug will not be exporting tensorboard summaries.\u001b[0m\n",
      "\u001b[34m[2024-11-03 02:34:12.221 ip-10-0-164-6.ec2.internal:7 INFO profiler_config_parser.py:102] User has disabled profiler.\u001b[0m\n",
      "\u001b[34m[2024-11-03 02:34:12.222 ip-10-0-164-6.ec2.internal:7 INFO hook.py:255] Saving to /opt/ml/output/tensors\u001b[0m\n",
      "\u001b[34m[2024-11-03 02:34:12.222 ip-10-0-164-6.ec2.internal:7 INFO state_store.py:77] The checkpoint config file /opt/ml/input/config/checkpointconfig.json does not exist.\u001b[0m\n",
      "\u001b[34mINFO:root:Debug hook created from config\u001b[0m\n",
      "\u001b[34mINFO:root:Train matrix has 2289826 rows\u001b[0m\n",
      "\u001b[34mINFO:root:Validation matrix has 490677 rows\u001b[0m\n",
      "\u001b[34m[0]#011train-auc:0.60899#011validation-auc:0.61019\u001b[0m\n",
      "\u001b[34m[2024-11-03 02:34:21.152 ip-10-0-164-6.ec2.internal:7 INFO hook.py:423] Monitoring the collections: metrics\u001b[0m\n",
      "\u001b[34m[2024-11-03 02:34:21.155 ip-10-0-164-6.ec2.internal:7 INFO hook.py:486] Hook is writing from the hook with pid: 7\u001b[0m\n",
      "\u001b[34m[1]#011train-auc:0.61823#011validation-auc:0.61949\u001b[0m\n",
      "\u001b[34m[2]#011train-auc:0.62980#011validation-auc:0.63022\u001b[0m\n",
      "\u001b[34m[3]#011train-auc:0.63548#011validation-auc:0.63578\u001b[0m\n",
      "\u001b[34m[4]#011train-auc:0.63887#011validation-auc:0.63927\u001b[0m\n",
      "\u001b[34m[5]#011train-auc:0.63968#011validation-auc:0.64006\u001b[0m\n",
      "\u001b[34m[6]#011train-auc:0.64503#011validation-auc:0.64514\u001b[0m\n",
      "\u001b[34m[7]#011train-auc:0.64635#011validation-auc:0.64642\u001b[0m\n",
      "\u001b[34m[8]#011train-auc:0.64849#011validation-auc:0.64859\u001b[0m\n",
      "\u001b[34m[9]#011train-auc:0.65024#011validation-auc:0.65029\u001b[0m\n",
      "\u001b[34m[10]#011train-auc:0.65265#011validation-auc:0.65265\u001b[0m\n",
      "\u001b[34m[11]#011train-auc:0.65340#011validation-auc:0.65334\u001b[0m\n",
      "\u001b[34m[12]#011train-auc:0.65528#011validation-auc:0.65517\u001b[0m\n",
      "\u001b[34m[13]#011train-auc:0.65686#011validation-auc:0.65670\u001b[0m\n",
      "\u001b[34m[14]#011train-auc:0.65744#011validation-auc:0.65733\u001b[0m\n",
      "\u001b[34m[15]#011train-auc:0.65892#011validation-auc:0.65884\u001b[0m\n",
      "\u001b[34m[16]#011train-auc:0.66033#011validation-auc:0.66033\u001b[0m\n",
      "\u001b[34m[17]#011train-auc:0.66107#011validation-auc:0.66092\u001b[0m\n",
      "\u001b[34m[18]#011train-auc:0.66193#011validation-auc:0.66173\u001b[0m\n",
      "\u001b[34m[19]#011train-auc:0.66273#011validation-auc:0.66249\u001b[0m\n",
      "\u001b[34m[20]#011train-auc:0.66416#011validation-auc:0.66394\u001b[0m\n",
      "\u001b[34m[21]#011train-auc:0.66491#011validation-auc:0.66472\u001b[0m\n",
      "\u001b[34m[22]#011train-auc:0.66562#011validation-auc:0.66537\u001b[0m\n",
      "\u001b[34m[23]#011train-auc:0.66627#011validation-auc:0.66591\u001b[0m\n",
      "\u001b[34m[24]#011train-auc:0.66728#011validation-auc:0.66700\u001b[0m\n",
      "\u001b[34m[25]#011train-auc:0.66797#011validation-auc:0.66765\u001b[0m\n",
      "\u001b[34m[26]#011train-auc:0.66853#011validation-auc:0.66817\u001b[0m\n",
      "\u001b[34m[27]#011train-auc:0.66941#011validation-auc:0.66909\u001b[0m\n",
      "\u001b[34m[28]#011train-auc:0.67031#011validation-auc:0.66996\u001b[0m\n",
      "\u001b[34m[29]#011train-auc:0.67071#011validation-auc:0.67031\u001b[0m\n",
      "\u001b[34m[30]#011train-auc:0.67153#011validation-auc:0.67102\u001b[0m\n",
      "\u001b[34m[31]#011train-auc:0.67242#011validation-auc:0.67199\u001b[0m\n",
      "\u001b[34m[32]#011train-auc:0.67296#011validation-auc:0.67260\u001b[0m\n",
      "\u001b[34m[33]#011train-auc:0.67360#011validation-auc:0.67327\u001b[0m\n",
      "\u001b[34m[34]#011train-auc:0.67436#011validation-auc:0.67403\u001b[0m\n",
      "\u001b[34m[35]#011train-auc:0.67452#011validation-auc:0.67418\u001b[0m\n",
      "\u001b[34m[36]#011train-auc:0.67490#011validation-auc:0.67451\u001b[0m\n",
      "\u001b[34m[37]#011train-auc:0.67547#011validation-auc:0.67502\u001b[0m\n",
      "\u001b[34m[38]#011train-auc:0.67587#011validation-auc:0.67546\u001b[0m\n",
      "\u001b[34m[39]#011train-auc:0.67626#011validation-auc:0.67579\u001b[0m\n",
      "\u001b[34m[40]#011train-auc:0.67668#011validation-auc:0.67618\u001b[0m\n",
      "\u001b[34m[41]#011train-auc:0.67725#011validation-auc:0.67666\u001b[0m\n",
      "\u001b[34m[42]#011train-auc:0.67758#011validation-auc:0.67697\u001b[0m\n",
      "\u001b[34m[43]#011train-auc:0.67794#011validation-auc:0.67736\u001b[0m\n",
      "\u001b[34m[44]#011train-auc:0.67822#011validation-auc:0.67761\u001b[0m\n",
      "\u001b[34m[45]#011train-auc:0.67863#011validation-auc:0.67799\u001b[0m\n",
      "\u001b[34m[46]#011train-auc:0.67895#011validation-auc:0.67826\u001b[0m\n",
      "\u001b[34m[47]#011train-auc:0.67947#011validation-auc:0.67873\u001b[0m\n",
      "\u001b[34m[48]#011train-auc:0.67979#011validation-auc:0.67901\u001b[0m\n",
      "\u001b[34m[49]#011train-auc:0.67993#011validation-auc:0.67914\u001b[0m\n",
      "\u001b[34m[50]#011train-auc:0.68020#011validation-auc:0.67942\u001b[0m\n",
      "\u001b[34m[51]#011train-auc:0.68042#011validation-auc:0.67958\u001b[0m\n",
      "\u001b[34m[52]#011train-auc:0.68061#011validation-auc:0.67971\u001b[0m\n",
      "\u001b[34m[53]#011train-auc:0.68090#011validation-auc:0.67996\u001b[0m\n",
      "\u001b[34m[54]#011train-auc:0.68131#011validation-auc:0.68041\u001b[0m\n",
      "\u001b[34m[55]#011train-auc:0.68202#011validation-auc:0.68107\u001b[0m\n",
      "\u001b[34m[56]#011train-auc:0.68257#011validation-auc:0.68160\u001b[0m\n",
      "\u001b[34m[57]#011train-auc:0.68285#011validation-auc:0.68184\u001b[0m\n",
      "\u001b[34m[58]#011train-auc:0.68298#011validation-auc:0.68195\u001b[0m\n",
      "\u001b[34m[59]#011train-auc:0.68344#011validation-auc:0.68246\u001b[0m\n",
      "\u001b[34m[60]#011train-auc:0.68380#011validation-auc:0.68278\u001b[0m\n",
      "\u001b[34m[61]#011train-auc:0.68395#011validation-auc:0.68292\u001b[0m\n",
      "\u001b[34m[62]#011train-auc:0.68428#011validation-auc:0.68325\u001b[0m\n",
      "\u001b[34m[63]#011train-auc:0.68471#011validation-auc:0.68370\u001b[0m\n",
      "\u001b[34m[64]#011train-auc:0.68519#011validation-auc:0.68410\u001b[0m\n",
      "\u001b[34m[65]#011train-auc:0.68538#011validation-auc:0.68426\u001b[0m\n",
      "\u001b[34m[66]#011train-auc:0.68567#011validation-auc:0.68445\u001b[0m\n",
      "\u001b[34m[67]#011train-auc:0.68589#011validation-auc:0.68466\u001b[0m\n",
      "\u001b[34m[68]#011train-auc:0.68633#011validation-auc:0.68508\u001b[0m\n",
      "\u001b[34m[69]#011train-auc:0.68639#011validation-auc:0.68513\u001b[0m\n",
      "\u001b[34m[70]#011train-auc:0.68656#011validation-auc:0.68529\u001b[0m\n",
      "\u001b[34m[71]#011train-auc:0.68672#011validation-auc:0.68545\u001b[0m\n",
      "\u001b[34m[72]#011train-auc:0.68684#011validation-auc:0.68555\u001b[0m\n",
      "\u001b[34m[73]#011train-auc:0.68719#011validation-auc:0.68592\u001b[0m\n",
      "\u001b[34m[74]#011train-auc:0.68739#011validation-auc:0.68614\u001b[0m\n",
      "\u001b[34m[75]#011train-auc:0.68768#011validation-auc:0.68634\u001b[0m\n",
      "\u001b[34m[76]#011train-auc:0.68793#011validation-auc:0.68657\u001b[0m\n",
      "\u001b[34m[77]#011train-auc:0.68802#011validation-auc:0.68665\u001b[0m\n",
      "\u001b[34m[78]#011train-auc:0.68817#011validation-auc:0.68679\u001b[0m\n",
      "\u001b[34m[79]#011train-auc:0.68827#011validation-auc:0.68689\u001b[0m\n",
      "\u001b[34m[80]#011train-auc:0.68851#011validation-auc:0.68709\u001b[0m\n",
      "\u001b[34m[81]#011train-auc:0.68872#011validation-auc:0.68729\u001b[0m\n",
      "\u001b[34m[82]#011train-auc:0.68902#011validation-auc:0.68758\u001b[0m\n",
      "\u001b[34m[83]#011train-auc:0.68924#011validation-auc:0.68780\u001b[0m\n",
      "\u001b[34m[84]#011train-auc:0.68957#011validation-auc:0.68812\u001b[0m\n",
      "\u001b[34m[85]#011train-auc:0.68972#011validation-auc:0.68825\u001b[0m\n",
      "\u001b[34m[86]#011train-auc:0.68990#011validation-auc:0.68840\u001b[0m\n",
      "\u001b[34m[87]#011train-auc:0.69019#011validation-auc:0.68868\u001b[0m\n",
      "\u001b[34m[88]#011train-auc:0.69030#011validation-auc:0.68877\u001b[0m\n",
      "\u001b[34m[89]#011train-auc:0.69053#011validation-auc:0.68898\u001b[0m\n",
      "\u001b[34m[90]#011train-auc:0.69054#011validation-auc:0.68898\u001b[0m\n",
      "\u001b[34m[91]#011train-auc:0.69075#011validation-auc:0.68917\u001b[0m\n",
      "\u001b[34m[92]#011train-auc:0.69080#011validation-auc:0.68923\u001b[0m\n",
      "\u001b[34m[93]#011train-auc:0.69098#011validation-auc:0.68942\u001b[0m\n",
      "\u001b[34m[94]#011train-auc:0.69118#011validation-auc:0.68959\u001b[0m\n",
      "\u001b[34m[95]#011train-auc:0.69137#011validation-auc:0.68981\u001b[0m\n",
      "\u001b[34m[96]#011train-auc:0.69151#011validation-auc:0.68995\u001b[0m\n",
      "\u001b[34m[97]#011train-auc:0.69163#011validation-auc:0.69006\u001b[0m\n",
      "\u001b[34m[98]#011train-auc:0.69171#011validation-auc:0.69011\u001b[0m\n",
      "\u001b[34m[99]#011train-auc:0.69198#011validation-auc:0.69043\u001b[0m\n",
      "\n",
      "2024-11-03 02:41:18 Uploading - Uploading generated training model\n",
      "2024-11-03 02:41:18 Completed - Training job completed\n",
      "Training seconds: 531\n",
      "Billable seconds: 531\n"
     ]
    }
   ],
   "source": [
    "sess = sagemaker.Session()\n",
    "s3_output_location=\"s3://{}/{}/output/\".format(bucket,prefix)\n",
    "\n",
    "xgb = sagemaker.estimator.Estimator(container,\n",
    "                                    role = sagemaker.get_execution_role(), \n",
    "                                    instance_count=1, \n",
    "                                    instance_type=instance_type,\n",
    "                                    output_path=s3_output_location,\n",
    "                                    sagemaker_session=sess)\n",
    "xgb.set_hyperparameters(max_depth=5,\n",
    "                        eta=0.2,\n",
    "                        gamma=4,\n",
    "                        min_child_weight=6,\n",
    "                        subsample=0.8,\n",
    "                        silent=0,\n",
    "                        objective='binary:logistic',\n",
    "                        eval_metric = \"auc\", \n",
    "                        num_round=100)\n",
    "\n",
    "xgb.fit(inputs=data_channels)"
   ]
  },
  {
   "cell_type": "code",
   "execution_count": 50,
   "metadata": {
    "tags": []
   },
   "outputs": [
    {
     "name": "stderr",
     "output_type": "stream",
     "text": [
      "INFO:sagemaker:Creating model with name: sagemaker-xgboost-2024-11-03-02-43-58-250\n",
      "INFO:sagemaker:Creating transform job with name: sagemaker-xgboost-2024-11-03-02-43-58-862\n"
     ]
    },
    {
     "name": "stdout",
     "output_type": "stream",
     "text": [
      "...................................\u001b[34m[2024-11-03:02:49:45:INFO] No GPUs detected (normal if no gpus installed)\u001b[0m\n",
      "\u001b[34m[2024-11-03:02:49:45:INFO] No GPUs detected (normal if no gpus installed)\u001b[0m\n",
      "\u001b[34m[2024-11-03:02:49:45:INFO] nginx config: \u001b[0m\n",
      "\u001b[34mworker_processes auto;\u001b[0m\n",
      "\u001b[34mdaemon off;\u001b[0m\n",
      "\u001b[34mpid /tmp/nginx.pid;\u001b[0m\n",
      "\u001b[34merror_log  /dev/stderr;\u001b[0m\n",
      "\u001b[34mworker_rlimit_nofile 4096;\u001b[0m\n",
      "\u001b[34mevents {\n",
      "  worker_connections 2048;\u001b[0m\n",
      "\u001b[34m}\u001b[0m\n",
      "\u001b[34mhttp {\n",
      "  include /etc/nginx/mime.types;\n",
      "  default_type application/octet-stream;\n",
      "  access_log /dev/stdout combined;\n",
      "  upstream gunicorn {\n",
      "    server unix:/tmp/gunicorn.sock;\n",
      "  }\n",
      "  server {\n",
      "    listen 8080 deferred;\n",
      "    client_max_body_size 0;\n",
      "    keepalive_timeout 3;\n",
      "    location ~ ^/(ping|invocations|execution-parameters) {\n",
      "      proxy_set_header X-Forwarded-For $proxy_add_x_forwarded_for;\n",
      "      proxy_set_header Host $http_host;\n",
      "      proxy_redirect off;\n",
      "      proxy_read_timeout 60s;\n",
      "      proxy_pass http://gunicorn;\n",
      "    }\n",
      "    location / {\n",
      "      return 404 \"{}\";\n",
      "    }\n",
      "  }\u001b[0m\n",
      "\u001b[34m}\u001b[0m\n",
      "\u001b[34m[2024-11-03 02:49:45 +0000] [19] [INFO] Starting gunicorn 19.10.0\u001b[0m\n",
      "\u001b[34m[2024-11-03 02:49:45 +0000] [19] [INFO] Listening at: unix:/tmp/gunicorn.sock (19)\u001b[0m\n",
      "\u001b[34m[2024-11-03 02:49:45 +0000] [19] [INFO] Using worker: gevent\u001b[0m\n",
      "\u001b[34m[2024-11-03 02:49:45 +0000] [26] [INFO] Booting worker with pid: 26\u001b[0m\n",
      "\u001b[34m[2024-11-03 02:49:45 +0000] [27] [INFO] Booting worker with pid: 27\u001b[0m\n",
      "\u001b[34m[2024-11-03 02:49:46 +0000] [28] [INFO] Booting worker with pid: 28\u001b[0m\n",
      "\u001b[34m[2024-11-03 02:49:46 +0000] [29] [INFO] Booting worker with pid: 29\u001b[0m\n",
      "\u001b[34m[2024-11-03:02:49:51:INFO] No GPUs detected (normal if no gpus installed)\u001b[0m\n",
      "\u001b[34m169.254.255.130 - - [03/Nov/2024:02:49:51 +0000] \"GET /ping HTTP/1.1\" 200 0 \"-\" \"Go-http-client/1.1\"\u001b[0m\n",
      "\u001b[34m[2024-11-03:02:49:51:INFO] No GPUs detected (normal if no gpus installed)\u001b[0m\n",
      "\u001b[34m169.254.255.130 - - [03/Nov/2024:02:49:51 +0000] \"GET /execution-parameters HTTP/1.1\" 200 84 \"-\" \"Go-http-client/1.1\"\u001b[0m\n",
      "\u001b[34m[2024-11-03:02:49:53:INFO] No GPUs detected (normal if no gpus installed)\u001b[0m\n",
      "\u001b[34m[2024-11-03:02:49:53:INFO] Determined delimiter of CSV input is ','\u001b[0m\n",
      "\u001b[34m[2024-11-03:02:49:53:INFO] Determined delimiter of CSV input is ','\u001b[0m\n",
      "\u001b[34m[2024-11-03:02:49:53:INFO] No GPUs detected (normal if no gpus installed)\u001b[0m\n",
      "\u001b[34m[2024-11-03:02:49:53:INFO] Determined delimiter of CSV input is ','\u001b[0m\n",
      "\u001b[34m[2024-11-03:02:49:53:INFO] Determined delimiter of CSV input is ','\u001b[0m\n",
      "\n",
      "\u001b[32m2024-11-03T02:49:51.887:[sagemaker logs]: MaxConcurrentTransforms=4, MaxPayloadInMB=6, BatchStrategy=MULTI_RECORD\u001b[0m\n",
      "\u001b[34m169.254.255.130 - - [03/Nov/2024:02:49:57 +0000] \"POST /invocations HTTP/1.1\" 200 652306 \"-\" \"Go-http-client/1.1\"\u001b[0m\n",
      "\u001b[35m169.254.255.130 - - [03/Nov/2024:02:49:57 +0000] \"POST /invocations HTTP/1.1\" 200 652306 \"-\" \"Go-http-client/1.1\"\u001b[0m\n",
      "\u001b[34m169.254.255.130 - - [03/Nov/2024:02:49:57 +0000] \"POST /invocations HTTP/1.1\" 200 652464 \"-\" \"Go-http-client/1.1\"\u001b[0m\n",
      "\u001b[34m169.254.255.130 - - [03/Nov/2024:02:49:57 +0000] \"POST /invocations HTTP/1.1\" 200 652363 \"-\" \"Go-http-client/1.1\"\u001b[0m\n",
      "\u001b[34m169.254.255.130 - - [03/Nov/2024:02:49:57 +0000] \"POST /invocations HTTP/1.1\" 200 652429 \"-\" \"Go-http-client/1.1\"\u001b[0m\n",
      "\u001b[34m[2024-11-03:02:49:58:INFO] Determined delimiter of CSV input is ','\u001b[0m\n",
      "\u001b[34m[2024-11-03:02:49:58:INFO] Determined delimiter of CSV input is ','\u001b[0m\n",
      "\u001b[34m[2024-11-03:02:49:58:INFO] Determined delimiter of CSV input is ','\u001b[0m\n",
      "\u001b[34m[2024-11-03:02:49:58:INFO] Determined delimiter of CSV input is ','\u001b[0m\n",
      "\u001b[35m169.254.255.130 - - [03/Nov/2024:02:49:57 +0000] \"POST /invocations HTTP/1.1\" 200 652464 \"-\" \"Go-http-client/1.1\"\u001b[0m\n",
      "\u001b[35m169.254.255.130 - - [03/Nov/2024:02:49:57 +0000] \"POST /invocations HTTP/1.1\" 200 652363 \"-\" \"Go-http-client/1.1\"\u001b[0m\n",
      "\u001b[35m169.254.255.130 - - [03/Nov/2024:02:49:57 +0000] \"POST /invocations HTTP/1.1\" 200 652429 \"-\" \"Go-http-client/1.1\"\u001b[0m\n",
      "\u001b[35m[2024-11-03:02:49:58:INFO] Determined delimiter of CSV input is ','\u001b[0m\n",
      "\u001b[35m[2024-11-03:02:49:58:INFO] Determined delimiter of CSV input is ','\u001b[0m\n",
      "\u001b[35m[2024-11-03:02:49:58:INFO] Determined delimiter of CSV input is ','\u001b[0m\n",
      "\u001b[35m[2024-11-03:02:49:58:INFO] Determined delimiter of CSV input is ','\u001b[0m\n",
      "\u001b[34m169.254.255.130 - - [03/Nov/2024:02:49:59 +0000] \"POST /invocations HTTP/1.1\" 200 250968 \"-\" \"Go-http-client/1.1\"\u001b[0m\n",
      "\u001b[35m169.254.255.130 - - [03/Nov/2024:02:49:59 +0000] \"POST /invocations HTTP/1.1\" 200 250968 \"-\" \"Go-http-client/1.1\"\u001b[0m\n",
      "\u001b[34m169.254.255.130 - - [03/Nov/2024:02:50:01 +0000] \"POST /invocations HTTP/1.1\" 200 652457 \"-\" \"Go-http-client/1.1\"\u001b[0m\n",
      "\u001b[35m169.254.255.130 - - [03/Nov/2024:02:50:01 +0000] \"POST /invocations HTTP/1.1\" 200 652457 \"-\" \"Go-http-client/1.1\"\u001b[0m\n",
      "\u001b[34m169.254.255.130 - - [03/Nov/2024:02:50:01 +0000] \"POST /invocations HTTP/1.1\" 200 652696 \"-\" \"Go-http-client/1.1\"\u001b[0m\n",
      "\u001b[34m169.254.255.130 - - [03/Nov/2024:02:50:01 +0000] \"POST /invocations HTTP/1.1\" 200 652470 \"-\" \"Go-http-client/1.1\"\u001b[0m\n",
      "\u001b[35m169.254.255.130 - - [03/Nov/2024:02:50:01 +0000] \"POST /invocations HTTP/1.1\" 200 652696 \"-\" \"Go-http-client/1.1\"\u001b[0m\n",
      "\u001b[35m169.254.255.130 - - [03/Nov/2024:02:50:01 +0000] \"POST /invocations HTTP/1.1\" 200 652470 \"-\" \"Go-http-client/1.1\"\u001b[0m\n",
      "\u001b[34m[2024-11-03:02:49:45:INFO] No GPUs detected (normal if no gpus installed)\u001b[0m\n",
      "\u001b[35m[2024-11-03:02:49:45:INFO] No GPUs detected (normal if no gpus installed)\u001b[0m\n",
      "\u001b[34m[2024-11-03:02:49:45:INFO] No GPUs detected (normal if no gpus installed)\u001b[0m\n",
      "\u001b[34m[2024-11-03:02:49:45:INFO] nginx config: \u001b[0m\n",
      "\u001b[34mworker_processes auto;\u001b[0m\n",
      "\u001b[34mdaemon off;\u001b[0m\n",
      "\u001b[34mpid /tmp/nginx.pid;\u001b[0m\n",
      "\u001b[34merror_log  /dev/stderr;\u001b[0m\n",
      "\u001b[34mworker_rlimit_nofile 4096;\u001b[0m\n",
      "\u001b[34mevents {\n",
      "  worker_connections 2048;\u001b[0m\n",
      "\u001b[34m}\u001b[0m\n",
      "\u001b[35m[2024-11-03:02:49:45:INFO] No GPUs detected (normal if no gpus installed)\u001b[0m\n",
      "\u001b[35m[2024-11-03:02:49:45:INFO] nginx config: \u001b[0m\n",
      "\u001b[35mworker_processes auto;\u001b[0m\n",
      "\u001b[35mdaemon off;\u001b[0m\n",
      "\u001b[35mpid /tmp/nginx.pid;\u001b[0m\n",
      "\u001b[35merror_log  /dev/stderr;\u001b[0m\n",
      "\u001b[35mworker_rlimit_nofile 4096;\u001b[0m\n",
      "\u001b[35mevents {\n",
      "  worker_connections 2048;\u001b[0m\n",
      "\u001b[35m}\u001b[0m\n",
      "\u001b[34mhttp {\n",
      "  include /etc/nginx/mime.types;\n",
      "  default_type application/octet-stream;\n",
      "  access_log /dev/stdout combined;\n",
      "  upstream gunicorn {\n",
      "    server unix:/tmp/gunicorn.sock;\n",
      "  }\n",
      "  server {\n",
      "    listen 8080 deferred;\n",
      "    client_max_body_size 0;\n",
      "    keepalive_timeout 3;\n",
      "    location ~ ^/(ping|invocations|execution-parameters) {\n",
      "      proxy_set_header X-Forwarded-For $proxy_add_x_forwarded_for;\n",
      "      proxy_set_header Host $http_host;\n",
      "      proxy_redirect off;\n",
      "      proxy_read_timeout 60s;\n",
      "      proxy_pass http://gunicorn;\n",
      "    }\n",
      "    location / {\n",
      "      return 404 \"{}\";\n",
      "    }\n",
      "  }\u001b[0m\n",
      "\u001b[34m}\u001b[0m\n",
      "\u001b[34m[2024-11-03 02:49:45 +0000] [19] [INFO] Starting gunicorn 19.10.0\u001b[0m\n",
      "\u001b[34m[2024-11-03 02:49:45 +0000] [19] [INFO] Listening at: unix:/tmp/gunicorn.sock (19)\u001b[0m\n",
      "\u001b[34m[2024-11-03 02:49:45 +0000] [19] [INFO] Using worker: gevent\u001b[0m\n",
      "\u001b[34m[2024-11-03 02:49:45 +0000] [26] [INFO] Booting worker with pid: 26\u001b[0m\n",
      "\u001b[34m[2024-11-03 02:49:45 +0000] [27] [INFO] Booting worker with pid: 27\u001b[0m\n",
      "\u001b[34m[2024-11-03 02:49:46 +0000] [28] [INFO] Booting worker with pid: 28\u001b[0m\n",
      "\u001b[34m[2024-11-03 02:49:46 +0000] [29] [INFO] Booting worker with pid: 29\u001b[0m\n",
      "\u001b[35mhttp {\n",
      "  include /etc/nginx/mime.types;\n",
      "  default_type application/octet-stream;\n",
      "  access_log /dev/stdout combined;\n",
      "  upstream gunicorn {\n",
      "    server unix:/tmp/gunicorn.sock;\n",
      "  }\n",
      "  server {\n",
      "    listen 8080 deferred;\n",
      "    client_max_body_size 0;\n",
      "    keepalive_timeout 3;\n",
      "    location ~ ^/(ping|invocations|execution-parameters) {\n",
      "      proxy_set_header X-Forwarded-For $proxy_add_x_forwarded_for;\n",
      "      proxy_set_header Host $http_host;\n",
      "      proxy_redirect off;\n",
      "      proxy_read_timeout 60s;\n",
      "      proxy_pass http://gunicorn;\n",
      "    }\n",
      "    location / {\n",
      "      return 404 \"{}\";\n",
      "    }\n",
      "  }\u001b[0m\n",
      "\u001b[35m}\u001b[0m\n",
      "\u001b[35m[2024-11-03 02:49:45 +0000] [19] [INFO] Starting gunicorn 19.10.0\u001b[0m\n",
      "\u001b[35m[2024-11-03 02:49:45 +0000] [19] [INFO] Listening at: unix:/tmp/gunicorn.sock (19)\u001b[0m\n",
      "\u001b[35m[2024-11-03 02:49:45 +0000] [19] [INFO] Using worker: gevent\u001b[0m\n",
      "\u001b[35m[2024-11-03 02:49:45 +0000] [26] [INFO] Booting worker with pid: 26\u001b[0m\n",
      "\u001b[35m[2024-11-03 02:49:45 +0000] [27] [INFO] Booting worker with pid: 27\u001b[0m\n",
      "\u001b[35m[2024-11-03 02:49:46 +0000] [28] [INFO] Booting worker with pid: 28\u001b[0m\n",
      "\u001b[35m[2024-11-03 02:49:46 +0000] [29] [INFO] Booting worker with pid: 29\u001b[0m\n",
      "\u001b[34m[2024-11-03:02:49:51:INFO] No GPUs detected (normal if no gpus installed)\u001b[0m\n",
      "\u001b[34m169.254.255.130 - - [03/Nov/2024:02:49:51 +0000] \"GET /ping HTTP/1.1\" 200 0 \"-\" \"Go-http-client/1.1\"\u001b[0m\n",
      "\u001b[34m[2024-11-03:02:49:51:INFO] No GPUs detected (normal if no gpus installed)\u001b[0m\n",
      "\u001b[34m169.254.255.130 - - [03/Nov/2024:02:49:51 +0000] \"GET /execution-parameters HTTP/1.1\" 200 84 \"-\" \"Go-http-client/1.1\"\u001b[0m\n",
      "\u001b[35m[2024-11-03:02:49:51:INFO] No GPUs detected (normal if no gpus installed)\u001b[0m\n",
      "\u001b[35m169.254.255.130 - - [03/Nov/2024:02:49:51 +0000] \"GET /ping HTTP/1.1\" 200 0 \"-\" \"Go-http-client/1.1\"\u001b[0m\n",
      "\u001b[35m[2024-11-03:02:49:51:INFO] No GPUs detected (normal if no gpus installed)\u001b[0m\n",
      "\u001b[35m169.254.255.130 - - [03/Nov/2024:02:49:51 +0000] \"GET /execution-parameters HTTP/1.1\" 200 84 \"-\" \"Go-http-client/1.1\"\u001b[0m\n",
      "\u001b[34m[2024-11-03:02:49:53:INFO] No GPUs detected (normal if no gpus installed)\u001b[0m\n",
      "\u001b[34m[2024-11-03:02:49:53:INFO] Determined delimiter of CSV input is ','\u001b[0m\n",
      "\u001b[34m[2024-11-03:02:49:53:INFO] Determined delimiter of CSV input is ','\u001b[0m\n",
      "\u001b[34m[2024-11-03:02:49:53:INFO] No GPUs detected (normal if no gpus installed)\u001b[0m\n",
      "\u001b[34m[2024-11-03:02:49:53:INFO] Determined delimiter of CSV input is ','\u001b[0m\n",
      "\u001b[34m[2024-11-03:02:49:53:INFO] Determined delimiter of CSV input is ','\u001b[0m\n",
      "\u001b[35m[2024-11-03:02:49:53:INFO] No GPUs detected (normal if no gpus installed)\u001b[0m\n",
      "\u001b[35m[2024-11-03:02:49:53:INFO] Determined delimiter of CSV input is ','\u001b[0m\n",
      "\u001b[35m[2024-11-03:02:49:53:INFO] Determined delimiter of CSV input is ','\u001b[0m\n",
      "\u001b[35m[2024-11-03:02:49:53:INFO] No GPUs detected (normal if no gpus installed)\u001b[0m\n",
      "\u001b[35m[2024-11-03:02:49:53:INFO] Determined delimiter of CSV input is ','\u001b[0m\n",
      "\u001b[35m[2024-11-03:02:49:53:INFO] Determined delimiter of CSV input is ','\u001b[0m\n",
      "\u001b[32m2024-11-03T02:49:51.887:[sagemaker logs]: MaxConcurrentTransforms=4, MaxPayloadInMB=6, BatchStrategy=MULTI_RECORD\u001b[0m\n",
      "\u001b[34m169.254.255.130 - - [03/Nov/2024:02:49:57 +0000] \"POST /invocations HTTP/1.1\" 200 652306 \"-\" \"Go-http-client/1.1\"\u001b[0m\n",
      "\u001b[35m169.254.255.130 - - [03/Nov/2024:02:49:57 +0000] \"POST /invocations HTTP/1.1\" 200 652306 \"-\" \"Go-http-client/1.1\"\u001b[0m\n",
      "\u001b[34m169.254.255.130 - - [03/Nov/2024:02:49:57 +0000] \"POST /invocations HTTP/1.1\" 200 652464 \"-\" \"Go-http-client/1.1\"\u001b[0m\n",
      "\u001b[34m169.254.255.130 - - [03/Nov/2024:02:49:57 +0000] \"POST /invocations HTTP/1.1\" 200 652363 \"-\" \"Go-http-client/1.1\"\u001b[0m\n",
      "\u001b[34m169.254.255.130 - - [03/Nov/2024:02:49:57 +0000] \"POST /invocations HTTP/1.1\" 200 652429 \"-\" \"Go-http-client/1.1\"\u001b[0m\n",
      "\u001b[34m[2024-11-03:02:49:58:INFO] Determined delimiter of CSV input is ','\u001b[0m\n",
      "\u001b[34m[2024-11-03:02:49:58:INFO] Determined delimiter of CSV input is ','\u001b[0m\n",
      "\u001b[34m[2024-11-03:02:49:58:INFO] Determined delimiter of CSV input is ','\u001b[0m\n",
      "\u001b[34m[2024-11-03:02:49:58:INFO] Determined delimiter of CSV input is ','\u001b[0m\n",
      "\u001b[35m169.254.255.130 - - [03/Nov/2024:02:49:57 +0000] \"POST /invocations HTTP/1.1\" 200 652464 \"-\" \"Go-http-client/1.1\"\u001b[0m\n",
      "\u001b[35m169.254.255.130 - - [03/Nov/2024:02:49:57 +0000] \"POST /invocations HTTP/1.1\" 200 652363 \"-\" \"Go-http-client/1.1\"\u001b[0m\n",
      "\u001b[35m169.254.255.130 - - [03/Nov/2024:02:49:57 +0000] \"POST /invocations HTTP/1.1\" 200 652429 \"-\" \"Go-http-client/1.1\"\u001b[0m\n",
      "\u001b[35m[2024-11-03:02:49:58:INFO] Determined delimiter of CSV input is ','\u001b[0m\n",
      "\u001b[35m[2024-11-03:02:49:58:INFO] Determined delimiter of CSV input is ','\u001b[0m\n",
      "\u001b[35m[2024-11-03:02:49:58:INFO] Determined delimiter of CSV input is ','\u001b[0m\n",
      "\u001b[35m[2024-11-03:02:49:58:INFO] Determined delimiter of CSV input is ','\u001b[0m\n",
      "\u001b[34m169.254.255.130 - - [03/Nov/2024:02:49:59 +0000] \"POST /invocations HTTP/1.1\" 200 250968 \"-\" \"Go-http-client/1.1\"\u001b[0m\n",
      "\u001b[35m169.254.255.130 - - [03/Nov/2024:02:49:59 +0000] \"POST /invocations HTTP/1.1\" 200 250968 \"-\" \"Go-http-client/1.1\"\u001b[0m\n",
      "\u001b[34m169.254.255.130 - - [03/Nov/2024:02:50:01 +0000] \"POST /invocations HTTP/1.1\" 200 652457 \"-\" \"Go-http-client/1.1\"\u001b[0m\n",
      "\u001b[35m169.254.255.130 - - [03/Nov/2024:02:50:01 +0000] \"POST /invocations HTTP/1.1\" 200 652457 \"-\" \"Go-http-client/1.1\"\u001b[0m\n",
      "\u001b[34m169.254.255.130 - - [03/Nov/2024:02:50:01 +0000] \"POST /invocations HTTP/1.1\" 200 652696 \"-\" \"Go-http-client/1.1\"\u001b[0m\n",
      "\u001b[34m169.254.255.130 - - [03/Nov/2024:02:50:01 +0000] \"POST /invocations HTTP/1.1\" 200 652470 \"-\" \"Go-http-client/1.1\"\u001b[0m\n",
      "\u001b[35m169.254.255.130 - - [03/Nov/2024:02:50:01 +0000] \"POST /invocations HTTP/1.1\" 200 652696 \"-\" \"Go-http-client/1.1\"\u001b[0m\n",
      "\u001b[35m169.254.255.130 - - [03/Nov/2024:02:50:01 +0000] \"POST /invocations HTTP/1.1\" 200 652470 \"-\" \"Go-http-client/1.1\"\u001b[0m\n"
     ]
    }
   ],
   "source": [
    "batch_X = test_v2.iloc[:,1:];\n",
    "batch_X_file='batch-in.csv'\n",
    "upload_s3_csv(prefix, batch_X_file, 'batch-in', batch_X)\n",
    "batch_output = \"s3://{}/{}/batch-out/\".format(bucket,prefix)\n",
    "batch_input = \"s3://{}/{}/batch-in/{}\".format(bucket,prefix,batch_X_file)\n",
    "\n",
    "xgb_transformer = xgb.transformer(\n",
    "    instance_count=1,\n",
    "    instance_type=instance_type,\n",
    "    strategy='MultiRecord',\n",
    "    assemble_with='Line',\n",
    "    output_path=batch_output\n",
    ")\n",
    "\n",
    "xgb_transformer.transform(\n",
    "    data=batch_input,\n",
    "    data_type='S3Prefix',\n",
    "    content_type='text/csv',\n",
    "    split_type='Line'\n",
    ")\n",
    "\n",
    "xgb_transformer.wait()"
   ]
  },
  {
   "cell_type": "code",
   "execution_count": 55,
   "metadata": {
    "tags": []
   },
   "outputs": [],
   "source": [
    "s3 = boto3.client('s3')\n",
    "obj = s3.get_object(Bucket=bucket, Key=\"{}/batch-out/{}\".format(prefix,'batch-in.csv.out'))\n",
    "target_predicted = pd.read_csv(io.BytesIO(obj['Body'].read()),sep=',',names=['target'])\n",
    "test_labels = test_v2.iloc[:,0]"
   ]
  },
  {
   "cell_type": "code",
   "execution_count": 56,
   "metadata": {
    "tags": []
   },
   "outputs": [
    {
     "name": "stdout",
     "output_type": "stream",
     "text": [
      "     target\n",
      "0  0.176893\n",
      "1  0.201318\n",
      "2  0.241523\n",
      "3  0.274645\n",
      "4  0.332383\n",
      "   target\n",
      "0       0\n",
      "1       0\n",
      "2       0\n",
      "3       0\n",
      "4       0\n"
     ]
    }
   ],
   "source": [
    "print(target_predicted.head())\n",
    "\n",
    "def binary_convert(x):\n",
    "    threshold = 0.55\n",
    "    if x > threshold:\n",
    "        return 1\n",
    "    else:\n",
    "        return 0\n",
    "\n",
    "target_predicted['target'] = target_predicted['target'].apply(binary_convert)\n",
    "test_labels = test_v2.iloc[:,0]\n",
    "print(target_predicted.head())"
   ]
  },
  {
   "cell_type": "code",
   "execution_count": 57,
   "metadata": {
    "tags": []
   },
   "outputs": [
    {
     "data": {
      "image/png": "[encoded data removed]",
      "text/plain": [
       "<Figure size 640x480 with 1 Axes>"
      ]
     },
     "metadata": {},
     "output_type": "display_data"
    }
   ],
   "source": [
    "plot_confusion_matrix(test_labels_v2, target_predicted_v2)"
   ]
  },
  {
   "cell_type": "code",
   "execution_count": 54,
   "metadata": {
    "tags": []
   },
   "outputs": [
    {
     "name": "stdout",
     "output_type": "stream",
     "text": [
      "Sensitivity or TPR: 5.656310679611651 %\n",
      "Specificity or TNR: 98.79642383627649 %\n",
      "Precision: 55.5280213495997 %\n",
      "Negative Predictive Value: 79.7632584040351 %\n",
      "False Positive Rate: 1.2035761637235025 %\n",
      "False Negative Rate: 94.34368932038835 %\n",
      "False Discovery Rate: 44.47197865040031 %\n",
      "Accuracy: 79.2450446117413 %\n",
      "Validation AUC: 0.5222636725794407\n"
     ]
    },
    {
     "data": {
      "image/png": "[encoded data removed]",
      "text/plain": [
       "<Figure size 640x480 with 2 Axes>"
      ]
     },
     "metadata": {},
     "output_type": "display_data"
    }
   ],
   "source": [
    "plot_roc(test_labels_v2, target_predicted_v2)"
   ]
  },
  {
   "cell_type": "markdown",
   "metadata": {},
   "source": [
    "### On Premises and Cloud Model Comparison"
   ]
  },
  {
   "cell_type": "markdown",
   "metadata": {
    "tags": []
   },
   "source": [
    "| Metric                    | Model 1 (On-Premise) | Optimized Model (On-Premise) | SageMaker Linear Estimator Optimized Model | SageMaker XGBoost Optimized Model  |\n",
    "|---------------------------|----------------------|-------------------------------|--------------------------------------------|------------------------------------|\n",
    "| **Accuracy**              | 79 %                | 62 %                           | 79.25 %                                    | 79.25 %                              |\n",
    "| **Sensitivity (TPR)**     | 0.00 %              | 58.00 %                       | 5.66 %                                     | 5.66 %                             |\n",
    "| **Specificity (TNR)**     | 100.00 %            | 62.00 %                       | 98.80 %                                    | 98.80 %                            |\n",
    "| **Precision**             | 52.00 %             | 29.00 %                       | 55.53 %                                    | 55.53 %                            |"
   ]
  },
  {
   "cell_type": "markdown",
   "metadata": {},
   "source": [
    "### Comparison Between Two Approaches"
   ]
  },
  {
   "cell_type": "markdown",
   "metadata": {},
   "source": [
    "#### OnCloud Approach\n",
    "\n",
    "One thing I liked about Amazon SageMaker the most is how it manages the dependencies, environments. It makes it much easier to work to get started. You have your environment setup and you can get started quickly. Unlike on local machine where you need to setup Python virtual environment, then Jupyter server and kernel. Managing python's dependencies is an issue if you are not using virtual environment or conda.\n",
    "\n",
    "However, I find the lack of debugging option annoying in Amazon SageMaker. Maybe, my workflow using cloud is not that optimized because I am new to this approach, nonethless, I find making changes much easier on my local machine setup especially in VSCode.\n",
    "\n",
    "#### On-premise Approach\n",
    "\n",
    "On the other hand, a local machine setup often requires more effort to configure. Setting up a Python virtual environment, launching a Jupyter server, and managing dependencies can be cumbersome, especially if you're not using tools like virtualenv or Conda. Dependency conflicts are more likely on a local setup, and without careful management, they can disrupt workflows and create issues over time. However, with tools like VSCode, working locally offers more flexibility and a familiar development environment, especially for debugging.\n",
    "\n",
    "#### Conclusion\n",
    "\n",
    "While my cloud-based workflow is still evolving, especially as I gain experience with SageMaker, I recognize that each approach has its advantages. Amazon SageMaker excels in providing a ready-to-use, scalable environment, making it a powerful choice for projects where rapid setup and large-scale resources are essential"
   ]
  }
 ],
 "metadata": {
  "kernelspec": {
   "display_name": "conda_python3",
   "language": "python",
   "name": "conda_python3"
  },
  "language_info": {
   "codemirror_mode": {
    "name": "ipython",
    "version": 3
   },
   "file_extension": ".py",
   "mimetype": "text/x-python",
   "name": "python",
   "nbconvert_exporter": "python",
   "pygments_lexer": "ipython3",
   "version": "3.10.15"
  }
 },
 "nbformat": 4,
 "nbformat_minor": 4
}
